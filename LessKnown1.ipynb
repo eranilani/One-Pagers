{
 "cells": [
  {
   "cell_type": "markdown",
   "metadata": {},
   "source": [
    "#### Data Import "
   ]
  },
  {
   "cell_type": "code",
   "execution_count": 1,
   "metadata": {},
   "outputs": [],
   "source": [
    "# Imports\n",
    "import pandas as pd\n",
    "import warnings\n",
    "from helpers import * \n",
    "\n",
    "with warnings.catch_warnings():\n",
    "    warnings.simplefilter('ignore')\n",
    "    \n",
    "    # Import entities / skills / wikipedia\n",
    "    entities = pd.read_csv(\"../data/classeek_entities.csv\")\n",
    "    skills = pd.read_csv(\"../data/classeek_skills.csv\")\n",
    "    alt_names = pd.read_csv(\"../data/classeek_alternative_names.csv\")\n",
    "    performances = pd.read_csv(\"../data/classeek_performances.csv\")\n",
    "    pieces = pd.read_csv(\"../data/classeek_pieces.csv\")\n",
    "    wikipedia_pv = pd.read_csv(\"../data/classeek_wikipedia_page_views.csv\")\n",
    "    mediamentions = pd.read_csv(\"../data/classeek_media_mentions.csv\")\n",
    "    biographies = pd.read_csv(\"../data/classeek_biographies.csv\")\n",
    "\n",
    "    entities_performances = pd.read_csv(\"../data/classeek_entities_performances.csv\")\n",
    "    entities_pieces = pd.read_csv(\"../data/classeek_entities_pieces.csv\")\n",
    "    entities_skills = pd.read_csv(\"../data/classeek_entity_skills.csv\")"
   ]
  },
  {
   "cell_type": "markdown",
   "metadata": {},
   "source": [
    "#\n",
    "# Leslie Amper\n",
    "#### Entity ID : b6f086e1-56d8-4bd3-b6ff-1f01cf9c533c"
   ]
  },
  {
   "cell_type": "code",
   "execution_count": 2,
   "metadata": {},
   "outputs": [],
   "source": [
    "entity_id = 'b6f086e1-56d8-4bd3-b6ff-1f01cf9c533c'"
   ]
  },
  {
   "cell_type": "markdown",
   "metadata": {},
   "source": [
    "## Basic Informations "
   ]
  },
  {
   "cell_type": "code",
   "execution_count": 3,
   "metadata": {},
   "outputs": [
    {
     "data": {
      "text/html": [
       "<div>\n",
       "<style scoped>\n",
       "    .dataframe tbody tr th:only-of-type {\n",
       "        vertical-align: middle;\n",
       "    }\n",
       "\n",
       "    .dataframe tbody tr th {\n",
       "        vertical-align: top;\n",
       "    }\n",
       "\n",
       "    .dataframe thead th {\n",
       "        text-align: right;\n",
       "    }\n",
       "</style>\n",
       "<table border=\"1\" class=\"dataframe\">\n",
       "  <thead>\n",
       "    <tr style=\"text-align: right;\">\n",
       "      <th></th>\n",
       "      <th>id</th>\n",
       "      <th>name</th>\n",
       "      <th>gender</th>\n",
       "      <th>alive</th>\n",
       "      <th>birth_date</th>\n",
       "      <th>death_date</th>\n",
       "      <th>current_influence_percentile</th>\n",
       "    </tr>\n",
       "  </thead>\n",
       "  <tbody>\n",
       "    <tr>\n",
       "      <th>88062</th>\n",
       "      <td>b6f086e1-56d8-4bd3-b6ff-1f01cf9c533c</td>\n",
       "      <td>Leslie Amper</td>\n",
       "      <td>NaN</td>\n",
       "      <td>True</td>\n",
       "      <td>NaN</td>\n",
       "      <td>NaN</td>\n",
       "      <td>NaN</td>\n",
       "    </tr>\n",
       "  </tbody>\n",
       "</table>\n",
       "</div>"
      ],
      "text/plain": [
       "                                         id          name  gender alive  \\\n",
       "88062  b6f086e1-56d8-4bd3-b6ff-1f01cf9c533c  Leslie Amper     NaN  True   \n",
       "\n",
       "      birth_date death_date  current_influence_percentile  \n",
       "88062        NaN        NaN                           NaN  "
      ]
     },
     "execution_count": 3,
     "metadata": {},
     "output_type": "execute_result"
    }
   ],
   "source": [
    "# Basic information about the entity \n",
    "entity_info = get_info(entity_id, entities, entities_performances, entities_pieces, entities_skills, mediamentions, \n",
    "             wikipedia_pv, biographies, alt_names, include_lists = True)\n",
    "infos = ['id', 'name', 'gender', 'alive', 'birth_date', 'death_date', 'current_influence_percentile']\n",
    "entity_info.iloc[:, 0:7]"
   ]
  },
  {
   "cell_type": "code",
   "execution_count": 4,
   "metadata": {},
   "outputs": [
    {
     "data": {
      "text/html": [
       "<div>\n",
       "<style scoped>\n",
       "    .dataframe tbody tr th:only-of-type {\n",
       "        vertical-align: middle;\n",
       "    }\n",
       "\n",
       "    .dataframe tbody tr th {\n",
       "        vertical-align: top;\n",
       "    }\n",
       "\n",
       "    .dataframe thead th {\n",
       "        text-align: right;\n",
       "    }\n",
       "</style>\n",
       "<table border=\"1\" class=\"dataframe\">\n",
       "  <thead>\n",
       "    <tr style=\"text-align: right;\">\n",
       "      <th></th>\n",
       "      <th>nb_perf</th>\n",
       "      <th>nb_pieces</th>\n",
       "      <th>nb_media_mentions</th>\n",
       "      <th>nb_skills</th>\n",
       "      <th>nb_alt_names</th>\n",
       "      <th>nb_biographies</th>\n",
       "    </tr>\n",
       "  </thead>\n",
       "  <tbody>\n",
       "    <tr>\n",
       "      <th>88062</th>\n",
       "      <td>3</td>\n",
       "      <td>10</td>\n",
       "      <td>0</td>\n",
       "      <td>1</td>\n",
       "      <td>2</td>\n",
       "      <td>0</td>\n",
       "    </tr>\n",
       "  </tbody>\n",
       "</table>\n",
       "</div>"
      ],
      "text/plain": [
       "       nb_perf  nb_pieces  nb_media_mentions  nb_skills  nb_alt_names  \\\n",
       "88062        3         10                  0          1             2   \n",
       "\n",
       "       nb_biographies  \n",
       "88062               0  "
      ]
     },
     "execution_count": 4,
     "metadata": {},
     "output_type": "execute_result"
    }
   ],
   "source": [
    "# Number of cells in other tables linked to that entity \n",
    "entity_info.iloc[:, 7:13]"
   ]
  },
  {
   "cell_type": "markdown",
   "metadata": {},
   "source": [
    "## 1 - Performances "
   ]
  },
  {
   "cell_type": "code",
   "execution_count": 5,
   "metadata": {},
   "outputs": [
    {
     "data": {
      "text/html": [
       "<div>\n",
       "<style scoped>\n",
       "    .dataframe tbody tr th:only-of-type {\n",
       "        vertical-align: middle;\n",
       "    }\n",
       "\n",
       "    .dataframe tbody tr th {\n",
       "        vertical-align: top;\n",
       "    }\n",
       "\n",
       "    .dataframe thead th {\n",
       "        text-align: right;\n",
       "    }\n",
       "</style>\n",
       "<table border=\"1\" class=\"dataframe\">\n",
       "  <thead>\n",
       "    <tr style=\"text-align: right;\">\n",
       "      <th></th>\n",
       "      <th>date</th>\n",
       "      <th>venue</th>\n",
       "      <th>country</th>\n",
       "      <th>city</th>\n",
       "      <th>title</th>\n",
       "      <th>key</th>\n",
       "      <th>continent</th>\n",
       "    </tr>\n",
       "  </thead>\n",
       "  <tbody>\n",
       "    <tr>\n",
       "      <th>11507</th>\n",
       "      <td>1989-07-12 20:00:00.000000</td>\n",
       "      <td>Main Hall</td>\n",
       "      <td>United States of America</td>\n",
       "      <td>NaN</td>\n",
       "      <td>Landmark Jazz Concerts: George Antheil \"The Ba...</td>\n",
       "      <td>NaN</td>\n",
       "      <td>North America</td>\n",
       "    </tr>\n",
       "    <tr>\n",
       "      <th>32795</th>\n",
       "      <td>1986-04-13 14:00:00.000000</td>\n",
       "      <td>Carnegie Recital Hall</td>\n",
       "      <td>United States of America</td>\n",
       "      <td>NaN</td>\n",
       "      <td>Leslie Amper</td>\n",
       "      <td>NaN</td>\n",
       "      <td>North America</td>\n",
       "    </tr>\n",
       "    <tr>\n",
       "      <th>39846</th>\n",
       "      <td>1989-07-12 20:00:00.000000</td>\n",
       "      <td>Main Hall</td>\n",
       "      <td>United States of America</td>\n",
       "      <td>NaN</td>\n",
       "      <td>Landmark Jazz Concerts: George Antheil \"The Ba...</td>\n",
       "      <td>NaN</td>\n",
       "      <td>North America</td>\n",
       "    </tr>\n",
       "  </tbody>\n",
       "</table>\n",
       "</div>"
      ],
      "text/plain": [
       "                             date                  venue  \\\n",
       "11507  1989-07-12 20:00:00.000000              Main Hall   \n",
       "32795  1986-04-13 14:00:00.000000  Carnegie Recital Hall   \n",
       "39846  1989-07-12 20:00:00.000000              Main Hall   \n",
       "\n",
       "                        country city  \\\n",
       "11507  United States of America  NaN   \n",
       "32795  United States of America  NaN   \n",
       "39846  United States of America  NaN   \n",
       "\n",
       "                                                   title  key      continent  \n",
       "11507  Landmark Jazz Concerts: George Antheil \"The Ba...  NaN  North America  \n",
       "32795                                       Leslie Amper  NaN  North America  \n",
       "39846  Landmark Jazz Concerts: George Antheil \"The Ba...  NaN  North America  "
      ]
     },
     "execution_count": 5,
     "metadata": {},
     "output_type": "execute_result"
    }
   ],
   "source": [
    "# Extract performances \n",
    "df_perfs = performances[performances.id.apply(lambda x : x in entity_info.perf_list.to_list()[0])].loc[:, ['date', 'venue', 'country', 'city', 'title', 'key', 'continent']]\n",
    "df_perfs.head(10)"
   ]
  },
  {
   "cell_type": "markdown",
   "metadata": {},
   "source": [
    "## 2 - Pieces "
   ]
  },
  {
   "cell_type": "code",
   "execution_count": 6,
   "metadata": {},
   "outputs": [
    {
     "data": {
      "text/html": [
       "<div>\n",
       "<style scoped>\n",
       "    .dataframe tbody tr th:only-of-type {\n",
       "        vertical-align: middle;\n",
       "    }\n",
       "\n",
       "    .dataframe tbody tr th {\n",
       "        vertical-align: top;\n",
       "    }\n",
       "\n",
       "    .dataframe thead th {\n",
       "        text-align: right;\n",
       "    }\n",
       "</style>\n",
       "<table border=\"1\" class=\"dataframe\">\n",
       "  <thead>\n",
       "    <tr style=\"text-align: right;\">\n",
       "      <th></th>\n",
       "      <th>composer</th>\n",
       "      <th>title</th>\n",
       "      <th>source</th>\n",
       "    </tr>\n",
       "  </thead>\n",
       "  <tbody>\n",
       "    <tr>\n",
       "      <th>5309</th>\n",
       "      <td>Wolfgang Amadeus Mozart (1756—1791)</td>\n",
       "      <td>Rondo in A Minor, K. 511 (1787)</td>\n",
       "      <td>16</td>\n",
       "    </tr>\n",
       "    <tr>\n",
       "      <th>10147</th>\n",
       "      <td>Ludwig van Beethoven (1770—1827)</td>\n",
       "      <td>Variations on a Waltz by Diabelli in C Major, ...</td>\n",
       "      <td>16</td>\n",
       "    </tr>\n",
       "    <tr>\n",
       "      <th>10806</th>\n",
       "      <td>Charles T. Griffes (1884—1920)</td>\n",
       "      <td>Piano Sonata (1917-1918)</td>\n",
       "      <td>16</td>\n",
       "    </tr>\n",
       "    <tr>\n",
       "      <th>11285</th>\n",
       "      <td>George Antheil (1900—1959)</td>\n",
       "      <td>Ballet mécanique (1923-1925)</td>\n",
       "      <td>16</td>\n",
       "    </tr>\n",
       "    <tr>\n",
       "      <th>14370</th>\n",
       "      <td>Olivier Messiaen (1908—1992)</td>\n",
       "      <td>Vingt regards sur l'Enfant-Jésus: 11. Première...</td>\n",
       "      <td>16</td>\n",
       "    </tr>\n",
       "    <tr>\n",
       "      <th>15031</th>\n",
       "      <td>Olivier Messiaen (1908—1992)</td>\n",
       "      <td>Vingt regards sur l'Enfant-Jésus: 5. Regard du...</td>\n",
       "      <td>16</td>\n",
       "    </tr>\n",
       "    <tr>\n",
       "      <th>17608</th>\n",
       "      <td>Olivier Messiaen (1908—1992)</td>\n",
       "      <td>Vingt regards sur l'Enfant-Jésus: 12. La parol...</td>\n",
       "      <td>16</td>\n",
       "    </tr>\n",
       "    <tr>\n",
       "      <th>24932</th>\n",
       "      <td>George Antheil (1900—1959)</td>\n",
       "      <td>Sonata No. 2 for Violin, Piano, and Drums (1923)</td>\n",
       "      <td>16</td>\n",
       "    </tr>\n",
       "    <tr>\n",
       "      <th>24933</th>\n",
       "      <td>George Antheil (1900—1959)</td>\n",
       "      <td>String Quartet No. 1 (1924)</td>\n",
       "      <td>16</td>\n",
       "    </tr>\n",
       "    <tr>\n",
       "      <th>24934</th>\n",
       "      <td>George Antheil (1900—1959)</td>\n",
       "      <td>A Jazz Symphony (1925)</td>\n",
       "      <td>16</td>\n",
       "    </tr>\n",
       "  </tbody>\n",
       "</table>\n",
       "</div>"
      ],
      "text/plain": [
       "                                  composer  \\\n",
       "5309   Wolfgang Amadeus Mozart (1756—1791)   \n",
       "10147     Ludwig van Beethoven (1770—1827)   \n",
       "10806       Charles T. Griffes (1884—1920)   \n",
       "11285           George Antheil (1900—1959)   \n",
       "14370         Olivier Messiaen (1908—1992)   \n",
       "15031         Olivier Messiaen (1908—1992)   \n",
       "17608         Olivier Messiaen (1908—1992)   \n",
       "24932           George Antheil (1900—1959)   \n",
       "24933           George Antheil (1900—1959)   \n",
       "24934           George Antheil (1900—1959)   \n",
       "\n",
       "                                                   title  source  \n",
       "5309                     Rondo in A Minor, K. 511 (1787)      16  \n",
       "10147  Variations on a Waltz by Diabelli in C Major, ...      16  \n",
       "10806                           Piano Sonata (1917-1918)      16  \n",
       "11285                       Ballet mécanique (1923-1925)      16  \n",
       "14370  Vingt regards sur l'Enfant-Jésus: 11. Première...      16  \n",
       "15031  Vingt regards sur l'Enfant-Jésus: 5. Regard du...      16  \n",
       "17608  Vingt regards sur l'Enfant-Jésus: 12. La parol...      16  \n",
       "24932   Sonata No. 2 for Violin, Piano, and Drums (1923)      16  \n",
       "24933                        String Quartet No. 1 (1924)      16  \n",
       "24934                             A Jazz Symphony (1925)      16  "
      ]
     },
     "execution_count": 6,
     "metadata": {},
     "output_type": "execute_result"
    }
   ],
   "source": [
    "df_pieces = pieces[pieces.id.apply(lambda x : x in entity_info.pieces_list.to_list()[0])]\n",
    "df_pieces.loc[:, ['composer', 'title', 'source']].head(10)"
   ]
  },
  {
   "cell_type": "markdown",
   "metadata": {},
   "source": [
    "## 3 - Media mentions "
   ]
  },
  {
   "cell_type": "code",
   "execution_count": 7,
   "metadata": {},
   "outputs": [
    {
     "data": {
      "text/html": [
       "<div>\n",
       "<style scoped>\n",
       "    .dataframe tbody tr th:only-of-type {\n",
       "        vertical-align: middle;\n",
       "    }\n",
       "\n",
       "    .dataframe tbody tr th {\n",
       "        vertical-align: top;\n",
       "    }\n",
       "\n",
       "    .dataframe thead th {\n",
       "        text-align: right;\n",
       "    }\n",
       "</style>\n",
       "<table border=\"1\" class=\"dataframe\">\n",
       "  <thead>\n",
       "    <tr style=\"text-align: right;\">\n",
       "      <th></th>\n",
       "      <th>comparable_text</th>\n",
       "      <th>url</th>\n",
       "      <th>header_text</th>\n",
       "    </tr>\n",
       "  </thead>\n",
       "  <tbody>\n",
       "  </tbody>\n",
       "</table>\n",
       "</div>"
      ],
      "text/plain": [
       "Empty DataFrame\n",
       "Columns: [comparable_text, url, header_text]\n",
       "Index: []"
      ]
     },
     "execution_count": 7,
     "metadata": {},
     "output_type": "execute_result"
    }
   ],
   "source": [
    "df_medias = mediamentions[mediamentions.id.apply(lambda x : x in entity_info.media_mentions.to_list()[0])]\n",
    "df_medias.loc[:, ['comparable_text', 'url', 'header_text']].head(10)"
   ]
  },
  {
   "cell_type": "code",
   "execution_count": 8,
   "metadata": {},
   "outputs": [],
   "source": [
    "# One example of media mentions\n",
    "if len(df_medias) > 0 : \n",
    "    print(df_medias.iloc[0].comparable_text)"
   ]
  },
  {
   "cell_type": "markdown",
   "metadata": {},
   "source": [
    "## 4 - Wikipedia Page Views "
   ]
  },
  {
   "cell_type": "code",
   "execution_count": 9,
   "metadata": {},
   "outputs": [
    {
     "data": {
      "text/html": [
       "<div>\n",
       "<style scoped>\n",
       "    .dataframe tbody tr th:only-of-type {\n",
       "        vertical-align: middle;\n",
       "    }\n",
       "\n",
       "    .dataframe tbody tr th {\n",
       "        vertical-align: top;\n",
       "    }\n",
       "\n",
       "    .dataframe thead th {\n",
       "        text-align: right;\n",
       "    }\n",
       "</style>\n",
       "<table border=\"1\" class=\"dataframe\">\n",
       "  <thead>\n",
       "    <tr style=\"text-align: right;\">\n",
       "      <th></th>\n",
       "      <th>en</th>\n",
       "      <th>fr</th>\n",
       "      <th>de</th>\n",
       "      <th>it</th>\n",
       "      <th>ru</th>\n",
       "      <th>period_start_date</th>\n",
       "    </tr>\n",
       "  </thead>\n",
       "  <tbody>\n",
       "  </tbody>\n",
       "</table>\n",
       "</div>"
      ],
      "text/plain": [
       "Empty DataFrame\n",
       "Columns: [en, fr, de, it, ru, period_start_date]\n",
       "Index: []"
      ]
     },
     "execution_count": 9,
     "metadata": {},
     "output_type": "execute_result"
    }
   ],
   "source": [
    "df_wiki = wikipedia_pv[wikipedia_pv.id.apply(lambda x : x in entity_info.wiki_pv.to_list()[0])]\n",
    "df_wiki.loc[:, ['en', 'fr', 'de', 'it', 'ru', 'period_start_date']].head(5)"
   ]
  },
  {
   "cell_type": "code",
   "execution_count": 10,
   "metadata": {},
   "outputs": [
    {
     "data": {
      "text/plain": [
       "[<matplotlib.lines.Line2D at 0x7fe42db01460>]"
      ]
     },
     "execution_count": 10,
     "metadata": {},
     "output_type": "execute_result"
    },
    {
     "data": {
      "image/png": "[encoded data removed]",
      "text/plain": [
       "<Figure size 1296x360 with 1 Axes>"
      ]
     },
     "metadata": {
      "needs_background": "light"
     },
     "output_type": "display_data"
    }
   ],
   "source": [
    "import matplotlib.pyplot as plt\n",
    "x = df_wiki.period_start_date.to_list()\n",
    "y = df_wiki.en.to_list()\n",
    "plt.figure(figsize=[18, 5])\n",
    "plt.xticks(rotation=45)\n",
    "plt.plot(x, y)"
   ]
  },
  {
   "cell_type": "markdown",
   "metadata": {},
   "source": [
    "## 5 - Skills "
   ]
  },
  {
   "cell_type": "code",
   "execution_count": 11,
   "metadata": {},
   "outputs": [
    {
     "data": {
      "text/html": [
       "<div>\n",
       "<style scoped>\n",
       "    .dataframe tbody tr th:only-of-type {\n",
       "        vertical-align: middle;\n",
       "    }\n",
       "\n",
       "    .dataframe tbody tr th {\n",
       "        vertical-align: top;\n",
       "    }\n",
       "\n",
       "    .dataframe thead th {\n",
       "        text-align: right;\n",
       "    }\n",
       "</style>\n",
       "<table border=\"1\" class=\"dataframe\">\n",
       "  <thead>\n",
       "    <tr style=\"text-align: right;\">\n",
       "      <th></th>\n",
       "      <th>name</th>\n",
       "    </tr>\n",
       "  </thead>\n",
       "  <tbody>\n",
       "    <tr>\n",
       "      <th>56</th>\n",
       "      <td>Pianist</td>\n",
       "    </tr>\n",
       "  </tbody>\n",
       "</table>\n",
       "</div>"
      ],
      "text/plain": [
       "       name\n",
       "56  Pianist"
      ]
     },
     "execution_count": 11,
     "metadata": {},
     "output_type": "execute_result"
    }
   ],
   "source": [
    "df_skills = skills[skills.id.apply(lambda x : x in entity_info.skills_list.to_list()[0])]\n",
    "df_skills.loc[:, ['name']]"
   ]
  },
  {
   "cell_type": "markdown",
   "metadata": {},
   "source": [
    "## 6 - Alternative Names \n",
    "\n",
    "Alternative names are the names used by developpers to map down several entities to one during scraping operations. They are not related to the aliases found with fuzzy string matching during cleaning. "
   ]
  },
  {
   "cell_type": "code",
   "execution_count": 12,
   "metadata": {},
   "outputs": [
    {
     "data": {
      "text/plain": [
       "[['leslie amper', 'amper leslie']]"
      ]
     },
     "execution_count": 12,
     "metadata": {},
     "output_type": "execute_result"
    }
   ],
   "source": [
    "entity_info.alter_names.to_list()"
   ]
  },
  {
   "cell_type": "markdown",
   "metadata": {},
   "source": [
    "## 7 - Biographies "
   ]
  },
  {
   "cell_type": "code",
   "execution_count": 13,
   "metadata": {},
   "outputs": [
    {
     "data": {
      "text/html": [
       "<div>\n",
       "<style scoped>\n",
       "    .dataframe tbody tr th:only-of-type {\n",
       "        vertical-align: middle;\n",
       "    }\n",
       "\n",
       "    .dataframe tbody tr th {\n",
       "        vertical-align: top;\n",
       "    }\n",
       "\n",
       "    .dataframe thead th {\n",
       "        text-align: right;\n",
       "    }\n",
       "</style>\n",
       "<table border=\"1\" class=\"dataframe\">\n",
       "  <thead>\n",
       "    <tr style=\"text-align: right;\">\n",
       "      <th></th>\n",
       "      <th>detail</th>\n",
       "      <th>year</th>\n",
       "      <th>source</th>\n",
       "    </tr>\n",
       "  </thead>\n",
       "  <tbody>\n",
       "  </tbody>\n",
       "</table>\n",
       "</div>"
      ],
      "text/plain": [
       "Empty DataFrame\n",
       "Columns: [detail, year, source]\n",
       "Index: []"
      ]
     },
     "execution_count": 13,
     "metadata": {},
     "output_type": "execute_result"
    }
   ],
   "source": [
    "df_bios = biographies[biographies.id.apply(lambda x : x in entity_info.bios_list.to_list()[0])]\n",
    "df_bios.loc[:, ['detail', 'year', 'source']]"
   ]
  },
  {
   "cell_type": "code",
   "execution_count": 14,
   "metadata": {},
   "outputs": [],
   "source": [
    "# One bography example \n",
    "if len(df_bios) > 0 : \n",
    "    print(df_bios.iloc[0].detail)"
   ]
  },
  {
   "cell_type": "code",
   "execution_count": null,
   "metadata": {},
   "outputs": [],
   "source": []
  }
 ],
 "metadata": {
  "kernelspec": {
   "display_name": "Python 3",
   "language": "python",
   "name": "python3"
  },
  "language_info": {
   "codemirror_mode": {
    "name": "ipython",
    "version": 3
   },
   "file_extension": ".py",
   "mimetype": "text/x-python",
   "name": "python",
   "nbconvert_exporter": "python",
   "pygments_lexer": "ipython3",
   "version": "3.8.5"
  }
 },
 "nbformat": 4,
 "nbformat_minor": 4
}
