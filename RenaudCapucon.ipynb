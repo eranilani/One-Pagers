{
 "cells": [
  {
   "cell_type": "markdown",
   "metadata": {},
   "source": [
    "#### Data Import "
   ]
  },
  {
   "cell_type": "code",
   "execution_count": 29,
   "metadata": {},
   "outputs": [],
   "source": [
    "# Imports\n",
    "import pandas as pd\n",
    "import warnings\n",
    "from helpers import * \n",
    "\n",
    "with warnings.catch_warnings():\n",
    "    warnings.simplefilter('ignore')\n",
    "    \n",
    "    # Import entities / skills / wikipedia\n",
    "    entities = pd.read_csv(\"../data/classeek_entities.csv\")\n",
    "    skills = pd.read_csv(\"../data/classeek_skills.csv\")\n",
    "    alt_names = pd.read_csv(\"../data/classeek_alternative_names.csv\")\n",
    "    performances = pd.read_csv(\"../data/classeek_performances.csv\")\n",
    "    pieces = pd.read_csv(\"../data/classeek_pieces.csv\")\n",
    "    wikipedia_pv = pd.read_csv(\"../data/classeek_wikipedia_page_views.csv\")\n",
    "    mediamentions = pd.read_csv(\"../data/classeek_media_mentions.csv\")\n",
    "    biographies = pd.read_csv(\"../data/classeek_biographies.csv\")\n",
    "\n",
    "    entities_performances = pd.read_csv(\"../data/classeek_entities_performances.csv\")\n",
    "    entities_pieces = pd.read_csv(\"../data/classeek_entities_pieces.csv\")\n",
    "    entities_skills = pd.read_csv(\"../data/classeek_entity_skills.csv\")"
   ]
  },
  {
   "cell_type": "markdown",
   "metadata": {},
   "source": [
    "# \n",
    "# Renaud Capuçon \n",
    "#### Entity ID : 'd414cdfd-b2c4-4d9f-adce-7c1a6d03d162'"
   ]
  },
  {
   "cell_type": "code",
   "execution_count": 30,
   "metadata": {},
   "outputs": [],
   "source": [
    "entity_id = 'd414cdfd-b2c4-4d9f-adce-7c1a6d03d162'"
   ]
  },
  {
   "cell_type": "markdown",
   "metadata": {},
   "source": [
    "## Basic Informations "
   ]
  },
  {
   "cell_type": "code",
   "execution_count": 31,
   "metadata": {},
   "outputs": [
    {
     "data": {
      "text/html": [
       "<div>\n",
       "<style scoped>\n",
       "    .dataframe tbody tr th:only-of-type {\n",
       "        vertical-align: middle;\n",
       "    }\n",
       "\n",
       "    .dataframe tbody tr th {\n",
       "        vertical-align: top;\n",
       "    }\n",
       "\n",
       "    .dataframe thead th {\n",
       "        text-align: right;\n",
       "    }\n",
       "</style>\n",
       "<table border=\"1\" class=\"dataframe\">\n",
       "  <thead>\n",
       "    <tr style=\"text-align: right;\">\n",
       "      <th></th>\n",
       "      <th>id</th>\n",
       "      <th>name</th>\n",
       "      <th>gender</th>\n",
       "      <th>alive</th>\n",
       "      <th>birth_date</th>\n",
       "      <th>death_date</th>\n",
       "      <th>current_influence_percentile</th>\n",
       "    </tr>\n",
       "  </thead>\n",
       "  <tbody>\n",
       "    <tr>\n",
       "      <th>145377</th>\n",
       "      <td>d414cdfd-b2c4-4d9f-adce-7c1a6d03d162</td>\n",
       "      <td>Renaud Capuçon</td>\n",
       "      <td>NaN</td>\n",
       "      <td>True</td>\n",
       "      <td>NaN</td>\n",
       "      <td>NaN</td>\n",
       "      <td>99.0</td>\n",
       "    </tr>\n",
       "  </tbody>\n",
       "</table>\n",
       "</div>"
      ],
      "text/plain": [
       "                                          id            name  gender alive  \\\n",
       "145377  d414cdfd-b2c4-4d9f-adce-7c1a6d03d162  Renaud Capuçon     NaN  True   \n",
       "\n",
       "       birth_date death_date  current_influence_percentile  \n",
       "145377        NaN        NaN                          99.0  "
      ]
     },
     "execution_count": 31,
     "metadata": {},
     "output_type": "execute_result"
    }
   ],
   "source": [
    "# Basic information about the entity \n",
    "entity_info = get_info(entity_id, entities, entities_performances, entities_pieces, entities_skills, mediamentions, \n",
    "             wikipedia_pv, biographies, alt_names, include_lists = True)\n",
    "infos = ['id', 'name', 'gender', 'alive', 'birth_date', 'death_date', 'current_influence_percentile']\n",
    "entity_info.iloc[:, 0:7]"
   ]
  },
  {
   "cell_type": "code",
   "execution_count": 32,
   "metadata": {},
   "outputs": [
    {
     "data": {
      "text/html": [
       "<div>\n",
       "<style scoped>\n",
       "    .dataframe tbody tr th:only-of-type {\n",
       "        vertical-align: middle;\n",
       "    }\n",
       "\n",
       "    .dataframe tbody tr th {\n",
       "        vertical-align: top;\n",
       "    }\n",
       "\n",
       "    .dataframe thead th {\n",
       "        text-align: right;\n",
       "    }\n",
       "</style>\n",
       "<table border=\"1\" class=\"dataframe\">\n",
       "  <thead>\n",
       "    <tr style=\"text-align: right;\">\n",
       "      <th></th>\n",
       "      <th>nb_perf</th>\n",
       "      <th>nb_pieces</th>\n",
       "      <th>nb_media_mentions</th>\n",
       "      <th>nb_skills</th>\n",
       "      <th>nb_alt_names</th>\n",
       "      <th>nb_biographies</th>\n",
       "    </tr>\n",
       "  </thead>\n",
       "  <tbody>\n",
       "    <tr>\n",
       "      <th>145377</th>\n",
       "      <td>464</td>\n",
       "      <td>539</td>\n",
       "      <td>265</td>\n",
       "      <td>1</td>\n",
       "      <td>5</td>\n",
       "      <td>14</td>\n",
       "    </tr>\n",
       "  </tbody>\n",
       "</table>\n",
       "</div>"
      ],
      "text/plain": [
       "        nb_perf  nb_pieces  nb_media_mentions  nb_skills  nb_alt_names  \\\n",
       "145377      464        539                265          1             5   \n",
       "\n",
       "        nb_biographies  \n",
       "145377              14  "
      ]
     },
     "execution_count": 32,
     "metadata": {},
     "output_type": "execute_result"
    }
   ],
   "source": [
    "# Number of cells in other tables linked to that entity \n",
    "entity_info.iloc[:, 7:13]"
   ]
  },
  {
   "cell_type": "markdown",
   "metadata": {},
   "source": [
    "## 1 - Performances "
   ]
  },
  {
   "cell_type": "code",
   "execution_count": 33,
   "metadata": {},
   "outputs": [
    {
     "data": {
      "text/html": [
       "<div>\n",
       "<style scoped>\n",
       "    .dataframe tbody tr th:only-of-type {\n",
       "        vertical-align: middle;\n",
       "    }\n",
       "\n",
       "    .dataframe tbody tr th {\n",
       "        vertical-align: top;\n",
       "    }\n",
       "\n",
       "    .dataframe thead th {\n",
       "        text-align: right;\n",
       "    }\n",
       "</style>\n",
       "<table border=\"1\" class=\"dataframe\">\n",
       "  <thead>\n",
       "    <tr style=\"text-align: right;\">\n",
       "      <th></th>\n",
       "      <th>date</th>\n",
       "      <th>venue</th>\n",
       "      <th>country</th>\n",
       "      <th>city</th>\n",
       "      <th>title</th>\n",
       "      <th>key</th>\n",
       "      <th>continent</th>\n",
       "    </tr>\n",
       "  </thead>\n",
       "  <tbody>\n",
       "    <tr>\n",
       "      <th>80</th>\n",
       "      <td>2020-08-08 22:30:00.000000</td>\n",
       "      <td>Wolkenturm</td>\n",
       "      <td>Austria</td>\n",
       "      <td>Grafenegg</td>\n",
       "      <td>Glamour and dance</td>\n",
       "      <td>NaN</td>\n",
       "      <td>Europe</td>\n",
       "    </tr>\n",
       "    <tr>\n",
       "      <th>1015</th>\n",
       "      <td>2016-01-24 19:00:00.000000</td>\n",
       "      <td>Barbican Hall</td>\n",
       "      <td>United Kingdom</td>\n",
       "      <td>London</td>\n",
       "      <td>Strauss Ein Heldenleben</td>\n",
       "      <td>NaN</td>\n",
       "      <td>Europe</td>\n",
       "    </tr>\n",
       "    <tr>\n",
       "      <th>1116</th>\n",
       "      <td>2018-03-25 19:00:00.000000</td>\n",
       "      <td>Barbican Hall</td>\n",
       "      <td>United Kingdom</td>\n",
       "      <td>London</td>\n",
       "      <td>Debussy and Beyond</td>\n",
       "      <td>NaN</td>\n",
       "      <td>Europe</td>\n",
       "    </tr>\n",
       "    <tr>\n",
       "      <th>1336</th>\n",
       "      <td>2021-06-16 20:30:00.000000</td>\n",
       "      <td>Grande salle Pierre Boulez - Philharmonie</td>\n",
       "      <td>France</td>\n",
       "      <td>NaN</td>\n",
       "      <td>Orchestre de Paris / Michael Tilson Thomas</td>\n",
       "      <td>NaN</td>\n",
       "      <td>Europe</td>\n",
       "    </tr>\n",
       "    <tr>\n",
       "      <th>1337</th>\n",
       "      <td>2021-06-17 20:30:00.000000</td>\n",
       "      <td>Grande salle Pierre Boulez - Philharmonie</td>\n",
       "      <td>France</td>\n",
       "      <td>NaN</td>\n",
       "      <td>Orchestre de Paris / Michael Tilson Thomas</td>\n",
       "      <td>NaN</td>\n",
       "      <td>Europe</td>\n",
       "    </tr>\n",
       "    <tr>\n",
       "      <th>1574</th>\n",
       "      <td>2016-01-19 21:00:00.000000</td>\n",
       "      <td>Salle des concerts - Cité de la musique</td>\n",
       "      <td>France</td>\n",
       "      <td>NaN</td>\n",
       "      <td>Hommage à Adolf Busch</td>\n",
       "      <td>NaN</td>\n",
       "      <td>Europe</td>\n",
       "    </tr>\n",
       "    <tr>\n",
       "      <th>1623</th>\n",
       "      <td>2017-03-13 20:30:00.000000</td>\n",
       "      <td>Grande salle Pierre Boulez - Philharmonie</td>\n",
       "      <td>France</td>\n",
       "      <td>NaN</td>\n",
       "      <td>Brahms sonates</td>\n",
       "      <td>NaN</td>\n",
       "      <td>Europe</td>\n",
       "    </tr>\n",
       "    <tr>\n",
       "      <th>1774</th>\n",
       "      <td>2018-03-26 20:30:00.000000</td>\n",
       "      <td>Grand Théâtre de Provence</td>\n",
       "      <td>France</td>\n",
       "      <td>NaN</td>\n",
       "      <td>Debussy La mer: Aix en Provence</td>\n",
       "      <td>NaN</td>\n",
       "      <td>Europe</td>\n",
       "    </tr>\n",
       "    <tr>\n",
       "      <th>2004</th>\n",
       "      <td>2019-01-07 20:30:00.000000</td>\n",
       "      <td>Grande salle Pierre Boulez - Philharmonie</td>\n",
       "      <td>France</td>\n",
       "      <td>NaN</td>\n",
       "      <td>Ivry Gitlis &amp; friends</td>\n",
       "      <td>NaN</td>\n",
       "      <td>Europe</td>\n",
       "    </tr>\n",
       "    <tr>\n",
       "      <th>2043</th>\n",
       "      <td>2021-06-15 20:30:00.000000</td>\n",
       "      <td>Grande salle Pierre Boulez - Philharmonie</td>\n",
       "      <td>France</td>\n",
       "      <td>NaN</td>\n",
       "      <td>Tour du monde Saint-Saëns</td>\n",
       "      <td>NaN</td>\n",
       "      <td>Europe</td>\n",
       "    </tr>\n",
       "  </tbody>\n",
       "</table>\n",
       "</div>"
      ],
      "text/plain": [
       "                            date                                      venue  \\\n",
       "80    2020-08-08 22:30:00.000000                                 Wolkenturm   \n",
       "1015  2016-01-24 19:00:00.000000                              Barbican Hall   \n",
       "1116  2018-03-25 19:00:00.000000                              Barbican Hall   \n",
       "1336  2021-06-16 20:30:00.000000  Grande salle Pierre Boulez - Philharmonie   \n",
       "1337  2021-06-17 20:30:00.000000  Grande salle Pierre Boulez - Philharmonie   \n",
       "1574  2016-01-19 21:00:00.000000    Salle des concerts - Cité de la musique   \n",
       "1623  2017-03-13 20:30:00.000000  Grande salle Pierre Boulez - Philharmonie   \n",
       "1774  2018-03-26 20:30:00.000000                  Grand Théâtre de Provence   \n",
       "2004  2019-01-07 20:30:00.000000  Grande salle Pierre Boulez - Philharmonie   \n",
       "2043  2021-06-15 20:30:00.000000  Grande salle Pierre Boulez - Philharmonie   \n",
       "\n",
       "             country       city                                       title  \\\n",
       "80           Austria  Grafenegg                           Glamour and dance   \n",
       "1015  United Kingdom     London                     Strauss Ein Heldenleben   \n",
       "1116  United Kingdom     London                          Debussy and Beyond   \n",
       "1336          France        NaN  Orchestre de Paris / Michael Tilson Thomas   \n",
       "1337          France        NaN  Orchestre de Paris / Michael Tilson Thomas   \n",
       "1574          France        NaN                       Hommage à Adolf Busch   \n",
       "1623          France        NaN                              Brahms sonates   \n",
       "1774          France        NaN             Debussy La mer: Aix en Provence   \n",
       "2004          France        NaN                       Ivry Gitlis & friends   \n",
       "2043          France        NaN                   Tour du monde Saint-Saëns   \n",
       "\n",
       "      key continent  \n",
       "80    NaN    Europe  \n",
       "1015  NaN    Europe  \n",
       "1116  NaN    Europe  \n",
       "1336  NaN    Europe  \n",
       "1337  NaN    Europe  \n",
       "1574  NaN    Europe  \n",
       "1623  NaN    Europe  \n",
       "1774  NaN    Europe  \n",
       "2004  NaN    Europe  \n",
       "2043  NaN    Europe  "
      ]
     },
     "execution_count": 33,
     "metadata": {},
     "output_type": "execute_result"
    }
   ],
   "source": [
    "# Extract performances \n",
    "df_perfs = performances[performances.id.apply(lambda x : x in entity_info.perf_list.to_list()[0])].loc[:, ['date', 'venue', 'country', 'city', 'title', 'key', 'continent']]\n",
    "df_perfs.head(10)"
   ]
  },
  {
   "cell_type": "markdown",
   "metadata": {},
   "source": [
    "## 2 - Pieces "
   ]
  },
  {
   "cell_type": "code",
   "execution_count": 34,
   "metadata": {},
   "outputs": [
    {
     "data": {
      "text/html": [
       "<div>\n",
       "<style scoped>\n",
       "    .dataframe tbody tr th:only-of-type {\n",
       "        vertical-align: middle;\n",
       "    }\n",
       "\n",
       "    .dataframe tbody tr th {\n",
       "        vertical-align: top;\n",
       "    }\n",
       "\n",
       "    .dataframe thead th {\n",
       "        text-align: right;\n",
       "    }\n",
       "</style>\n",
       "<table border=\"1\" class=\"dataframe\">\n",
       "  <thead>\n",
       "    <tr style=\"text-align: right;\">\n",
       "      <th></th>\n",
       "      <th>composer</th>\n",
       "      <th>title</th>\n",
       "      <th>source</th>\n",
       "    </tr>\n",
       "  </thead>\n",
       "  <tbody>\n",
       "    <tr>\n",
       "      <th>396</th>\n",
       "      <td>Béla Bartók (18811945)</td>\n",
       "      <td>Violin Concerto No. 2, Sz. 112</td>\n",
       "      <td>3</td>\n",
       "    </tr>\n",
       "    <tr>\n",
       "      <th>397</th>\n",
       "      <td>Igor Stravinsky (18821971)</td>\n",
       "      <td>The Song of the Nightingale</td>\n",
       "      <td>3</td>\n",
       "    </tr>\n",
       "    <tr>\n",
       "      <th>398</th>\n",
       "      <td>Claude Debussy (18621918)</td>\n",
       "      <td>The Sea, three symphonic sketches for orchestra</td>\n",
       "      <td>3</td>\n",
       "    </tr>\n",
       "    <tr>\n",
       "      <th>411</th>\n",
       "      <td>Robert Schumann (1810-1856)</td>\n",
       "      <td>Piano Quartet in E flat major, Op. 47</td>\n",
       "      <td>3</td>\n",
       "    </tr>\n",
       "    <tr>\n",
       "      <th>412</th>\n",
       "      <td>Thierry Escaich (born 1965)</td>\n",
       "      <td>World premiere for strings sextet (commissione...</td>\n",
       "      <td>3</td>\n",
       "    </tr>\n",
       "    <tr>\n",
       "      <th>413</th>\n",
       "      <td>Johannes Brahms (1833-1897)</td>\n",
       "      <td>Hungarian Dances (for piano four hands)</td>\n",
       "      <td>3</td>\n",
       "    </tr>\n",
       "    <tr>\n",
       "      <th>414</th>\n",
       "      <td>César Franck (1822-1897)</td>\n",
       "      <td>Piano Quintet in F Minor, FWV 7</td>\n",
       "      <td>3</td>\n",
       "    </tr>\n",
       "    <tr>\n",
       "      <th>415</th>\n",
       "      <td>Hector Berlioz (1803-1869)</td>\n",
       "      <td>Le Carnaval romain, Op.9</td>\n",
       "      <td>3</td>\n",
       "    </tr>\n",
       "    <tr>\n",
       "      <th>416</th>\n",
       "      <td>Felix Mendelssohn (1809-1847)</td>\n",
       "      <td>Violin Concerto in E minor, Op. 64</td>\n",
       "      <td>3</td>\n",
       "    </tr>\n",
       "    <tr>\n",
       "      <th>417</th>\n",
       "      <td>Antonín Dvořák (1841-1904)</td>\n",
       "      <td>Symphony No. 9 in E minor, \"From the New World...</td>\n",
       "      <td>3</td>\n",
       "    </tr>\n",
       "  </tbody>\n",
       "</table>\n",
       "</div>"
      ],
      "text/plain": [
       "                          composer  \\\n",
       "396        Béla Bartók (18811945)   \n",
       "397    Igor Stravinsky (18821971)   \n",
       "398     Claude Debussy (18621918)   \n",
       "411    Robert Schumann (1810-1856)   \n",
       "412    Thierry Escaich (born 1965)   \n",
       "413    Johannes Brahms (1833-1897)   \n",
       "414       César Franck (1822-1897)   \n",
       "415     Hector Berlioz (1803-1869)   \n",
       "416  Felix Mendelssohn (1809-1847)   \n",
       "417     Antonín Dvořák (1841-1904)   \n",
       "\n",
       "                                                 title  source  \n",
       "396                     Violin Concerto No. 2, Sz. 112       3  \n",
       "397                        The Song of the Nightingale       3  \n",
       "398    The Sea, three symphonic sketches for orchestra       3  \n",
       "411              Piano Quartet in E flat major, Op. 47       3  \n",
       "412  World premiere for strings sextet (commissione...       3  \n",
       "413            Hungarian Dances (for piano four hands)       3  \n",
       "414                    Piano Quintet in F Minor, FWV 7       3  \n",
       "415                           Le Carnaval romain, Op.9       3  \n",
       "416                 Violin Concerto in E minor, Op. 64       3  \n",
       "417  Symphony No. 9 in E minor, \"From the New World...       3  "
      ]
     },
     "execution_count": 34,
     "metadata": {},
     "output_type": "execute_result"
    }
   ],
   "source": [
    "df_pieces = pieces[pieces.id.apply(lambda x : x in entity_info.pieces_list.to_list()[0])]\n",
    "df_pieces.loc[:, ['composer', 'title', 'source']].head(10)"
   ]
  },
  {
   "cell_type": "markdown",
   "metadata": {},
   "source": [
    "## 3 - Media mentions "
   ]
  },
  {
   "cell_type": "code",
   "execution_count": 35,
   "metadata": {},
   "outputs": [
    {
     "data": {
      "text/html": [
       "<div>\n",
       "<style scoped>\n",
       "    .dataframe tbody tr th:only-of-type {\n",
       "        vertical-align: middle;\n",
       "    }\n",
       "\n",
       "    .dataframe tbody tr th {\n",
       "        vertical-align: top;\n",
       "    }\n",
       "\n",
       "    .dataframe thead th {\n",
       "        text-align: right;\n",
       "    }\n",
       "</style>\n",
       "<table border=\"1\" class=\"dataframe\">\n",
       "  <thead>\n",
       "    <tr style=\"text-align: right;\">\n",
       "      <th></th>\n",
       "      <th>comparable_text</th>\n",
       "      <th>url</th>\n",
       "      <th>header_text</th>\n",
       "    </tr>\n",
       "  </thead>\n",
       "  <tbody>\n",
       "    <tr>\n",
       "      <th>44856</th>\n",
       "      <td>The best new classical albums – June 2017</td>\n",
       "      <td>https://www.gramophone.co.uk/features/article/...</td>\n",
       "      <td>The best new classical albums – June 2017</td>\n",
       "    </tr>\n",
       "    <tr>\n",
       "      <th>178640</th>\n",
       "      <td>Au Festival de Menton, Fazil Say en archange ...</td>\n",
       "      <td>https://www.lemonde.fr/musiques/article/2017/0...</td>\n",
       "      <td>Au Festival de Menton, Fazil Say en archange d...</td>\n",
       "    </tr>\n",
       "    <tr>\n",
       "      <th>178834</th>\n",
       "      <td>A Verbier, il pleut aussi des stars Depuis sa...</td>\n",
       "      <td>https://www.lemonde.fr/musiques/article/2017/0...</td>\n",
       "      <td>A Verbier, il pleut aussi des stars</td>\n",
       "    </tr>\n",
       "    <tr>\n",
       "      <th>178950</th>\n",
       "      <td>A Aix, les doigts de fée de Martha Argerich D...</td>\n",
       "      <td>https://www.lemonde.fr/culture/article/2014/04...</td>\n",
       "      <td>A Aix, les doigts de fée de Martha Argerich</td>\n",
       "    </tr>\n",
       "    <tr>\n",
       "      <th>179417</th>\n",
       "      <td>La jeune garde chambriste fête Pâques à Deauv...</td>\n",
       "      <td>https://www.lemonde.fr/archives/article/1998/0...</td>\n",
       "      <td>La jeune garde chambriste fête Pâques à Deauville</td>\n",
       "    </tr>\n",
       "    <tr>\n",
       "      <th>179418</th>\n",
       "      <td>Carnet de notes (2) C’est à voir. Chaque anné...</td>\n",
       "      <td>https://www.lemonde.fr/idees/article/2014/02/0...</td>\n",
       "      <td>Carnet de notes (2)</td>\n",
       "    </tr>\n",
       "    <tr>\n",
       "      <th>179419</th>\n",
       "      <td>Les caciques favoris Aux Victoires de la musi...</td>\n",
       "      <td>https://www.lemonde.fr/idees/article/2013/02/2...</td>\n",
       "      <td>Les caciques favoris</td>\n",
       "    </tr>\n",
       "    <tr>\n",
       "      <th>179420</th>\n",
       "      <td>L'ascension fulgurante du chef d'orchestre Ya...</td>\n",
       "      <td>https://www.lemonde.fr/culture/article/2010/09...</td>\n",
       "      <td>L'ascension fulgurante du chef d'orchestre Yan...</td>\n",
       "    </tr>\n",
       "    <tr>\n",
       "      <th>179421</th>\n",
       "      <td>Le chef Paavo Järvi dirige Brahms et déçoit P...</td>\n",
       "      <td>https://www.lemonde.fr/culture/article/2007/10...</td>\n",
       "      <td>Le chef Paavo Järvi dirige Brahms et déçoit</td>\n",
       "    </tr>\n",
       "    <tr>\n",
       "      <th>179422</th>\n",
       "      <td>Bach, les soeurs Labèque, les Jackson Five : ...</td>\n",
       "      <td>https://www.lemonde.fr/culture/article/2006/05...</td>\n",
       "      <td>Bach, les soeurs Labèque, les Jackson Five : l...</td>\n",
       "    </tr>\n",
       "  </tbody>\n",
       "</table>\n",
       "</div>"
      ],
      "text/plain": [
       "                                          comparable_text  \\\n",
       "44856           The best new classical albums – June 2017   \n",
       "178640   Au Festival de Menton, Fazil Say en archange ...   \n",
       "178834   A Verbier, il pleut aussi des stars Depuis sa...   \n",
       "178950   A Aix, les doigts de fée de Martha Argerich D...   \n",
       "179417   La jeune garde chambriste fête Pâques à Deauv...   \n",
       "179418   Carnet de notes (2) C’est à voir. Chaque anné...   \n",
       "179419   Les caciques favoris Aux Victoires de la musi...   \n",
       "179420   L'ascension fulgurante du chef d'orchestre Ya...   \n",
       "179421   Le chef Paavo Järvi dirige Brahms et déçoit P...   \n",
       "179422   Bach, les soeurs Labèque, les Jackson Five : ...   \n",
       "\n",
       "                                                      url  \\\n",
       "44856   https://www.gramophone.co.uk/features/article/...   \n",
       "178640  https://www.lemonde.fr/musiques/article/2017/0...   \n",
       "178834  https://www.lemonde.fr/musiques/article/2017/0...   \n",
       "178950  https://www.lemonde.fr/culture/article/2014/04...   \n",
       "179417  https://www.lemonde.fr/archives/article/1998/0...   \n",
       "179418  https://www.lemonde.fr/idees/article/2014/02/0...   \n",
       "179419  https://www.lemonde.fr/idees/article/2013/02/2...   \n",
       "179420  https://www.lemonde.fr/culture/article/2010/09...   \n",
       "179421  https://www.lemonde.fr/culture/article/2007/10...   \n",
       "179422  https://www.lemonde.fr/culture/article/2006/05...   \n",
       "\n",
       "                                              header_text  \n",
       "44856           The best new classical albums – June 2017  \n",
       "178640  Au Festival de Menton, Fazil Say en archange d...  \n",
       "178834                A Verbier, il pleut aussi des stars  \n",
       "178950        A Aix, les doigts de fée de Martha Argerich  \n",
       "179417  La jeune garde chambriste fête Pâques à Deauville  \n",
       "179418                                Carnet de notes (2)  \n",
       "179419                               Les caciques favoris  \n",
       "179420  L'ascension fulgurante du chef d'orchestre Yan...  \n",
       "179421        Le chef Paavo Järvi dirige Brahms et déçoit  \n",
       "179422  Bach, les soeurs Labèque, les Jackson Five : l...  "
      ]
     },
     "execution_count": 35,
     "metadata": {},
     "output_type": "execute_result"
    }
   ],
   "source": [
    "df_medias = mediamentions[mediamentions.id.apply(lambda x : x in entity_info.media_mentions.to_list()[0])]\n",
    "df_medias.loc[:, ['comparable_text', 'url', 'header_text']].head(10)"
   ]
  },
  {
   "cell_type": "code",
   "execution_count": 36,
   "metadata": {},
   "outputs": [
    {
     "data": {
      "text/plain": [
       "' A Verbier, il pleut aussi des stars Depuis sa création en 1994, le festival suisse, qui accueille monstres sacrés et jeunes prodiges, ouvre sous la pluie. '"
      ]
     },
     "execution_count": 36,
     "metadata": {},
     "output_type": "execute_result"
    }
   ],
   "source": [
    "# One example of media mention\n",
    "df_medias.iloc[2].comparable_text"
   ]
  },
  {
   "cell_type": "markdown",
   "metadata": {},
   "source": [
    "## 4 - Wikipedia Page Views "
   ]
  },
  {
   "cell_type": "code",
   "execution_count": 37,
   "metadata": {},
   "outputs": [
    {
     "data": {
      "text/html": [
       "<div>\n",
       "<style scoped>\n",
       "    .dataframe tbody tr th:only-of-type {\n",
       "        vertical-align: middle;\n",
       "    }\n",
       "\n",
       "    .dataframe tbody tr th {\n",
       "        vertical-align: top;\n",
       "    }\n",
       "\n",
       "    .dataframe thead th {\n",
       "        text-align: right;\n",
       "    }\n",
       "</style>\n",
       "<table border=\"1\" class=\"dataframe\">\n",
       "  <thead>\n",
       "    <tr style=\"text-align: right;\">\n",
       "      <th></th>\n",
       "      <th>en</th>\n",
       "      <th>fr</th>\n",
       "      <th>de</th>\n",
       "      <th>it</th>\n",
       "      <th>ru</th>\n",
       "      <th>period_start_date</th>\n",
       "    </tr>\n",
       "  </thead>\n",
       "  <tbody>\n",
       "    <tr>\n",
       "      <th>11236</th>\n",
       "      <td>1399.0</td>\n",
       "      <td>8618.0</td>\n",
       "      <td>298.0</td>\n",
       "      <td>75.0</td>\n",
       "      <td>NaN</td>\n",
       "      <td>2015-10-01</td>\n",
       "    </tr>\n",
       "    <tr>\n",
       "      <th>11237</th>\n",
       "      <td>1360.0</td>\n",
       "      <td>4573.0</td>\n",
       "      <td>205.0</td>\n",
       "      <td>72.0</td>\n",
       "      <td>NaN</td>\n",
       "      <td>2015-11-01</td>\n",
       "    </tr>\n",
       "    <tr>\n",
       "      <th>11238</th>\n",
       "      <td>1004.0</td>\n",
       "      <td>16433.0</td>\n",
       "      <td>300.0</td>\n",
       "      <td>65.0</td>\n",
       "      <td>NaN</td>\n",
       "      <td>2015-12-01</td>\n",
       "    </tr>\n",
       "    <tr>\n",
       "      <th>11239</th>\n",
       "      <td>1297.0</td>\n",
       "      <td>15794.0</td>\n",
       "      <td>668.0</td>\n",
       "      <td>76.0</td>\n",
       "      <td>NaN</td>\n",
       "      <td>2016-01-01</td>\n",
       "    </tr>\n",
       "    <tr>\n",
       "      <th>11240</th>\n",
       "      <td>1854.0</td>\n",
       "      <td>34104.0</td>\n",
       "      <td>525.0</td>\n",
       "      <td>116.0</td>\n",
       "      <td>NaN</td>\n",
       "      <td>2016-02-01</td>\n",
       "    </tr>\n",
       "  </tbody>\n",
       "</table>\n",
       "</div>"
      ],
      "text/plain": [
       "           en       fr     de     it  ru period_start_date\n",
       "11236  1399.0   8618.0  298.0   75.0 NaN        2015-10-01\n",
       "11237  1360.0   4573.0  205.0   72.0 NaN        2015-11-01\n",
       "11238  1004.0  16433.0  300.0   65.0 NaN        2015-12-01\n",
       "11239  1297.0  15794.0  668.0   76.0 NaN        2016-01-01\n",
       "11240  1854.0  34104.0  525.0  116.0 NaN        2016-02-01"
      ]
     },
     "execution_count": 37,
     "metadata": {},
     "output_type": "execute_result"
    }
   ],
   "source": [
    "df_wiki = wikipedia_pv[wikipedia_pv.id.apply(lambda x : x in entity_info.wiki_pv.to_list()[0])]\n",
    "df_wiki.loc[:, ['en', 'fr', 'de', 'it', 'ru', 'period_start_date']].head(5)"
   ]
  },
  {
   "cell_type": "code",
   "execution_count": 38,
   "metadata": {},
   "outputs": [
    {
     "data": {
      "text/plain": [
       "[<matplotlib.lines.Line2D at 0x7fdcc1fc89a0>]"
      ]
     },
     "execution_count": 38,
     "metadata": {},
     "output_type": "execute_result"
    },
    {
     "data": {
      "image/png": "[encoded data removed]",
      "text/plain": [
       "<Figure size 1296x360 with 1 Axes>"
      ]
     },
     "metadata": {
      "needs_background": "light"
     },
     "output_type": "display_data"
    }
   ],
   "source": [
    "import matplotlib.pyplot as plt\n",
    "x = df_wiki.period_start_date.to_list()\n",
    "y = df_wiki.en.to_list()\n",
    "plt.figure(figsize=[18, 5])\n",
    "plt.xticks(rotation=45)\n",
    "plt.plot(x, y)"
   ]
  },
  {
   "cell_type": "markdown",
   "metadata": {},
   "source": [
    "## 5 - Skills "
   ]
  },
  {
   "cell_type": "code",
   "execution_count": 39,
   "metadata": {},
   "outputs": [
    {
     "data": {
      "text/html": [
       "<div>\n",
       "<style scoped>\n",
       "    .dataframe tbody tr th:only-of-type {\n",
       "        vertical-align: middle;\n",
       "    }\n",
       "\n",
       "    .dataframe tbody tr th {\n",
       "        vertical-align: top;\n",
       "    }\n",
       "\n",
       "    .dataframe thead th {\n",
       "        text-align: right;\n",
       "    }\n",
       "</style>\n",
       "<table border=\"1\" class=\"dataframe\">\n",
       "  <thead>\n",
       "    <tr style=\"text-align: right;\">\n",
       "      <th></th>\n",
       "      <th>name</th>\n",
       "    </tr>\n",
       "  </thead>\n",
       "  <tbody>\n",
       "    <tr>\n",
       "      <th>57</th>\n",
       "      <td>Violinist</td>\n",
       "    </tr>\n",
       "  </tbody>\n",
       "</table>\n",
       "</div>"
      ],
      "text/plain": [
       "         name\n",
       "57  Violinist"
      ]
     },
     "execution_count": 39,
     "metadata": {},
     "output_type": "execute_result"
    }
   ],
   "source": [
    "df_skills = skills[skills.id.apply(lambda x : x in entity_info.skills_list.to_list()[0])]\n",
    "df_skills.loc[:, ['name']]"
   ]
  },
  {
   "cell_type": "markdown",
   "metadata": {},
   "source": [
    "## 6 - Alternative Names \n",
    "\n",
    "Alternative names are the names used by developpers to map down several entities to one during scraping operations. They are not related to the aliases found with fuzzy string matching during cleaning. "
   ]
  },
  {
   "cell_type": "code",
   "execution_count": 40,
   "metadata": {},
   "outputs": [
    {
     "data": {
      "text/plain": [
       "[['capuçon renaud',\n",
       "  'renaud capucon',\n",
       "  'renaud capuçon',\n",
       "  'renaud capuçon, violon**',\n",
       "  'renaud capuçon, violin']]"
      ]
     },
     "execution_count": 40,
     "metadata": {},
     "output_type": "execute_result"
    }
   ],
   "source": [
    "entity_info.alter_names.to_list()"
   ]
  },
  {
   "cell_type": "markdown",
   "metadata": {},
   "source": [
    "## 7 - Biographies "
   ]
  },
  {
   "cell_type": "code",
   "execution_count": 41,
   "metadata": {},
   "outputs": [
    {
     "data": {
      "text/html": [
       "<div>\n",
       "<style scoped>\n",
       "    .dataframe tbody tr th:only-of-type {\n",
       "        vertical-align: middle;\n",
       "    }\n",
       "\n",
       "    .dataframe tbody tr th {\n",
       "        vertical-align: top;\n",
       "    }\n",
       "\n",
       "    .dataframe thead th {\n",
       "        text-align: right;\n",
       "    }\n",
       "</style>\n",
       "<table border=\"1\" class=\"dataframe\">\n",
       "  <thead>\n",
       "    <tr style=\"text-align: right;\">\n",
       "      <th></th>\n",
       "      <th>detail</th>\n",
       "      <th>year</th>\n",
       "      <th>source</th>\n",
       "    </tr>\n",
       "  </thead>\n",
       "  <tbody>\n",
       "    <tr>\n",
       "      <th>31385</th>\n",
       "      <td>Né à Chambéry en 1976, Renaud Capuçon étudie a...</td>\n",
       "      <td>2020</td>\n",
       "      <td>35</td>\n",
       "    </tr>\n",
       "    <tr>\n",
       "      <th>55573</th>\n",
       "      <td>French violinist Renaud Capuçon is firmly esta...</td>\n",
       "      <td>1976</td>\n",
       "      <td>4</td>\n",
       "    </tr>\n",
       "    <tr>\n",
       "      <th>145</th>\n",
       "      <td>French violinist Renaud Capuçon is firmly esta...</td>\n",
       "      <td>2018</td>\n",
       "      <td>14</td>\n",
       "    </tr>\n",
       "    <tr>\n",
       "      <th>9312</th>\n",
       "      <td>French violinist Renaud Capuçon is firmly esta...</td>\n",
       "      <td>2019</td>\n",
       "      <td>14</td>\n",
       "    </tr>\n",
       "    <tr>\n",
       "      <th>46860</th>\n",
       "      <td>Born in Chambéry in 1976, Renaud Capuçon bega...</td>\n",
       "      <td>2018</td>\n",
       "      <td>20</td>\n",
       "    </tr>\n",
       "    <tr>\n",
       "      <th>847</th>\n",
       "      <td>French violinist Renaud Capuçon is firmly esta...</td>\n",
       "      <td>1976</td>\n",
       "      <td>4</td>\n",
       "    </tr>\n",
       "    <tr>\n",
       "      <th>20044</th>\n",
       "      <td>Né à Chambéry en 1976, Renaud Capuçon étudie a...</td>\n",
       "      <td>2019</td>\n",
       "      <td>35</td>\n",
       "    </tr>\n",
       "    <tr>\n",
       "      <th>39572</th>\n",
       "      <td>French violinist Renaud Capuçon is firmly esta...</td>\n",
       "      <td>2018</td>\n",
       "      <td>12</td>\n",
       "    </tr>\n",
       "    <tr>\n",
       "      <th>31212</th>\n",
       "      <td>French violinist Renaud Capuçon is firmly esta...</td>\n",
       "      <td>1976</td>\n",
       "      <td>4</td>\n",
       "    </tr>\n",
       "    <tr>\n",
       "      <th>13837</th>\n",
       "      <td>French violinist Renaud Capuçon is one of the ...</td>\n",
       "      <td>2018</td>\n",
       "      <td>20</td>\n",
       "    </tr>\n",
       "  </tbody>\n",
       "</table>\n",
       "</div>"
      ],
      "text/plain": [
       "                                                  detail  year  source\n",
       "31385  Né à Chambéry en 1976, Renaud Capuçon étudie a...  2020      35\n",
       "55573  French violinist Renaud Capuçon is firmly esta...  1976       4\n",
       "145    French violinist Renaud Capuçon is firmly esta...  2018      14\n",
       "9312   French violinist Renaud Capuçon is firmly esta...  2019      14\n",
       "46860   Born in Chambéry in 1976, Renaud Capuçon bega...  2018      20\n",
       "847    French violinist Renaud Capuçon is firmly esta...  1976       4\n",
       "20044  Né à Chambéry en 1976, Renaud Capuçon étudie a...  2019      35\n",
       "39572  French violinist Renaud Capuçon is firmly esta...  2018      12\n",
       "31212  French violinist Renaud Capuçon is firmly esta...  1976       4\n",
       "13837  French violinist Renaud Capuçon is one of the ...  2018      20"
      ]
     },
     "execution_count": 41,
     "metadata": {},
     "output_type": "execute_result"
    }
   ],
   "source": [
    "df_bios = biographies[biographies.id.apply(lambda x : x in entity_info.bios_list.to_list()[0])]\n",
    "df_bios.loc[:, ['detail', 'year', 'source']].sample(10)"
   ]
  },
  {
   "cell_type": "code",
   "execution_count": 42,
   "metadata": {},
   "outputs": [
    {
     "data": {
      "text/plain": [
       "\"French violinist Renaud Capuçon is firmly established internationally as a major soloist, recitalist and chamber musician. He is known and loved for his poise, depth of tone and virtuosity, and he works with the world’s most prestigious orchestras, artists, venues and festivals. \\nBorn in Chambéry in 1976, Renaud Capuçon began his studies at the Conservatoire National Supérieur de Musique de Paris at the age of fourteen, winning numerous awards during his five years there. Following this, Capuçon moved to Berlin to study with Thomas Brandis and Isaac Stern and was awarded the Prize of the Berlin Academy of Arts. In 1997, he was invited by Claudio Abbado to become concert master of the Gustav Mahler Jugendorchester, which he led for three summers, working with conductors including Boulez, Ozawa, Welser-Möst and Claudio Abbado. \\nSince then, Capuçon has established himself as a soloist at the very highest level. He performs with leading orchestras such as the Berliner Philharmoniker, Wiener Philharmoniker, London Symphony Orchestra (LSO), Chamber Orchestra of Europe, Orchestre National de France, Orchestre Philharmonique de Radio France, Filarmonica della Scala, Boston Symphony and New York Philharmonic. His many conductor relationships include Gergiev, Barenboim, Bychkov, Dénève, Dohnanyi, Dudamel, Eschenbach, Haitink, Harding, Paavo Järvi, Nelsons, Nézet-Seguin, Roth, Shani, Ticciati, van Zweden and Long Yu. Highlights of the 2018/19 season include performances with the Wiener Symphoniker, Orchestre de Paris, Rotterdam Philharmonic, Camerata Salzburg, Konzerthausorchester Berlin, New York Philharmonic, National Symphony Orchestra, New World Symphony and a tour of Europe with the Sydney Symphony Orchestra. \\nA great commitment to chamber music has led him to collaborations with Argerich, Angelich, Barenboim, Bashmet, Bronfman, Buniatishvili, Grimaud, Hagen, Ma, Pires, Trifonov and Yuja Wang, as well as with his brother, cellist Gautier Capuçon, and have taken him, among others, to the Berlin, Lucerne, Verbier, Aix-en-Provence, Roque d’Anthéron, San Sebastián, Stresa, Salzburg, Edinburgh International and Tanglewood festivals. He is also the Artistic Director of two festivals, the Sommets Musicaux de Gstaad, since 2016, and the Easter Festival in Aix-en-Provence, which he founded in 2013. \\nHe has built an extensive discography and records exclusively with Erato/Warner Classics. Recent releases include a recording of Bartok’s two violin concerti with the London Symphony Orchestra / Roth, Brahms and Berg with the Wiener Philharmoniker / Harding, and chamber music of Debussy. His latest recording, 'Au Cinema', featuring much loved selections from film music, releases in October 2018. \\nIn 2017, Capuçon founded a new ensemble, the Lausanne Soloists, comprised of current and former students of the Haute École de Musique de Lausanne, where he has held a professorship since 2014. He plays the Guarneri del Gesù 'Panette' (1737), which belonged to Isaac Stern. In June 2011 he was appointed 'Chevalier dans l'Ordre National du Mérite' and in March 2016 'Chevalier de la Légion d'honneur' by the French Government. \\nSeason 2018/2019 \\n\""
      ]
     },
     "execution_count": 42,
     "metadata": {},
     "output_type": "execute_result"
    }
   ],
   "source": [
    "# One bography example \n",
    "df_bios.iloc[0].detail"
   ]
  },
  {
   "cell_type": "code",
   "execution_count": null,
   "metadata": {},
   "outputs": [],
   "source": []
  }
 ],
 "metadata": {
  "kernelspec": {
   "display_name": "Python 3",
   "language": "python",
   "name": "python3"
  },
  "language_info": {
   "codemirror_mode": {
    "name": "ipython",
    "version": 3
   },
   "file_extension": ".py",
   "mimetype": "text/x-python",
   "name": "python",
   "nbconvert_exporter": "python",
   "pygments_lexer": "ipython3",
   "version": "3.8.5"
  }
 },
 "nbformat": 4,
 "nbformat_minor": 4
}
