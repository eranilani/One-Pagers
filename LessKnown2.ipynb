{
 "cells": [
  {
   "cell_type": "markdown",
   "metadata": {},
   "source": [
    "#### Data Import "
   ]
  },
  {
   "cell_type": "code",
   "execution_count": 1,
   "metadata": {},
   "outputs": [],
   "source": [
    "# Imports\n",
    "import pandas as pd\n",
    "import warnings\n",
    "from helpers import * \n",
    "\n",
    "with warnings.catch_warnings():\n",
    "    warnings.simplefilter('ignore')\n",
    "    \n",
    "    # Import entities / skills / wikipedia\n",
    "    entities = pd.read_csv(\"../data/classeek_entities.csv\")\n",
    "    skills = pd.read_csv(\"../data/classeek_skills.csv\")\n",
    "    alt_names = pd.read_csv(\"../data/classeek_alternative_names.csv\")\n",
    "    performances = pd.read_csv(\"../data/classeek_performances.csv\")\n",
    "    pieces = pd.read_csv(\"../data/classeek_pieces.csv\")\n",
    "    wikipedia_pv = pd.read_csv(\"../data/classeek_wikipedia_page_views.csv\")\n",
    "    mediamentions = pd.read_csv(\"../data/classeek_media_mentions.csv\")\n",
    "    biographies = pd.read_csv(\"../data/classeek_biographies.csv\")\n",
    "\n",
    "    entities_performances = pd.read_csv(\"../data/classeek_entities_performances.csv\")\n",
    "    entities_pieces = pd.read_csv(\"../data/classeek_entities_pieces.csv\")\n",
    "    entities_skills = pd.read_csv(\"../data/classeek_entity_skills.csv\")"
   ]
  },
  {
   "cell_type": "markdown",
   "metadata": {},
   "source": [
    "#\n",
    "# Eunice Kim\n",
    "#### Entity ID : ddd9bb4b-8965-4046-8b20-9b2f273fe0d9"
   ]
  },
  {
   "cell_type": "code",
   "execution_count": 2,
   "metadata": {},
   "outputs": [],
   "source": [
    "entity_id = 'ddd9bb4b-8965-4046-8b20-9b2f273fe0d9'"
   ]
  },
  {
   "cell_type": "markdown",
   "metadata": {},
   "source": [
    "## Basic Informations "
   ]
  },
  {
   "cell_type": "code",
   "execution_count": 3,
   "metadata": {},
   "outputs": [
    {
     "data": {
      "text/html": [
       "<div>\n",
       "<style scoped>\n",
       "    .dataframe tbody tr th:only-of-type {\n",
       "        vertical-align: middle;\n",
       "    }\n",
       "\n",
       "    .dataframe tbody tr th {\n",
       "        vertical-align: top;\n",
       "    }\n",
       "\n",
       "    .dataframe thead th {\n",
       "        text-align: right;\n",
       "    }\n",
       "</style>\n",
       "<table border=\"1\" class=\"dataframe\">\n",
       "  <thead>\n",
       "    <tr style=\"text-align: right;\">\n",
       "      <th></th>\n",
       "      <th>id</th>\n",
       "      <th>name</th>\n",
       "      <th>gender</th>\n",
       "      <th>alive</th>\n",
       "      <th>birth_date</th>\n",
       "      <th>death_date</th>\n",
       "      <th>current_influence_percentile</th>\n",
       "    </tr>\n",
       "  </thead>\n",
       "  <tbody>\n",
       "    <tr>\n",
       "      <th>81704</th>\n",
       "      <td>ddd9bb4b-8965-4046-8b20-9b2f273fe0d9</td>\n",
       "      <td>Eunice Kim</td>\n",
       "      <td>NaN</td>\n",
       "      <td>True</td>\n",
       "      <td>NaN</td>\n",
       "      <td>NaN</td>\n",
       "      <td>38.0</td>\n",
       "    </tr>\n",
       "  </tbody>\n",
       "</table>\n",
       "</div>"
      ],
      "text/plain": [
       "                                         id        name  gender alive  \\\n",
       "81704  ddd9bb4b-8965-4046-8b20-9b2f273fe0d9  Eunice Kim     NaN  True   \n",
       "\n",
       "      birth_date death_date  current_influence_percentile  \n",
       "81704        NaN        NaN                          38.0  "
      ]
     },
     "execution_count": 3,
     "metadata": {},
     "output_type": "execute_result"
    }
   ],
   "source": [
    "# Basic information about the entity \n",
    "entity_info = get_info(entity_id, entities, entities_performances, entities_pieces, entities_skills, mediamentions, \n",
    "             wikipedia_pv, biographies, alt_names, include_lists = True)\n",
    "infos = ['id', 'name', 'gender', 'alive', 'birth_date', 'death_date', 'current_influence_percentile']\n",
    "entity_info.iloc[:, 0:7]"
   ]
  },
  {
   "cell_type": "code",
   "execution_count": 4,
   "metadata": {},
   "outputs": [
    {
     "data": {
      "text/html": [
       "<div>\n",
       "<style scoped>\n",
       "    .dataframe tbody tr th:only-of-type {\n",
       "        vertical-align: middle;\n",
       "    }\n",
       "\n",
       "    .dataframe tbody tr th {\n",
       "        vertical-align: top;\n",
       "    }\n",
       "\n",
       "    .dataframe thead th {\n",
       "        text-align: right;\n",
       "    }\n",
       "</style>\n",
       "<table border=\"1\" class=\"dataframe\">\n",
       "  <thead>\n",
       "    <tr style=\"text-align: right;\">\n",
       "      <th></th>\n",
       "      <th>nb_perf</th>\n",
       "      <th>nb_pieces</th>\n",
       "      <th>nb_media_mentions</th>\n",
       "      <th>nb_skills</th>\n",
       "      <th>nb_alt_names</th>\n",
       "      <th>nb_biographies</th>\n",
       "    </tr>\n",
       "  </thead>\n",
       "  <tbody>\n",
       "    <tr>\n",
       "      <th>81704</th>\n",
       "      <td>3</td>\n",
       "      <td>12</td>\n",
       "      <td>5</td>\n",
       "      <td>2</td>\n",
       "      <td>2</td>\n",
       "      <td>3</td>\n",
       "    </tr>\n",
       "  </tbody>\n",
       "</table>\n",
       "</div>"
      ],
      "text/plain": [
       "       nb_perf  nb_pieces  nb_media_mentions  nb_skills  nb_alt_names  \\\n",
       "81704        3         12                  5          2             2   \n",
       "\n",
       "       nb_biographies  \n",
       "81704               3  "
      ]
     },
     "execution_count": 4,
     "metadata": {},
     "output_type": "execute_result"
    }
   ],
   "source": [
    "# Number of cells in other tables linked to that entity \n",
    "entity_info.iloc[:, 7:13]"
   ]
  },
  {
   "cell_type": "markdown",
   "metadata": {},
   "source": [
    "## 1 - Performances "
   ]
  },
  {
   "cell_type": "code",
   "execution_count": 5,
   "metadata": {},
   "outputs": [
    {
     "data": {
      "text/html": [
       "<div>\n",
       "<style scoped>\n",
       "    .dataframe tbody tr th:only-of-type {\n",
       "        vertical-align: middle;\n",
       "    }\n",
       "\n",
       "    .dataframe tbody tr th {\n",
       "        vertical-align: top;\n",
       "    }\n",
       "\n",
       "    .dataframe thead th {\n",
       "        text-align: right;\n",
       "    }\n",
       "</style>\n",
       "<table border=\"1\" class=\"dataframe\">\n",
       "  <thead>\n",
       "    <tr style=\"text-align: right;\">\n",
       "      <th></th>\n",
       "      <th>date</th>\n",
       "      <th>venue</th>\n",
       "      <th>country</th>\n",
       "      <th>city</th>\n",
       "      <th>title</th>\n",
       "      <th>key</th>\n",
       "      <th>continent</th>\n",
       "    </tr>\n",
       "  </thead>\n",
       "  <tbody>\n",
       "    <tr>\n",
       "      <th>12196</th>\n",
       "      <td>2008-02-27 19:00:00.000000</td>\n",
       "      <td>Zankel Hall</td>\n",
       "      <td>United States of America</td>\n",
       "      <td>NaN</td>\n",
       "      <td>From the Top</td>\n",
       "      <td>NaN</td>\n",
       "      <td>North America</td>\n",
       "    </tr>\n",
       "    <tr>\n",
       "      <th>15505</th>\n",
       "      <td>2008-02-27 19:00:00.000000</td>\n",
       "      <td>Zankel Hall</td>\n",
       "      <td>United States of America</td>\n",
       "      <td>NaN</td>\n",
       "      <td>From the Top</td>\n",
       "      <td>NaN</td>\n",
       "      <td>North America</td>\n",
       "    </tr>\n",
       "    <tr>\n",
       "      <th>72602</th>\n",
       "      <td>2014-03-20 19:30:00.000000</td>\n",
       "      <td>Zankel Hall</td>\n",
       "      <td>United States of America</td>\n",
       "      <td>NaN</td>\n",
       "      <td>Curtis 20/21 Ensemble</td>\n",
       "      <td>NaN</td>\n",
       "      <td>North America</td>\n",
       "    </tr>\n",
       "  </tbody>\n",
       "</table>\n",
       "</div>"
      ],
      "text/plain": [
       "                             date        venue                   country city  \\\n",
       "12196  2008-02-27 19:00:00.000000  Zankel Hall  United States of America  NaN   \n",
       "15505  2008-02-27 19:00:00.000000  Zankel Hall  United States of America  NaN   \n",
       "72602  2014-03-20 19:30:00.000000  Zankel Hall  United States of America  NaN   \n",
       "\n",
       "                       title  key      continent  \n",
       "12196           From the Top  NaN  North America  \n",
       "15505           From the Top  NaN  North America  \n",
       "72602  Curtis 20/21 Ensemble  NaN  North America  "
      ]
     },
     "execution_count": 5,
     "metadata": {},
     "output_type": "execute_result"
    }
   ],
   "source": [
    "# Extract performances \n",
    "df_perfs = performances[performances.id.apply(lambda x : x in entity_info.perf_list.to_list()[0])].loc[:, ['date', 'venue', 'country', 'city', 'title', 'key', 'continent']]\n",
    "df_perfs.head(10)"
   ]
  },
  {
   "cell_type": "markdown",
   "metadata": {},
   "source": [
    "## 2 - Pieces "
   ]
  },
  {
   "cell_type": "code",
   "execution_count": 6,
   "metadata": {},
   "outputs": [
    {
     "data": {
      "text/html": [
       "<div>\n",
       "<style scoped>\n",
       "    .dataframe tbody tr th:only-of-type {\n",
       "        vertical-align: middle;\n",
       "    }\n",
       "\n",
       "    .dataframe tbody tr th {\n",
       "        vertical-align: top;\n",
       "    }\n",
       "\n",
       "    .dataframe thead th {\n",
       "        text-align: right;\n",
       "    }\n",
       "</style>\n",
       "<table border=\"1\" class=\"dataframe\">\n",
       "  <thead>\n",
       "    <tr style=\"text-align: right;\">\n",
       "      <th></th>\n",
       "      <th>composer</th>\n",
       "      <th>title</th>\n",
       "      <th>source</th>\n",
       "    </tr>\n",
       "  </thead>\n",
       "  <tbody>\n",
       "    <tr>\n",
       "      <th>5496</th>\n",
       "      <td>Johann Sebastian Bach (1685—1750)</td>\n",
       "      <td>The Art of the Fugue, BWV 1080: Contrapunctus ...</td>\n",
       "      <td>16</td>\n",
       "    </tr>\n",
       "    <tr>\n",
       "      <th>6724</th>\n",
       "      <td>Pablo de Sarasate (1844—1908)</td>\n",
       "      <td>Zigeunerweisen, Op. 20 (1878)</td>\n",
       "      <td>16</td>\n",
       "    </tr>\n",
       "    <tr>\n",
       "      <th>11698</th>\n",
       "      <td>Kent Kennan (1913—2003)</td>\n",
       "      <td>Sonata for Trumpet and Piano: With strength an...</td>\n",
       "      <td>16</td>\n",
       "    </tr>\n",
       "    <tr>\n",
       "      <th>11699</th>\n",
       "      <td>Felix Mendelssohn (1809—1847)</td>\n",
       "      <td>String Quartet No. 3 in D Major, Op. 44, No. 1...</td>\n",
       "      <td>16</td>\n",
       "    </tr>\n",
       "    <tr>\n",
       "      <th>11700</th>\n",
       "      <td>Paul Smadbeck (1955—)</td>\n",
       "      <td>Rhythm Song (1984)</td>\n",
       "      <td>16</td>\n",
       "    </tr>\n",
       "    <tr>\n",
       "      <th>11701</th>\n",
       "      <td>Joseph Haydn (1732—1809)</td>\n",
       "      <td>Piano Trio in G Major, H.XV:25, \"Gypsy\": 3. Fi...</td>\n",
       "      <td>16</td>\n",
       "    </tr>\n",
       "    <tr>\n",
       "      <th>14540</th>\n",
       "      <td>Krzysztof Penderecki (1933—)</td>\n",
       "      <td>Sinfonietta (1990-1991)</td>\n",
       "      <td>16</td>\n",
       "    </tr>\n",
       "    <tr>\n",
       "      <th>63875</th>\n",
       "      <td>Kent Kennan (1913—2003)</td>\n",
       "      <td>Sonata for Trumpet and Piano: 1. With strength...</td>\n",
       "      <td>16</td>\n",
       "    </tr>\n",
       "    <tr>\n",
       "      <th>128659</th>\n",
       "      <td>Krzysztof Penderecki (1933—)</td>\n",
       "      <td>Duo concertante (2011)</td>\n",
       "      <td>16</td>\n",
       "    </tr>\n",
       "    <tr>\n",
       "      <th>128660</th>\n",
       "      <td>Krzysztof Penderecki (1933—)</td>\n",
       "      <td>Suite for Solo Cello (1994-2013)</td>\n",
       "      <td>16</td>\n",
       "    </tr>\n",
       "  </tbody>\n",
       "</table>\n",
       "</div>"
      ],
      "text/plain": [
       "                                 composer  \\\n",
       "5496    Johann Sebastian Bach (1685—1750)   \n",
       "6724        Pablo de Sarasate (1844—1908)   \n",
       "11698             Kent Kennan (1913—2003)   \n",
       "11699       Felix Mendelssohn (1809—1847)   \n",
       "11700               Paul Smadbeck (1955—)   \n",
       "11701            Joseph Haydn (1732—1809)   \n",
       "14540        Krzysztof Penderecki (1933—)   \n",
       "63875             Kent Kennan (1913—2003)   \n",
       "128659       Krzysztof Penderecki (1933—)   \n",
       "128660       Krzysztof Penderecki (1933—)   \n",
       "\n",
       "                                                    title  source  \n",
       "5496    The Art of the Fugue, BWV 1080: Contrapunctus ...      16  \n",
       "6724                        Zigeunerweisen, Op. 20 (1878)      16  \n",
       "11698   Sonata for Trumpet and Piano: With strength an...      16  \n",
       "11699   String Quartet No. 3 in D Major, Op. 44, No. 1...      16  \n",
       "11700                                  Rhythm Song (1984)      16  \n",
       "11701   Piano Trio in G Major, H.XV:25, \"Gypsy\": 3. Fi...      16  \n",
       "14540                             Sinfonietta (1990-1991)      16  \n",
       "63875   Sonata for Trumpet and Piano: 1. With strength...      16  \n",
       "128659                             Duo concertante (2011)      16  \n",
       "128660                   Suite for Solo Cello (1994-2013)      16  "
      ]
     },
     "execution_count": 6,
     "metadata": {},
     "output_type": "execute_result"
    }
   ],
   "source": [
    "df_pieces = pieces[pieces.id.apply(lambda x : x in entity_info.pieces_list.to_list()[0])]\n",
    "df_pieces.loc[:, ['composer', 'title', 'source']].head(10)"
   ]
  },
  {
   "cell_type": "markdown",
   "metadata": {},
   "source": [
    "## 3 - Media mentions "
   ]
  },
  {
   "cell_type": "code",
   "execution_count": 7,
   "metadata": {},
   "outputs": [
    {
     "data": {
      "text/html": [
       "<div>\n",
       "<style scoped>\n",
       "    .dataframe tbody tr th:only-of-type {\n",
       "        vertical-align: middle;\n",
       "    }\n",
       "\n",
       "    .dataframe tbody tr th {\n",
       "        vertical-align: top;\n",
       "    }\n",
       "\n",
       "    .dataframe thead th {\n",
       "        text-align: right;\n",
       "    }\n",
       "</style>\n",
       "<table border=\"1\" class=\"dataframe\">\n",
       "  <thead>\n",
       "    <tr style=\"text-align: right;\">\n",
       "      <th></th>\n",
       "      <th>comparable_text</th>\n",
       "      <th>url</th>\n",
       "      <th>header_text</th>\n",
       "    </tr>\n",
       "  </thead>\n",
       "  <tbody>\n",
       "    <tr>\n",
       "      <th>259163</th>\n",
       "      <td>St Paul signs Eunice Kim, 25\\t\\t\\t\\n\\t\\t\\n\\t\\t...</td>\n",
       "      <td>https://slippedisc.com/2016/10/st-paul-signs-e...</td>\n",
       "      <td>St Paul signs Eunice Kim, 25</td>\n",
       "    </tr>\n",
       "    <tr>\n",
       "      <th>259164</th>\n",
       "      <td>Death of New York pianist and agency founder, ...</td>\n",
       "      <td>https://slippedisc.com/2020/03/death-of-new-yo...</td>\n",
       "      <td>Death of New York pianist and agency founder, 92</td>\n",
       "    </tr>\n",
       "    <tr>\n",
       "      <th>259165</th>\n",
       "      <td>Inside the Midwest’s conductorless orchestra\\t...</td>\n",
       "      <td>https://slippedisc.com/2018/11/inside-the-midw...</td>\n",
       "      <td>Inside the Midwest’s conductorless orchestra</td>\n",
       "    </tr>\n",
       "    <tr>\n",
       "      <th>301555</th>\n",
       "      <td>Young Soloists reinvent Beethoven\\t\\t\\t\\n\\t\\t\\...</td>\n",
       "      <td>https://slippedisc.com/2021/01/young-soloists-...</td>\n",
       "      <td>Young Soloists reinvent Beethoven</td>\n",
       "    </tr>\n",
       "    <tr>\n",
       "      <th>437687</th>\n",
       "      <td>\\nNewsViolinist Eunice Kim joins the Saint Pau...</td>\n",
       "      <td>NaN</td>\n",
       "      <td>NaN</td>\n",
       "    </tr>\n",
       "  </tbody>\n",
       "</table>\n",
       "</div>"
      ],
      "text/plain": [
       "                                          comparable_text  \\\n",
       "259163  St Paul signs Eunice Kim, 25\\t\\t\\t\\n\\t\\t\\n\\t\\t...   \n",
       "259164  Death of New York pianist and agency founder, ...   \n",
       "259165  Inside the Midwest’s conductorless orchestra\\t...   \n",
       "301555  Young Soloists reinvent Beethoven\\t\\t\\t\\n\\t\\t\\...   \n",
       "437687  \\nNewsViolinist Eunice Kim joins the Saint Pau...   \n",
       "\n",
       "                                                      url  \\\n",
       "259163  https://slippedisc.com/2016/10/st-paul-signs-e...   \n",
       "259164  https://slippedisc.com/2020/03/death-of-new-yo...   \n",
       "259165  https://slippedisc.com/2018/11/inside-the-midw...   \n",
       "301555  https://slippedisc.com/2021/01/young-soloists-...   \n",
       "437687                                                NaN   \n",
       "\n",
       "                                             header_text  \n",
       "259163                      St Paul signs Eunice Kim, 25  \n",
       "259164  Death of New York pianist and agency founder, 92  \n",
       "259165      Inside the Midwest’s conductorless orchestra  \n",
       "301555                 Young Soloists reinvent Beethoven  \n",
       "437687                                               NaN  "
      ]
     },
     "execution_count": 7,
     "metadata": {},
     "output_type": "execute_result"
    }
   ],
   "source": [
    "df_medias = mediamentions[mediamentions.id.apply(lambda x : x in entity_info.media_mentions.to_list()[0])]\n",
    "df_medias.loc[:, ['comparable_text', 'url', 'header_text']].head(10)"
   ]
  },
  {
   "cell_type": "code",
   "execution_count": 8,
   "metadata": {},
   "outputs": [
    {
     "name": "stdout",
     "output_type": "stream",
     "text": [
      "St Paul signs Eunice Kim, 25\t\t\t\n",
      "\t\t\n",
      "\t\t\t\t\n",
      "\t\t\t\t\t\n",
      "\t\t\tnorman lebrecht\t\t\n",
      "\t\t\t\t\n",
      "\t\t\tOctober 6, 2016\t\t\n",
      "\t\t\t\t\n",
      "\t\t\t\t\n",
      "\t\t\tThe St Paul Chamber Orchestra has filled 22 out of 28 permanent posts with the recruitment of Curtis grad Eunice Kim, a lifer who has\n",
      "\t\t\n",
      "\t\t\t\t\t\n",
      "\t\t\t\tRead More »\n"
     ]
    }
   ],
   "source": [
    "# One example of media mentions\n",
    "if len(df_medias) > 0 : \n",
    "    print(df_medias.iloc[0].comparable_text)"
   ]
  },
  {
   "cell_type": "markdown",
   "metadata": {},
   "source": [
    "## 4 - Wikipedia Page Views "
   ]
  },
  {
   "cell_type": "code",
   "execution_count": 9,
   "metadata": {},
   "outputs": [
    {
     "data": {
      "text/html": [
       "<div>\n",
       "<style scoped>\n",
       "    .dataframe tbody tr th:only-of-type {\n",
       "        vertical-align: middle;\n",
       "    }\n",
       "\n",
       "    .dataframe tbody tr th {\n",
       "        vertical-align: top;\n",
       "    }\n",
       "\n",
       "    .dataframe thead th {\n",
       "        text-align: right;\n",
       "    }\n",
       "</style>\n",
       "<table border=\"1\" class=\"dataframe\">\n",
       "  <thead>\n",
       "    <tr style=\"text-align: right;\">\n",
       "      <th></th>\n",
       "      <th>en</th>\n",
       "      <th>fr</th>\n",
       "      <th>de</th>\n",
       "      <th>it</th>\n",
       "      <th>ru</th>\n",
       "      <th>period_start_date</th>\n",
       "    </tr>\n",
       "  </thead>\n",
       "  <tbody>\n",
       "  </tbody>\n",
       "</table>\n",
       "</div>"
      ],
      "text/plain": [
       "Empty DataFrame\n",
       "Columns: [en, fr, de, it, ru, period_start_date]\n",
       "Index: []"
      ]
     },
     "execution_count": 9,
     "metadata": {},
     "output_type": "execute_result"
    }
   ],
   "source": [
    "df_wiki = wikipedia_pv[wikipedia_pv.id.apply(lambda x : x in entity_info.wiki_pv.to_list()[0])]\n",
    "df_wiki.loc[:, ['en', 'fr', 'de', 'it', 'ru', 'period_start_date']].head(5)"
   ]
  },
  {
   "cell_type": "code",
   "execution_count": 10,
   "metadata": {},
   "outputs": [
    {
     "data": {
      "text/plain": [
       "[<matplotlib.lines.Line2D at 0x7fc8ef3d54c0>]"
      ]
     },
     "execution_count": 10,
     "metadata": {},
     "output_type": "execute_result"
    },
    {
     "data": {
      "image/png": "[encoded data removed]",
      "text/plain": [
       "<Figure size 1296x360 with 1 Axes>"
      ]
     },
     "metadata": {
      "needs_background": "light"
     },
     "output_type": "display_data"
    }
   ],
   "source": [
    "import matplotlib.pyplot as plt\n",
    "x = df_wiki.period_start_date.to_list()\n",
    "y = df_wiki.en.to_list()\n",
    "plt.figure(figsize=[18, 5])\n",
    "plt.xticks(rotation=45)\n",
    "plt.plot(x, y)"
   ]
  },
  {
   "cell_type": "markdown",
   "metadata": {},
   "source": [
    "## 5 - Skills "
   ]
  },
  {
   "cell_type": "code",
   "execution_count": 11,
   "metadata": {},
   "outputs": [
    {
     "data": {
      "text/html": [
       "<div>\n",
       "<style scoped>\n",
       "    .dataframe tbody tr th:only-of-type {\n",
       "        vertical-align: middle;\n",
       "    }\n",
       "\n",
       "    .dataframe tbody tr th {\n",
       "        vertical-align: top;\n",
       "    }\n",
       "\n",
       "    .dataframe thead th {\n",
       "        text-align: right;\n",
       "    }\n",
       "</style>\n",
       "<table border=\"1\" class=\"dataframe\">\n",
       "  <thead>\n",
       "    <tr style=\"text-align: right;\">\n",
       "      <th></th>\n",
       "      <th>name</th>\n",
       "    </tr>\n",
       "  </thead>\n",
       "  <tbody>\n",
       "    <tr>\n",
       "      <th>57</th>\n",
       "      <td>Violinist</td>\n",
       "    </tr>\n",
       "    <tr>\n",
       "      <th>68</th>\n",
       "      <td>Cellist</td>\n",
       "    </tr>\n",
       "  </tbody>\n",
       "</table>\n",
       "</div>"
      ],
      "text/plain": [
       "         name\n",
       "57  Violinist\n",
       "68    Cellist"
      ]
     },
     "execution_count": 11,
     "metadata": {},
     "output_type": "execute_result"
    }
   ],
   "source": [
    "df_skills = skills[skills.id.apply(lambda x : x in entity_info.skills_list.to_list()[0])]\n",
    "df_skills.loc[:, ['name']]"
   ]
  },
  {
   "cell_type": "markdown",
   "metadata": {},
   "source": [
    "## 6 - Alternative Names \n",
    "\n",
    "Alternative names are the names used by developpers to map down several entities to one during scraping operations. They are not related to the aliases found with fuzzy string matching during cleaning. "
   ]
  },
  {
   "cell_type": "code",
   "execution_count": 12,
   "metadata": {},
   "outputs": [
    {
     "data": {
      "text/plain": [
       "[['kim eunice', 'eunice kim']]"
      ]
     },
     "execution_count": 12,
     "metadata": {},
     "output_type": "execute_result"
    }
   ],
   "source": [
    "entity_info.alter_names.to_list()"
   ]
  },
  {
   "cell_type": "markdown",
   "metadata": {},
   "source": [
    "## 7 - Biographies "
   ]
  },
  {
   "cell_type": "code",
   "execution_count": 13,
   "metadata": {},
   "outputs": [
    {
     "data": {
      "text/html": [
       "<div>\n",
       "<style scoped>\n",
       "    .dataframe tbody tr th:only-of-type {\n",
       "        vertical-align: middle;\n",
       "    }\n",
       "\n",
       "    .dataframe tbody tr th {\n",
       "        vertical-align: top;\n",
       "    }\n",
       "\n",
       "    .dataframe thead th {\n",
       "        text-align: right;\n",
       "    }\n",
       "</style>\n",
       "<table border=\"1\" class=\"dataframe\">\n",
       "  <thead>\n",
       "    <tr style=\"text-align: right;\">\n",
       "      <th></th>\n",
       "      <th>detail</th>\n",
       "      <th>year</th>\n",
       "      <th>source</th>\n",
       "    </tr>\n",
       "  </thead>\n",
       "  <tbody>\n",
       "    <tr>\n",
       "      <th>62028</th>\n",
       "      <td>A young artist with a unique voice, violinist ...</td>\n",
       "      <td>2018</td>\n",
       "      <td>20</td>\n",
       "    </tr>\n",
       "    <tr>\n",
       "      <th>62035</th>\n",
       "      <td>\\n            A young artist with a unique voi...</td>\n",
       "      <td>2018</td>\n",
       "      <td>20</td>\n",
       "    </tr>\n",
       "    <tr>\n",
       "      <th>62040</th>\n",
       "      <td>A young artist with a unique voice, violinist ...</td>\n",
       "      <td>2018</td>\n",
       "      <td>17</td>\n",
       "    </tr>\n",
       "  </tbody>\n",
       "</table>\n",
       "</div>"
      ],
      "text/plain": [
       "                                                  detail  year  source\n",
       "62028  A young artist with a unique voice, violinist ...  2018      20\n",
       "62035  \\n            A young artist with a unique voi...  2018      20\n",
       "62040  A young artist with a unique voice, violinist ...  2018      17"
      ]
     },
     "execution_count": 13,
     "metadata": {},
     "output_type": "execute_result"
    }
   ],
   "source": [
    "df_bios = biographies[biographies.id.apply(lambda x : x in entity_info.bios_list.to_list()[0])]\n",
    "df_bios.loc[:, ['detail', 'year', 'source']]"
   ]
  },
  {
   "cell_type": "code",
   "execution_count": 14,
   "metadata": {},
   "outputs": [
    {
     "name": "stdout",
     "output_type": "stream",
     "text": [
      "A young artist with a unique voice, violinist Eunice Kim has been proclaimed “just superb” by The New York Times and “a born performer” by Epoch Times. A native of the San Francisco Bay Area, the Astral Award-winning violinist has been featured soloist with The Philadelphia Orchestra, Louisville Symphony, St. Paul Chamber Orchestra, the Seongnam Philharmonic, Bakersfield Symphony, and the Albany Symphony Orchestra, with which she has recorded George Tsontakis’s Unforgettable for 2017 release on Naxos Records. As a guest artist for Curtis on Tour, she has performed in Taiwan, Hong Kong, South Korea, and Germany with violist Roberto Díaz, and appeared at both the Library of Congress and the United Nations for Secretary General Ban Ki-moon.\n",
      "\n",
      "An avid chamber musician, Ms. Kim has appeared at Music at Angel Fire, Music@Menlo, Ravinia’s Steans Institute of Music, Marlboro Music School and Festival, and as a guest artist at the Tippet Rise Art Center. She has collaborated with such prominent artists as Miriam Fried, Nobuko Imai, Peter Wiley, Gary Hoffman, Ralph Kirshbaum, Cynthia Raim, and eighth blackbird. Her creative work also includes time with Ensemble39, a contemporary quintet of strings and winds devoted to commissioning new music and pushing the boundaries of the concert experience.In addition to her Astral award, she has received prizes from the California International Violin Competition, the Pacific Music Society, and the Korea Times String competitions. Eunice Kim has degrees from the San Francisco Conservatory of Music and from the CurtisInstitute of Music, where she was awarded the Milka Violin Artist Prize.\n",
      "\n",
      "Ms. Kim has partnered with Astral and The Philadelphia Orchestra’s Department of Education to perform in outreach series and has served as a teaching artist for Astral’s William Penn Residency at schools in the Philadelphia area. She has performed and taught at numerous international music festivals, most recently at the Teatro Del Lago Festival in Chile and the Valdres Music Academy in Norway.\n",
      "\n",
      "Eunice Kim began violin studies at the age of six with Wei He in the preparatory division of the San Francisco Conservatory of Music and made her solo debut at the age of seven with the Korean Broadcasting Symphony Orchestra in Seoul. A student of Ida Kavafian, she graduated with a Bachelor’s degree from the Curtis Institute of Music, where she was the recipient of the Rose Paul Fellowship. At Curtis, she served as concertmaster of the Curtis Symphony Orchestra, and as a mentor in the Curtis Community Engagement program.\n"
     ]
    }
   ],
   "source": [
    "# One bography example \n",
    "if len(df_bios) > 0 : \n",
    "    print(df_bios.iloc[0].detail)"
   ]
  },
  {
   "cell_type": "code",
   "execution_count": null,
   "metadata": {},
   "outputs": [],
   "source": []
  }
 ],
 "metadata": {
  "kernelspec": {
   "display_name": "Python 3",
   "language": "python",
   "name": "python3"
  },
  "language_info": {
   "codemirror_mode": {
    "name": "ipython",
    "version": 3
   },
   "file_extension": ".py",
   "mimetype": "text/x-python",
   "name": "python",
   "nbconvert_exporter": "python",
   "pygments_lexer": "ipython3",
   "version": "3.8.5"
  }
 },
 "nbformat": 4,
 "nbformat_minor": 4
}
