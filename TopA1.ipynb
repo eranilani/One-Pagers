{
 "cells": [
  {
   "cell_type": "markdown",
   "metadata": {},
   "source": [
    "#### Data Import "
   ]
  },
  {
   "cell_type": "code",
   "execution_count": 1,
   "metadata": {},
   "outputs": [],
   "source": [
    "# Imports\n",
    "import pandas as pd\n",
    "import warnings\n",
    "from helpers import * \n",
    "\n",
    "with warnings.catch_warnings():\n",
    "    warnings.simplefilter('ignore')\n",
    "    \n",
    "    # Import entities / skills / wikipedia\n",
    "    entities = pd.read_csv(\"../data/classeek_entities.csv\")\n",
    "    skills = pd.read_csv(\"../data/classeek_skills.csv\")\n",
    "    alt_names = pd.read_csv(\"../data/classeek_alternative_names.csv\")\n",
    "    performances = pd.read_csv(\"../data/classeek_performances.csv\")\n",
    "    pieces = pd.read_csv(\"../data/classeek_pieces.csv\")\n",
    "    wikipedia_pv = pd.read_csv(\"../data/classeek_wikipedia_page_views.csv\")\n",
    "    mediamentions = pd.read_csv(\"../data/classeek_media_mentions.csv\")\n",
    "    biographies = pd.read_csv(\"../data/classeek_biographies.csv\")\n",
    "\n",
    "    entities_performances = pd.read_csv(\"../data/classeek_entities_performances.csv\")\n",
    "    entities_pieces = pd.read_csv(\"../data/classeek_entities_pieces.csv\")\n",
    "    entities_skills = pd.read_csv(\"../data/classeek_entity_skills.csv\")"
   ]
  },
  {
   "cell_type": "markdown",
   "metadata": {},
   "source": [
    "# \n",
    "# Frederick Kiddle \n",
    "#### Entity ID : 2ffe418b-f92d-400b-9b2c-8b3f53c4fa8f"
   ]
  },
  {
   "cell_type": "code",
   "execution_count": 2,
   "metadata": {},
   "outputs": [],
   "source": [
    "entity_id = '2ffe418b-f92d-400b-9b2c-8b3f53c4fa8f'"
   ]
  },
  {
   "cell_type": "markdown",
   "metadata": {},
   "source": [
    "## Basic Informations "
   ]
  },
  {
   "cell_type": "code",
   "execution_count": 3,
   "metadata": {},
   "outputs": [
    {
     "data": {
      "text/html": [
       "<div>\n",
       "<style scoped>\n",
       "    .dataframe tbody tr th:only-of-type {\n",
       "        vertical-align: middle;\n",
       "    }\n",
       "\n",
       "    .dataframe tbody tr th {\n",
       "        vertical-align: top;\n",
       "    }\n",
       "\n",
       "    .dataframe thead th {\n",
       "        text-align: right;\n",
       "    }\n",
       "</style>\n",
       "<table border=\"1\" class=\"dataframe\">\n",
       "  <thead>\n",
       "    <tr style=\"text-align: right;\">\n",
       "      <th></th>\n",
       "      <th>id</th>\n",
       "      <th>name</th>\n",
       "      <th>gender</th>\n",
       "      <th>alive</th>\n",
       "      <th>birth_date</th>\n",
       "      <th>death_date</th>\n",
       "      <th>current_influence_percentile</th>\n",
       "    </tr>\n",
       "  </thead>\n",
       "  <tbody>\n",
       "    <tr>\n",
       "      <th>15453</th>\n",
       "      <td>2ffe418b-f92d-400b-9b2c-8b3f53c4fa8f</td>\n",
       "      <td>Frederick Kiddle</td>\n",
       "      <td>NaN</td>\n",
       "      <td>True</td>\n",
       "      <td>NaN</td>\n",
       "      <td>NaN</td>\n",
       "      <td>NaN</td>\n",
       "    </tr>\n",
       "  </tbody>\n",
       "</table>\n",
       "</div>"
      ],
      "text/plain": [
       "                                         id              name  gender alive  \\\n",
       "15453  2ffe418b-f92d-400b-9b2c-8b3f53c4fa8f  Frederick Kiddle     NaN  True   \n",
       "\n",
       "      birth_date death_date  current_influence_percentile  \n",
       "15453        NaN        NaN                           NaN  "
      ]
     },
     "execution_count": 3,
     "metadata": {},
     "output_type": "execute_result"
    }
   ],
   "source": [
    "# Basic information about the entity \n",
    "entity_info = get_info(entity_id, entities, entities_performances, entities_pieces, entities_skills, mediamentions, \n",
    "             wikipedia_pv, biographies, alt_names, include_lists = True)\n",
    "infos = ['id', 'name', 'gender', 'alive', 'birth_date', 'death_date', 'current_influence_percentile']\n",
    "entity_info.iloc[:, 0:7]"
   ]
  },
  {
   "cell_type": "code",
   "execution_count": 4,
   "metadata": {},
   "outputs": [
    {
     "data": {
      "text/html": [
       "<div>\n",
       "<style scoped>\n",
       "    .dataframe tbody tr th:only-of-type {\n",
       "        vertical-align: middle;\n",
       "    }\n",
       "\n",
       "    .dataframe tbody tr th {\n",
       "        vertical-align: top;\n",
       "    }\n",
       "\n",
       "    .dataframe thead th {\n",
       "        text-align: right;\n",
       "    }\n",
       "</style>\n",
       "<table border=\"1\" class=\"dataframe\">\n",
       "  <thead>\n",
       "    <tr style=\"text-align: right;\">\n",
       "      <th></th>\n",
       "      <th>nb_perf</th>\n",
       "      <th>nb_pieces</th>\n",
       "      <th>nb_media_mentions</th>\n",
       "      <th>nb_skills</th>\n",
       "      <th>nb_alt_names</th>\n",
       "      <th>nb_biographies</th>\n",
       "    </tr>\n",
       "  </thead>\n",
       "  <tbody>\n",
       "    <tr>\n",
       "      <th>15453</th>\n",
       "      <td>2628</td>\n",
       "      <td>4076</td>\n",
       "      <td>0</td>\n",
       "      <td>2</td>\n",
       "      <td>2</td>\n",
       "      <td>0</td>\n",
       "    </tr>\n",
       "  </tbody>\n",
       "</table>\n",
       "</div>"
      ],
      "text/plain": [
       "       nb_perf  nb_pieces  nb_media_mentions  nb_skills  nb_alt_names  \\\n",
       "15453     2628       4076                  0          2             2   \n",
       "\n",
       "       nb_biographies  \n",
       "15453               0  "
      ]
     },
     "execution_count": 4,
     "metadata": {},
     "output_type": "execute_result"
    }
   ],
   "source": [
    "# Number of cells in other tables linked to that entity \n",
    "entity_info.iloc[:, 7:13]"
   ]
  },
  {
   "cell_type": "markdown",
   "metadata": {},
   "source": [
    "## 1 - Performances "
   ]
  },
  {
   "cell_type": "code",
   "execution_count": 5,
   "metadata": {},
   "outputs": [
    {
     "data": {
      "text/html": [
       "<div>\n",
       "<style scoped>\n",
       "    .dataframe tbody tr th:only-of-type {\n",
       "        vertical-align: middle;\n",
       "    }\n",
       "\n",
       "    .dataframe tbody tr th {\n",
       "        vertical-align: top;\n",
       "    }\n",
       "\n",
       "    .dataframe thead th {\n",
       "        text-align: right;\n",
       "    }\n",
       "</style>\n",
       "<table border=\"1\" class=\"dataframe\">\n",
       "  <thead>\n",
       "    <tr style=\"text-align: right;\">\n",
       "      <th></th>\n",
       "      <th>date</th>\n",
       "      <th>venue</th>\n",
       "      <th>country</th>\n",
       "      <th>city</th>\n",
       "      <th>title</th>\n",
       "      <th>key</th>\n",
       "      <th>continent</th>\n",
       "    </tr>\n",
       "  </thead>\n",
       "  <tbody>\n",
       "    <tr>\n",
       "      <th>193</th>\n",
       "      <td>1917-10-12 19:30:00.000000</td>\n",
       "      <td>Queen's Hall</td>\n",
       "      <td>United Kingdom</td>\n",
       "      <td>NaN</td>\n",
       "      <td>Prom 42</td>\n",
       "      <td>NaN</td>\n",
       "      <td>Europe</td>\n",
       "    </tr>\n",
       "    <tr>\n",
       "      <th>199</th>\n",
       "      <td>1918-08-15 19:30:00.000000</td>\n",
       "      <td>Queen's Hall</td>\n",
       "      <td>United Kingdom</td>\n",
       "      <td>NaN</td>\n",
       "      <td>Prom 05</td>\n",
       "      <td>NaN</td>\n",
       "      <td>Europe</td>\n",
       "    </tr>\n",
       "    <tr>\n",
       "      <th>228</th>\n",
       "      <td>1917-10-20 19:30:00.000000</td>\n",
       "      <td>Queen's Hall</td>\n",
       "      <td>United Kingdom</td>\n",
       "      <td>NaN</td>\n",
       "      <td>Prom 49   Last Night Of The Proms 1917</td>\n",
       "      <td>NaN</td>\n",
       "      <td>Europe</td>\n",
       "    </tr>\n",
       "    <tr>\n",
       "      <th>229</th>\n",
       "      <td>1918-08-10 19:30:00.000000</td>\n",
       "      <td>Queen's Hall</td>\n",
       "      <td>United Kingdom</td>\n",
       "      <td>NaN</td>\n",
       "      <td>Prom 01   First Night Of The Proms 1918</td>\n",
       "      <td>NaN</td>\n",
       "      <td>Europe</td>\n",
       "    </tr>\n",
       "    <tr>\n",
       "      <th>230</th>\n",
       "      <td>1918-08-12 19:30:00.000000</td>\n",
       "      <td>Queen's Hall</td>\n",
       "      <td>United Kingdom</td>\n",
       "      <td>NaN</td>\n",
       "      <td>Prom 02</td>\n",
       "      <td>NaN</td>\n",
       "      <td>Europe</td>\n",
       "    </tr>\n",
       "    <tr>\n",
       "      <th>231</th>\n",
       "      <td>1918-08-13 19:30:00.000000</td>\n",
       "      <td>Queen's Hall</td>\n",
       "      <td>United Kingdom</td>\n",
       "      <td>NaN</td>\n",
       "      <td>Prom 03</td>\n",
       "      <td>NaN</td>\n",
       "      <td>Europe</td>\n",
       "    </tr>\n",
       "    <tr>\n",
       "      <th>232</th>\n",
       "      <td>1918-08-14 19:30:00.000000</td>\n",
       "      <td>Queen's Hall</td>\n",
       "      <td>United Kingdom</td>\n",
       "      <td>NaN</td>\n",
       "      <td>Prom 04</td>\n",
       "      <td>NaN</td>\n",
       "      <td>Europe</td>\n",
       "    </tr>\n",
       "    <tr>\n",
       "      <th>233</th>\n",
       "      <td>1918-08-16 19:30:00.000000</td>\n",
       "      <td>Queen's Hall</td>\n",
       "      <td>United Kingdom</td>\n",
       "      <td>NaN</td>\n",
       "      <td>Prom 06</td>\n",
       "      <td>NaN</td>\n",
       "      <td>Europe</td>\n",
       "    </tr>\n",
       "    <tr>\n",
       "      <th>234</th>\n",
       "      <td>1918-08-17 19:30:00.000000</td>\n",
       "      <td>Queen's Hall</td>\n",
       "      <td>United Kingdom</td>\n",
       "      <td>NaN</td>\n",
       "      <td>Prom 07</td>\n",
       "      <td>NaN</td>\n",
       "      <td>Europe</td>\n",
       "    </tr>\n",
       "    <tr>\n",
       "      <th>235</th>\n",
       "      <td>1918-08-19 19:30:00.000000</td>\n",
       "      <td>Queen's Hall</td>\n",
       "      <td>United Kingdom</td>\n",
       "      <td>NaN</td>\n",
       "      <td>Prom 08</td>\n",
       "      <td>NaN</td>\n",
       "      <td>Europe</td>\n",
       "    </tr>\n",
       "  </tbody>\n",
       "</table>\n",
       "</div>"
      ],
      "text/plain": [
       "                           date         venue         country city  \\\n",
       "193  1917-10-12 19:30:00.000000  Queen's Hall  United Kingdom  NaN   \n",
       "199  1918-08-15 19:30:00.000000  Queen's Hall  United Kingdom  NaN   \n",
       "228  1917-10-20 19:30:00.000000  Queen's Hall  United Kingdom  NaN   \n",
       "229  1918-08-10 19:30:00.000000  Queen's Hall  United Kingdom  NaN   \n",
       "230  1918-08-12 19:30:00.000000  Queen's Hall  United Kingdom  NaN   \n",
       "231  1918-08-13 19:30:00.000000  Queen's Hall  United Kingdom  NaN   \n",
       "232  1918-08-14 19:30:00.000000  Queen's Hall  United Kingdom  NaN   \n",
       "233  1918-08-16 19:30:00.000000  Queen's Hall  United Kingdom  NaN   \n",
       "234  1918-08-17 19:30:00.000000  Queen's Hall  United Kingdom  NaN   \n",
       "235  1918-08-19 19:30:00.000000  Queen's Hall  United Kingdom  NaN   \n",
       "\n",
       "                                       title  key continent  \n",
       "193                                  Prom 42  NaN    Europe  \n",
       "199                                  Prom 05  NaN    Europe  \n",
       "228   Prom 49   Last Night Of The Proms 1917  NaN    Europe  \n",
       "229  Prom 01   First Night Of The Proms 1918  NaN    Europe  \n",
       "230                                  Prom 02  NaN    Europe  \n",
       "231                                  Prom 03  NaN    Europe  \n",
       "232                                  Prom 04  NaN    Europe  \n",
       "233                                  Prom 06  NaN    Europe  \n",
       "234                                  Prom 07  NaN    Europe  \n",
       "235                                  Prom 08  NaN    Europe  "
      ]
     },
     "execution_count": 5,
     "metadata": {},
     "output_type": "execute_result"
    }
   ],
   "source": [
    "# Extract performances \n",
    "df_perfs = performances[performances.id.apply(lambda x : x in entity_info.perf_list.to_list()[0])].loc[:, ['date', 'venue', 'country', 'city', 'title', 'key', 'continent']]\n",
    "df_perfs.head(10)"
   ]
  },
  {
   "cell_type": "markdown",
   "metadata": {},
   "source": [
    "## 2 - Pieces "
   ]
  },
  {
   "cell_type": "code",
   "execution_count": 6,
   "metadata": {},
   "outputs": [
    {
     "data": {
      "text/html": [
       "<div>\n",
       "<style scoped>\n",
       "    .dataframe tbody tr th:only-of-type {\n",
       "        vertical-align: middle;\n",
       "    }\n",
       "\n",
       "    .dataframe tbody tr th {\n",
       "        vertical-align: top;\n",
       "    }\n",
       "\n",
       "    .dataframe thead th {\n",
       "        text-align: right;\n",
       "    }\n",
       "</style>\n",
       "<table border=\"1\" class=\"dataframe\">\n",
       "  <thead>\n",
       "    <tr style=\"text-align: right;\">\n",
       "      <th></th>\n",
       "      <th>composer</th>\n",
       "      <th>title</th>\n",
       "      <th>source</th>\n",
       "    </tr>\n",
       "  </thead>\n",
       "  <tbody>\n",
       "    <tr>\n",
       "      <th>19578</th>\n",
       "      <td>Josef Suk</td>\n",
       "      <td>Scherzo fantastique</td>\n",
       "      <td>20</td>\n",
       "    </tr>\n",
       "    <tr>\n",
       "      <th>27272</th>\n",
       "      <td>Johannes Brahms</td>\n",
       "      <td>Double Concerto for violin and cello in A minor</td>\n",
       "      <td>20</td>\n",
       "    </tr>\n",
       "    <tr>\n",
       "      <th>27278</th>\n",
       "      <td>Igor Stravinsky</td>\n",
       "      <td>Petrushka (1911 version)</td>\n",
       "      <td>20</td>\n",
       "    </tr>\n",
       "    <tr>\n",
       "      <th>27374</th>\n",
       "      <td>Maurice Ravel</td>\n",
       "      <td>Rapsodie espagnole</td>\n",
       "      <td>20</td>\n",
       "    </tr>\n",
       "    <tr>\n",
       "      <th>27410</th>\n",
       "      <td>Ludwig Van Beethoven</td>\n",
       "      <td>Piano Concerto No 5 in E flat major</td>\n",
       "      <td>20</td>\n",
       "    </tr>\n",
       "    <tr>\n",
       "      <th>27413</th>\n",
       "      <td>Ludwig Van Beethoven</td>\n",
       "      <td>Piano Concerto No 4 in G major</td>\n",
       "      <td>20</td>\n",
       "    </tr>\n",
       "    <tr>\n",
       "      <th>27415</th>\n",
       "      <td>Ludwig Van Beethoven</td>\n",
       "      <td>Overture 'Leonore' No. 1</td>\n",
       "      <td>20</td>\n",
       "    </tr>\n",
       "    <tr>\n",
       "      <th>27418</th>\n",
       "      <td>Edward Elgar</td>\n",
       "      <td>Symphony No 1 in A flat major</td>\n",
       "      <td>20</td>\n",
       "    </tr>\n",
       "    <tr>\n",
       "      <th>27421</th>\n",
       "      <td>Franz Schubert</td>\n",
       "      <td>Symphony No 9 in C major 'Great'</td>\n",
       "      <td>20</td>\n",
       "    </tr>\n",
       "    <tr>\n",
       "      <th>27427</th>\n",
       "      <td>Ludwig Van Beethoven</td>\n",
       "      <td>Symphony No 9 in D minor</td>\n",
       "      <td>20</td>\n",
       "    </tr>\n",
       "  </tbody>\n",
       "</table>\n",
       "</div>"
      ],
      "text/plain": [
       "                   composer                                            title  \\\n",
       "19578             Josef Suk                              Scherzo fantastique   \n",
       "27272       Johannes Brahms  Double Concerto for violin and cello in A minor   \n",
       "27278       Igor Stravinsky                         Petrushka (1911 version)   \n",
       "27374         Maurice Ravel                               Rapsodie espagnole   \n",
       "27410  Ludwig Van Beethoven              Piano Concerto No 5 in E flat major   \n",
       "27413  Ludwig Van Beethoven                   Piano Concerto No 4 in G major   \n",
       "27415  Ludwig Van Beethoven                         Overture 'Leonore' No. 1   \n",
       "27418          Edward Elgar                    Symphony No 1 in A flat major   \n",
       "27421        Franz Schubert                 Symphony No 9 in C major 'Great'   \n",
       "27427  Ludwig Van Beethoven                         Symphony No 9 in D minor   \n",
       "\n",
       "       source  \n",
       "19578      20  \n",
       "27272      20  \n",
       "27278      20  \n",
       "27374      20  \n",
       "27410      20  \n",
       "27413      20  \n",
       "27415      20  \n",
       "27418      20  \n",
       "27421      20  \n",
       "27427      20  "
      ]
     },
     "execution_count": 6,
     "metadata": {},
     "output_type": "execute_result"
    }
   ],
   "source": [
    "df_pieces = pieces[pieces.id.apply(lambda x : x in entity_info.pieces_list.to_list()[0])]\n",
    "df_pieces.loc[:, ['composer', 'title', 'source']].head(10)"
   ]
  },
  {
   "cell_type": "markdown",
   "metadata": {},
   "source": [
    "## 3 - Media mentions "
   ]
  },
  {
   "cell_type": "code",
   "execution_count": 7,
   "metadata": {},
   "outputs": [
    {
     "data": {
      "text/html": [
       "<div>\n",
       "<style scoped>\n",
       "    .dataframe tbody tr th:only-of-type {\n",
       "        vertical-align: middle;\n",
       "    }\n",
       "\n",
       "    .dataframe tbody tr th {\n",
       "        vertical-align: top;\n",
       "    }\n",
       "\n",
       "    .dataframe thead th {\n",
       "        text-align: right;\n",
       "    }\n",
       "</style>\n",
       "<table border=\"1\" class=\"dataframe\">\n",
       "  <thead>\n",
       "    <tr style=\"text-align: right;\">\n",
       "      <th></th>\n",
       "      <th>comparable_text</th>\n",
       "      <th>url</th>\n",
       "      <th>header_text</th>\n",
       "    </tr>\n",
       "  </thead>\n",
       "  <tbody>\n",
       "  </tbody>\n",
       "</table>\n",
       "</div>"
      ],
      "text/plain": [
       "Empty DataFrame\n",
       "Columns: [comparable_text, url, header_text]\n",
       "Index: []"
      ]
     },
     "execution_count": 7,
     "metadata": {},
     "output_type": "execute_result"
    }
   ],
   "source": [
    "df_medias = mediamentions[mediamentions.id.apply(lambda x : x in entity_info.media_mentions.to_list()[0])]\n",
    "df_medias.loc[:, ['comparable_text', 'url', 'header_text']].head(10)"
   ]
  },
  {
   "cell_type": "code",
   "execution_count": 9,
   "metadata": {},
   "outputs": [],
   "source": [
    "# One example of media mention\n",
    "if len(df_medias) > 0 : \n",
    "    df_medias.iloc[2].comparable_text"
   ]
  },
  {
   "cell_type": "markdown",
   "metadata": {},
   "source": [
    "## 4 - Wikipedia Page Views "
   ]
  },
  {
   "cell_type": "code",
   "execution_count": 10,
   "metadata": {},
   "outputs": [
    {
     "data": {
      "text/html": [
       "<div>\n",
       "<style scoped>\n",
       "    .dataframe tbody tr th:only-of-type {\n",
       "        vertical-align: middle;\n",
       "    }\n",
       "\n",
       "    .dataframe tbody tr th {\n",
       "        vertical-align: top;\n",
       "    }\n",
       "\n",
       "    .dataframe thead th {\n",
       "        text-align: right;\n",
       "    }\n",
       "</style>\n",
       "<table border=\"1\" class=\"dataframe\">\n",
       "  <thead>\n",
       "    <tr style=\"text-align: right;\">\n",
       "      <th></th>\n",
       "      <th>en</th>\n",
       "      <th>fr</th>\n",
       "      <th>de</th>\n",
       "      <th>it</th>\n",
       "      <th>ru</th>\n",
       "      <th>period_start_date</th>\n",
       "    </tr>\n",
       "  </thead>\n",
       "  <tbody>\n",
       "  </tbody>\n",
       "</table>\n",
       "</div>"
      ],
      "text/plain": [
       "Empty DataFrame\n",
       "Columns: [en, fr, de, it, ru, period_start_date]\n",
       "Index: []"
      ]
     },
     "execution_count": 10,
     "metadata": {},
     "output_type": "execute_result"
    }
   ],
   "source": [
    "df_wiki = wikipedia_pv[wikipedia_pv.id.apply(lambda x : x in entity_info.wiki_pv.to_list()[0])]\n",
    "df_wiki.loc[:, ['en', 'fr', 'de', 'it', 'ru', 'period_start_date']].head(5)"
   ]
  },
  {
   "cell_type": "code",
   "execution_count": 11,
   "metadata": {},
   "outputs": [
    {
     "data": {
      "text/plain": [
       "[<matplotlib.lines.Line2D at 0x7fd7d3793340>]"
      ]
     },
     "execution_count": 11,
     "metadata": {},
     "output_type": "execute_result"
    },
    {
     "data": {
      "image/png": "[encoded data removed]",
      "text/plain": [
       "<Figure size 1296x360 with 1 Axes>"
      ]
     },
     "metadata": {
      "needs_background": "light"
     },
     "output_type": "display_data"
    }
   ],
   "source": [
    "import matplotlib.pyplot as plt\n",
    "x = df_wiki.period_start_date.to_list()\n",
    "y = df_wiki.en.to_list()\n",
    "plt.figure(figsize=[18, 5])\n",
    "plt.xticks(rotation=45)\n",
    "plt.plot(x, y)"
   ]
  },
  {
   "cell_type": "markdown",
   "metadata": {},
   "source": [
    "## 5 - Skills "
   ]
  },
  {
   "cell_type": "code",
   "execution_count": 12,
   "metadata": {},
   "outputs": [
    {
     "data": {
      "text/html": [
       "<div>\n",
       "<style scoped>\n",
       "    .dataframe tbody tr th:only-of-type {\n",
       "        vertical-align: middle;\n",
       "    }\n",
       "\n",
       "    .dataframe tbody tr th {\n",
       "        vertical-align: top;\n",
       "    }\n",
       "\n",
       "    .dataframe thead th {\n",
       "        text-align: right;\n",
       "    }\n",
       "</style>\n",
       "<table border=\"1\" class=\"dataframe\">\n",
       "  <thead>\n",
       "    <tr style=\"text-align: right;\">\n",
       "      <th></th>\n",
       "      <th>name</th>\n",
       "    </tr>\n",
       "  </thead>\n",
       "  <tbody>\n",
       "    <tr>\n",
       "      <th>56</th>\n",
       "      <td>Pianist</td>\n",
       "    </tr>\n",
       "    <tr>\n",
       "      <th>71</th>\n",
       "      <td>Organist</td>\n",
       "    </tr>\n",
       "  </tbody>\n",
       "</table>\n",
       "</div>"
      ],
      "text/plain": [
       "        name\n",
       "56   Pianist\n",
       "71  Organist"
      ]
     },
     "execution_count": 12,
     "metadata": {},
     "output_type": "execute_result"
    }
   ],
   "source": [
    "df_skills = skills[skills.id.apply(lambda x : x in entity_info.skills_list.to_list()[0])]\n",
    "df_skills.loc[:, ['name']]"
   ]
  },
  {
   "cell_type": "markdown",
   "metadata": {},
   "source": [
    "## 6 - Alternative Names \n",
    "\n",
    "Alternative names are the names used by developpers to map down several entities to one during scraping operations. They are not related to the aliases found with fuzzy string matching during cleaning. "
   ]
  },
  {
   "cell_type": "code",
   "execution_count": 13,
   "metadata": {},
   "outputs": [
    {
     "data": {
      "text/plain": [
       "[['frederick kiddle', 'kiddle frederick']]"
      ]
     },
     "execution_count": 13,
     "metadata": {},
     "output_type": "execute_result"
    }
   ],
   "source": [
    "entity_info.alter_names.to_list()"
   ]
  },
  {
   "cell_type": "markdown",
   "metadata": {},
   "source": [
    "## 7 - Biographies "
   ]
  },
  {
   "cell_type": "code",
   "execution_count": 14,
   "metadata": {},
   "outputs": [
    {
     "data": {
      "text/html": [
       "<div>\n",
       "<style scoped>\n",
       "    .dataframe tbody tr th:only-of-type {\n",
       "        vertical-align: middle;\n",
       "    }\n",
       "\n",
       "    .dataframe tbody tr th {\n",
       "        vertical-align: top;\n",
       "    }\n",
       "\n",
       "    .dataframe thead th {\n",
       "        text-align: right;\n",
       "    }\n",
       "</style>\n",
       "<table border=\"1\" class=\"dataframe\">\n",
       "  <thead>\n",
       "    <tr style=\"text-align: right;\">\n",
       "      <th></th>\n",
       "      <th>detail</th>\n",
       "      <th>year</th>\n",
       "      <th>source</th>\n",
       "    </tr>\n",
       "  </thead>\n",
       "  <tbody>\n",
       "  </tbody>\n",
       "</table>\n",
       "</div>"
      ],
      "text/plain": [
       "Empty DataFrame\n",
       "Columns: [detail, year, source]\n",
       "Index: []"
      ]
     },
     "execution_count": 14,
     "metadata": {},
     "output_type": "execute_result"
    }
   ],
   "source": [
    "df_bios = biographies[biographies.id.apply(lambda x : x in entity_info.bios_list.to_list()[0])]\n",
    "df_bios.loc[:, ['detail', 'year', 'source']]"
   ]
  },
  {
   "cell_type": "code",
   "execution_count": 15,
   "metadata": {},
   "outputs": [],
   "source": [
    "# One bography example \n",
    "if len(df_bios) > 0 : \n",
    "    df_bios.sample().detail"
   ]
  },
  {
   "cell_type": "code",
   "execution_count": null,
   "metadata": {},
   "outputs": [],
   "source": []
  }
 ],
 "metadata": {
  "kernelspec": {
   "display_name": "Python 3",
   "language": "python",
   "name": "python3"
  },
  "language_info": {
   "codemirror_mode": {
    "name": "ipython",
    "version": 3
   },
   "file_extension": ".py",
   "mimetype": "text/x-python",
   "name": "python",
   "nbconvert_exporter": "python",
   "pygments_lexer": "ipython3",
   "version": "3.8.5"
  }
 },
 "nbformat": 4,
 "nbformat_minor": 4
}
