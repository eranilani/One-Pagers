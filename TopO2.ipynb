{
 "cells": [
  {
   "cell_type": "markdown",
   "metadata": {},
   "source": [
    "#### Data Import "
   ]
  },
  {
   "cell_type": "code",
   "execution_count": 1,
   "metadata": {},
   "outputs": [],
   "source": [
    "# Imports\n",
    "import pandas as pd\n",
    "import warnings\n",
    "from helpers import * \n",
    "\n",
    "with warnings.catch_warnings():\n",
    "    warnings.simplefilter('ignore')\n",
    "    \n",
    "    # Import entities / skills / wikipedia\n",
    "    entities = pd.read_csv(\"../data/classeek_entities.csv\")\n",
    "    skills = pd.read_csv(\"../data/classeek_skills.csv\")\n",
    "    alt_names = pd.read_csv(\"../data/classeek_alternative_names.csv\")\n",
    "    performances = pd.read_csv(\"../data/classeek_performances.csv\")\n",
    "    pieces = pd.read_csv(\"../data/classeek_pieces.csv\")\n",
    "    wikipedia_pv = pd.read_csv(\"../data/classeek_wikipedia_page_views.csv\")\n",
    "    mediamentions = pd.read_csv(\"../data/classeek_media_mentions.csv\")\n",
    "    biographies = pd.read_csv(\"../data/classeek_biographies.csv\")\n",
    "\n",
    "    entities_performances = pd.read_csv(\"../data/classeek_entities_performances.csv\")\n",
    "    entities_pieces = pd.read_csv(\"../data/classeek_entities_pieces.csv\")\n",
    "    entities_skills = pd.read_csv(\"../data/classeek_entity_skills.csv\")"
   ]
  },
  {
   "cell_type": "markdown",
   "metadata": {},
   "source": [
    "#\n",
    "# BBC Symphony Orchestra\n",
    "#### Entity ID : bd01268d-8a66-4139-88d8-13cffa7702d8"
   ]
  },
  {
   "cell_type": "code",
   "execution_count": 2,
   "metadata": {},
   "outputs": [],
   "source": [
    "entity_id = 'bd01268d-8a66-4139-88d8-13cffa7702d8'"
   ]
  },
  {
   "cell_type": "markdown",
   "metadata": {},
   "source": [
    "## Basic Informations "
   ]
  },
  {
   "cell_type": "code",
   "execution_count": 3,
   "metadata": {},
   "outputs": [
    {
     "data": {
      "text/html": [
       "<div>\n",
       "<style scoped>\n",
       "    .dataframe tbody tr th:only-of-type {\n",
       "        vertical-align: middle;\n",
       "    }\n",
       "\n",
       "    .dataframe tbody tr th {\n",
       "        vertical-align: top;\n",
       "    }\n",
       "\n",
       "    .dataframe thead th {\n",
       "        text-align: right;\n",
       "    }\n",
       "</style>\n",
       "<table border=\"1\" class=\"dataframe\">\n",
       "  <thead>\n",
       "    <tr style=\"text-align: right;\">\n",
       "      <th></th>\n",
       "      <th>id</th>\n",
       "      <th>name</th>\n",
       "      <th>gender</th>\n",
       "      <th>alive</th>\n",
       "      <th>birth_date</th>\n",
       "      <th>death_date</th>\n",
       "      <th>current_influence_percentile</th>\n",
       "    </tr>\n",
       "  </thead>\n",
       "  <tbody>\n",
       "    <tr>\n",
       "      <th>76833</th>\n",
       "      <td>bd01268d-8a66-4139-88d8-13cffa7702d8</td>\n",
       "      <td>Bbc Symphony Orchestra</td>\n",
       "      <td>NaN</td>\n",
       "      <td>True</td>\n",
       "      <td>NaN</td>\n",
       "      <td>NaN</td>\n",
       "      <td>99.0</td>\n",
       "    </tr>\n",
       "  </tbody>\n",
       "</table>\n",
       "</div>"
      ],
      "text/plain": [
       "                                         id                    name  gender  \\\n",
       "76833  bd01268d-8a66-4139-88d8-13cffa7702d8  Bbc Symphony Orchestra     NaN   \n",
       "\n",
       "      alive birth_date death_date  current_influence_percentile  \n",
       "76833  True        NaN        NaN                          99.0  "
      ]
     },
     "execution_count": 3,
     "metadata": {},
     "output_type": "execute_result"
    }
   ],
   "source": [
    "# Basic information about the entity \n",
    "entity_info = get_info(entity_id, entities, entities_performances, entities_pieces, entities_skills, mediamentions, \n",
    "             wikipedia_pv, biographies, alt_names, include_lists = True)\n",
    "infos = ['id', 'name', 'gender', 'alive', 'birth_date', 'death_date', 'current_influence_percentile']\n",
    "entity_info.iloc[:, 0:7]"
   ]
  },
  {
   "cell_type": "code",
   "execution_count": 4,
   "metadata": {},
   "outputs": [
    {
     "data": {
      "text/html": [
       "<div>\n",
       "<style scoped>\n",
       "    .dataframe tbody tr th:only-of-type {\n",
       "        vertical-align: middle;\n",
       "    }\n",
       "\n",
       "    .dataframe tbody tr th {\n",
       "        vertical-align: top;\n",
       "    }\n",
       "\n",
       "    .dataframe thead th {\n",
       "        text-align: right;\n",
       "    }\n",
       "</style>\n",
       "<table border=\"1\" class=\"dataframe\">\n",
       "  <thead>\n",
       "    <tr style=\"text-align: right;\">\n",
       "      <th></th>\n",
       "      <th>nb_perf</th>\n",
       "      <th>nb_pieces</th>\n",
       "      <th>nb_media_mentions</th>\n",
       "      <th>nb_skills</th>\n",
       "      <th>nb_alt_names</th>\n",
       "      <th>nb_biographies</th>\n",
       "    </tr>\n",
       "  </thead>\n",
       "  <tbody>\n",
       "    <tr>\n",
       "      <th>76833</th>\n",
       "      <td>3969</td>\n",
       "      <td>4358</td>\n",
       "      <td>427</td>\n",
       "      <td>0</td>\n",
       "      <td>1</td>\n",
       "      <td>0</td>\n",
       "    </tr>\n",
       "  </tbody>\n",
       "</table>\n",
       "</div>"
      ],
      "text/plain": [
       "       nb_perf  nb_pieces  nb_media_mentions  nb_skills  nb_alt_names  \\\n",
       "76833     3969       4358                427          0             1   \n",
       "\n",
       "       nb_biographies  \n",
       "76833               0  "
      ]
     },
     "execution_count": 4,
     "metadata": {},
     "output_type": "execute_result"
    }
   ],
   "source": [
    "# Number of cells in other tables linked to that entity \n",
    "entity_info.iloc[:, 7:13]"
   ]
  },
  {
   "cell_type": "markdown",
   "metadata": {},
   "source": [
    "## 1 - Performances "
   ]
  },
  {
   "cell_type": "code",
   "execution_count": 5,
   "metadata": {},
   "outputs": [
    {
     "data": {
      "text/html": [
       "<div>\n",
       "<style scoped>\n",
       "    .dataframe tbody tr th:only-of-type {\n",
       "        vertical-align: middle;\n",
       "    }\n",
       "\n",
       "    .dataframe tbody tr th {\n",
       "        vertical-align: top;\n",
       "    }\n",
       "\n",
       "    .dataframe thead th {\n",
       "        text-align: right;\n",
       "    }\n",
       "</style>\n",
       "<table border=\"1\" class=\"dataframe\">\n",
       "  <thead>\n",
       "    <tr style=\"text-align: right;\">\n",
       "      <th></th>\n",
       "      <th>date</th>\n",
       "      <th>venue</th>\n",
       "      <th>country</th>\n",
       "      <th>city</th>\n",
       "      <th>title</th>\n",
       "      <th>key</th>\n",
       "      <th>continent</th>\n",
       "    </tr>\n",
       "  </thead>\n",
       "  <tbody>\n",
       "    <tr>\n",
       "      <th>227</th>\n",
       "      <td>1965-08-31 19:30:00.000000</td>\n",
       "      <td>Royal Albert Hall</td>\n",
       "      <td>United Kingdom</td>\n",
       "      <td>NaN</td>\n",
       "      <td>Prom 39</td>\n",
       "      <td>NaN</td>\n",
       "      <td>Europe</td>\n",
       "    </tr>\n",
       "    <tr>\n",
       "      <th>7656</th>\n",
       "      <td>2019-08-24 19:30:00.000000</td>\n",
       "      <td>Royal Albert Hall</td>\n",
       "      <td>United Kingdom</td>\n",
       "      <td>NaN</td>\n",
       "      <td>Prom 48: Rachmaninov, Prokofiev &amp; Silvestri</td>\n",
       "      <td>NaN</td>\n",
       "      <td>Europe</td>\n",
       "    </tr>\n",
       "    <tr>\n",
       "      <th>7992</th>\n",
       "      <td>2019-07-24 19:30:00.000000</td>\n",
       "      <td>Royal Albert Hall</td>\n",
       "      <td>United Kingdom</td>\n",
       "      <td>NaN</td>\n",
       "      <td>Prom 8: Invitation to the Dance</td>\n",
       "      <td>NaN</td>\n",
       "      <td>Europe</td>\n",
       "    </tr>\n",
       "    <tr>\n",
       "      <th>7993</th>\n",
       "      <td>2019-09-14 19:15:00.000000</td>\n",
       "      <td>Royal Albert Hall</td>\n",
       "      <td>United Kingdom</td>\n",
       "      <td>NaN</td>\n",
       "      <td>Prom 75: Last Night of the Proms</td>\n",
       "      <td>NaN</td>\n",
       "      <td>Europe</td>\n",
       "    </tr>\n",
       "    <tr>\n",
       "      <th>8059</th>\n",
       "      <td>2019-08-19 19:30:00.000000</td>\n",
       "      <td>Royal Albert Hall</td>\n",
       "      <td>United Kingdom</td>\n",
       "      <td>NaN</td>\n",
       "      <td>Prom 43: Beethoven’s Ninth Symphony</td>\n",
       "      <td>NaN</td>\n",
       "      <td>Europe</td>\n",
       "    </tr>\n",
       "    <tr>\n",
       "      <th>8063</th>\n",
       "      <td>2019-08-11 20:00:00.000000</td>\n",
       "      <td>Royal Albert Hall</td>\n",
       "      <td>United Kingdom</td>\n",
       "      <td>NaN</td>\n",
       "      <td>Prom 33: Mahler, Schubert &amp; Glanert</td>\n",
       "      <td>NaN</td>\n",
       "      <td>Europe</td>\n",
       "    </tr>\n",
       "    <tr>\n",
       "      <th>22681</th>\n",
       "      <td>2019-09-08 19:30:00.000000</td>\n",
       "      <td>Royal Albert Hall</td>\n",
       "      <td>United Kingdom</td>\n",
       "      <td>NaN</td>\n",
       "      <td>Prom 67: Sakari Oramo conducts Sibelius</td>\n",
       "      <td>NaN</td>\n",
       "      <td>Europe</td>\n",
       "    </tr>\n",
       "    <tr>\n",
       "      <th>24009</th>\n",
       "      <td>2019-08-29 19:00:00.000000</td>\n",
       "      <td>Royal Albert Hall</td>\n",
       "      <td>United Kingdom</td>\n",
       "      <td>NaN</td>\n",
       "      <td>Prom 53: Elgar's The Music Makers</td>\n",
       "      <td>NaN</td>\n",
       "      <td>Europe</td>\n",
       "    </tr>\n",
       "    <tr>\n",
       "      <th>24043</th>\n",
       "      <td>2019-08-06 19:30:00.000000</td>\n",
       "      <td>Royal Albert Hall</td>\n",
       "      <td>United Kingdom</td>\n",
       "      <td>NaN</td>\n",
       "      <td>Prom 25: Tchaikovsky, Sibelius &amp; Weinberg</td>\n",
       "      <td>NaN</td>\n",
       "      <td>Europe</td>\n",
       "    </tr>\n",
       "    <tr>\n",
       "      <th>24120</th>\n",
       "      <td>2019-07-28 19:30:00.000000</td>\n",
       "      <td>Royal Albert Hall</td>\n",
       "      <td>United Kingdom</td>\n",
       "      <td>NaN</td>\n",
       "      <td>Prom 13: ‘From the Canyons to the Stars …’</td>\n",
       "      <td>NaN</td>\n",
       "      <td>Europe</td>\n",
       "    </tr>\n",
       "  </tbody>\n",
       "</table>\n",
       "</div>"
      ],
      "text/plain": [
       "                             date              venue         country city  \\\n",
       "227    1965-08-31 19:30:00.000000  Royal Albert Hall  United Kingdom  NaN   \n",
       "7656   2019-08-24 19:30:00.000000  Royal Albert Hall  United Kingdom  NaN   \n",
       "7992   2019-07-24 19:30:00.000000  Royal Albert Hall  United Kingdom  NaN   \n",
       "7993   2019-09-14 19:15:00.000000  Royal Albert Hall  United Kingdom  NaN   \n",
       "8059   2019-08-19 19:30:00.000000  Royal Albert Hall  United Kingdom  NaN   \n",
       "8063   2019-08-11 20:00:00.000000  Royal Albert Hall  United Kingdom  NaN   \n",
       "22681  2019-09-08 19:30:00.000000  Royal Albert Hall  United Kingdom  NaN   \n",
       "24009  2019-08-29 19:00:00.000000  Royal Albert Hall  United Kingdom  NaN   \n",
       "24043  2019-08-06 19:30:00.000000  Royal Albert Hall  United Kingdom  NaN   \n",
       "24120  2019-07-28 19:30:00.000000  Royal Albert Hall  United Kingdom  NaN   \n",
       "\n",
       "                                             title  key continent  \n",
       "227                                        Prom 39  NaN    Europe  \n",
       "7656   Prom 48: Rachmaninov, Prokofiev & Silvestri  NaN    Europe  \n",
       "7992               Prom 8: Invitation to the Dance  NaN    Europe  \n",
       "7993              Prom 75: Last Night of the Proms  NaN    Europe  \n",
       "8059           Prom 43: Beethoven’s Ninth Symphony  NaN    Europe  \n",
       "8063           Prom 33: Mahler, Schubert & Glanert  NaN    Europe  \n",
       "22681      Prom 67: Sakari Oramo conducts Sibelius  NaN    Europe  \n",
       "24009            Prom 53: Elgar's The Music Makers  NaN    Europe  \n",
       "24043    Prom 25: Tchaikovsky, Sibelius & Weinberg  NaN    Europe  \n",
       "24120   Prom 13: ‘From the Canyons to the Stars …’  NaN    Europe  "
      ]
     },
     "execution_count": 5,
     "metadata": {},
     "output_type": "execute_result"
    }
   ],
   "source": [
    "# Extract performances \n",
    "df_perfs = performances[performances.id.apply(lambda x : x in entity_info.perf_list.to_list()[0])].loc[:, ['date', 'venue', 'country', 'city', 'title', 'key', 'continent']]\n",
    "df_perfs.head(10)"
   ]
  },
  {
   "cell_type": "markdown",
   "metadata": {},
   "source": [
    "## 2 - Pieces "
   ]
  },
  {
   "cell_type": "code",
   "execution_count": 6,
   "metadata": {},
   "outputs": [
    {
     "data": {
      "text/html": [
       "<div>\n",
       "<style scoped>\n",
       "    .dataframe tbody tr th:only-of-type {\n",
       "        vertical-align: middle;\n",
       "    }\n",
       "\n",
       "    .dataframe tbody tr th {\n",
       "        vertical-align: top;\n",
       "    }\n",
       "\n",
       "    .dataframe thead th {\n",
       "        text-align: right;\n",
       "    }\n",
       "</style>\n",
       "<table border=\"1\" class=\"dataframe\">\n",
       "  <thead>\n",
       "    <tr style=\"text-align: right;\">\n",
       "      <th></th>\n",
       "      <th>composer</th>\n",
       "      <th>title</th>\n",
       "      <th>source</th>\n",
       "    </tr>\n",
       "  </thead>\n",
       "  <tbody>\n",
       "    <tr>\n",
       "      <th>18072</th>\n",
       "      <td>Béla Bartók</td>\n",
       "      <td>Viola Concerto</td>\n",
       "      <td>20</td>\n",
       "    </tr>\n",
       "    <tr>\n",
       "      <th>18798</th>\n",
       "      <td>Pyotr Ilyich Tchaikovsky</td>\n",
       "      <td>Manfred</td>\n",
       "      <td>20</td>\n",
       "    </tr>\n",
       "    <tr>\n",
       "      <th>20499</th>\n",
       "      <td>Trad.</td>\n",
       "      <td>Londonderry Air (Danny Boy)</td>\n",
       "      <td>20</td>\n",
       "    </tr>\n",
       "    <tr>\n",
       "      <th>27121</th>\n",
       "      <td>Maurice Ravel</td>\n",
       "      <td>Tzigane</td>\n",
       "      <td>20</td>\n",
       "    </tr>\n",
       "    <tr>\n",
       "      <th>27270</th>\n",
       "      <td>Ludwig Van Beethoven</td>\n",
       "      <td>Concerto for violin</td>\n",
       "      <td>20</td>\n",
       "    </tr>\n",
       "    <tr>\n",
       "      <th>27272</th>\n",
       "      <td>Johannes Brahms</td>\n",
       "      <td>Double Concerto for violin and cello in A minor</td>\n",
       "      <td>20</td>\n",
       "    </tr>\n",
       "    <tr>\n",
       "      <th>27274</th>\n",
       "      <td>Igor Stravinsky</td>\n",
       "      <td>The Rite of Spring</td>\n",
       "      <td>20</td>\n",
       "    </tr>\n",
       "    <tr>\n",
       "      <th>27276</th>\n",
       "      <td>Claude Debussy</td>\n",
       "      <td>Jeux</td>\n",
       "      <td>20</td>\n",
       "    </tr>\n",
       "    <tr>\n",
       "      <th>27278</th>\n",
       "      <td>Igor Stravinsky</td>\n",
       "      <td>Petrushka (1911 version)</td>\n",
       "      <td>20</td>\n",
       "    </tr>\n",
       "    <tr>\n",
       "      <th>27291</th>\n",
       "      <td>Mozart Amadé Wolfgang</td>\n",
       "      <td>klavierkonzert</td>\n",
       "      <td>20</td>\n",
       "    </tr>\n",
       "  </tbody>\n",
       "</table>\n",
       "</div>"
      ],
      "text/plain": [
       "                       composer  \\\n",
       "18072               Béla Bartók   \n",
       "18798  Pyotr Ilyich Tchaikovsky   \n",
       "20499                     Trad.   \n",
       "27121             Maurice Ravel   \n",
       "27270      Ludwig Van Beethoven   \n",
       "27272           Johannes Brahms   \n",
       "27274           Igor Stravinsky   \n",
       "27276            Claude Debussy   \n",
       "27278           Igor Stravinsky   \n",
       "27291     Mozart Amadé Wolfgang   \n",
       "\n",
       "                                                 title  source  \n",
       "18072                                   Viola Concerto      20  \n",
       "18798                                          Manfred      20  \n",
       "20499                      Londonderry Air (Danny Boy)      20  \n",
       "27121                                          Tzigane      20  \n",
       "27270                              Concerto for violin      20  \n",
       "27272  Double Concerto for violin and cello in A minor      20  \n",
       "27274                               The Rite of Spring      20  \n",
       "27276                                             Jeux      20  \n",
       "27278                         Petrushka (1911 version)      20  \n",
       "27291                                   klavierkonzert      20  "
      ]
     },
     "execution_count": 6,
     "metadata": {},
     "output_type": "execute_result"
    }
   ],
   "source": [
    "df_pieces = pieces[pieces.id.apply(lambda x : x in entity_info.pieces_list.to_list()[0])]\n",
    "df_pieces.loc[:, ['composer', 'title', 'source']].head(10)"
   ]
  },
  {
   "cell_type": "markdown",
   "metadata": {},
   "source": [
    "## 3 - Media mentions "
   ]
  },
  {
   "cell_type": "code",
   "execution_count": 7,
   "metadata": {},
   "outputs": [
    {
     "data": {
      "text/html": [
       "<div>\n",
       "<style scoped>\n",
       "    .dataframe tbody tr th:only-of-type {\n",
       "        vertical-align: middle;\n",
       "    }\n",
       "\n",
       "    .dataframe tbody tr th {\n",
       "        vertical-align: top;\n",
       "    }\n",
       "\n",
       "    .dataframe thead th {\n",
       "        text-align: right;\n",
       "    }\n",
       "</style>\n",
       "<table border=\"1\" class=\"dataframe\">\n",
       "  <thead>\n",
       "    <tr style=\"text-align: right;\">\n",
       "      <th></th>\n",
       "      <th>comparable_text</th>\n",
       "      <th>url</th>\n",
       "      <th>header_text</th>\n",
       "    </tr>\n",
       "  </thead>\n",
       "  <tbody>\n",
       "    <tr>\n",
       "      <th>42532</th>\n",
       "      <td>The Listening Room: Episode 104 (8.1.21)</td>\n",
       "      <td>https://www.gramophone.co.uk/blogs/article/the...</td>\n",
       "      <td>The Listening Room: Episode 104 (8.1.21)</td>\n",
       "    </tr>\n",
       "    <tr>\n",
       "      <th>42533</th>\n",
       "      <td>The 50 best Beethoven albums (2021 update)</td>\n",
       "      <td>https://www.gramophone.co.uk/features/article/...</td>\n",
       "      <td>The 50 best Beethoven albums (2021 update)</td>\n",
       "    </tr>\n",
       "    <tr>\n",
       "      <th>42534</th>\n",
       "      <td>The best new classical albums: Editor's Choice...</td>\n",
       "      <td>https://www.gramophone.co.uk/features/article/...</td>\n",
       "      <td>The best new classical albums: Editor's Choice...</td>\n",
       "    </tr>\n",
       "    <tr>\n",
       "      <th>42535</th>\n",
       "      <td>Mahler's Symphony No 4: a complete guide to th...</td>\n",
       "      <td>https://www.gramophone.co.uk/features/article/...</td>\n",
       "      <td>Mahler's Symphony No 4: a complete guide to th...</td>\n",
       "    </tr>\n",
       "    <tr>\n",
       "      <th>42536</th>\n",
       "      <td>Gramophone launches Orchestra of the Year Awar...</td>\n",
       "      <td>https://www.gramophone.co.uk/classical-music-n...</td>\n",
       "      <td>Gramophone launches Orchestra of the Year Awar...</td>\n",
       "    </tr>\n",
       "    <tr>\n",
       "      <th>42537</th>\n",
       "      <td>Orchestra of the Year 2020 – the nominees, Part 2</td>\n",
       "      <td>https://www.gramophone.co.uk/podcasts/article/...</td>\n",
       "      <td>Orchestra of the Year 2020 – the nominees, Part 2</td>\n",
       "    </tr>\n",
       "    <tr>\n",
       "      <th>42538</th>\n",
       "      <td>How do you edit together a ‘Grand Virtual Orch...</td>\n",
       "      <td>https://www.gramophone.co.uk/features/article/...</td>\n",
       "      <td>How do you edit together a ‘Grand Virtual Orch...</td>\n",
       "    </tr>\n",
       "    <tr>\n",
       "      <th>42539</th>\n",
       "      <td>BBC Proms reveals full details of re-imagined ...</td>\n",
       "      <td>https://www.gramophone.co.uk/classical-music-n...</td>\n",
       "      <td>BBC Proms reveals full details of re-imagined ...</td>\n",
       "    </tr>\n",
       "    <tr>\n",
       "      <th>42540</th>\n",
       "      <td>Gramophone's Orchestra of the Year 2020: revea...</td>\n",
       "      <td>https://www.gramophone.co.uk/classical-music-n...</td>\n",
       "      <td>Gramophone's Orchestra of the Year 2020: revea...</td>\n",
       "    </tr>\n",
       "    <tr>\n",
       "      <th>42541</th>\n",
       "      <td>Dalia Stasevska named Lahti Symphony Chief Con...</td>\n",
       "      <td>https://www.gramophone.co.uk/classical-music-n...</td>\n",
       "      <td>Dalia Stasevska named Lahti Symphony Chief Con...</td>\n",
       "    </tr>\n",
       "  </tbody>\n",
       "</table>\n",
       "</div>"
      ],
      "text/plain": [
       "                                         comparable_text  \\\n",
       "42532           The Listening Room: Episode 104 (8.1.21)   \n",
       "42533         The 50 best Beethoven albums (2021 update)   \n",
       "42534  The best new classical albums: Editor's Choice...   \n",
       "42535  Mahler's Symphony No 4: a complete guide to th...   \n",
       "42536  Gramophone launches Orchestra of the Year Awar...   \n",
       "42537  Orchestra of the Year 2020 – the nominees, Part 2   \n",
       "42538  How do you edit together a ‘Grand Virtual Orch...   \n",
       "42539  BBC Proms reveals full details of re-imagined ...   \n",
       "42540  Gramophone's Orchestra of the Year 2020: revea...   \n",
       "42541  Dalia Stasevska named Lahti Symphony Chief Con...   \n",
       "\n",
       "                                                     url  \\\n",
       "42532  https://www.gramophone.co.uk/blogs/article/the...   \n",
       "42533  https://www.gramophone.co.uk/features/article/...   \n",
       "42534  https://www.gramophone.co.uk/features/article/...   \n",
       "42535  https://www.gramophone.co.uk/features/article/...   \n",
       "42536  https://www.gramophone.co.uk/classical-music-n...   \n",
       "42537  https://www.gramophone.co.uk/podcasts/article/...   \n",
       "42538  https://www.gramophone.co.uk/features/article/...   \n",
       "42539  https://www.gramophone.co.uk/classical-music-n...   \n",
       "42540  https://www.gramophone.co.uk/classical-music-n...   \n",
       "42541  https://www.gramophone.co.uk/classical-music-n...   \n",
       "\n",
       "                                             header_text  \n",
       "42532           The Listening Room: Episode 104 (8.1.21)  \n",
       "42533         The 50 best Beethoven albums (2021 update)  \n",
       "42534  The best new classical albums: Editor's Choice...  \n",
       "42535  Mahler's Symphony No 4: a complete guide to th...  \n",
       "42536  Gramophone launches Orchestra of the Year Awar...  \n",
       "42537  Orchestra of the Year 2020 – the nominees, Part 2  \n",
       "42538  How do you edit together a ‘Grand Virtual Orch...  \n",
       "42539  BBC Proms reveals full details of re-imagined ...  \n",
       "42540  Gramophone's Orchestra of the Year 2020: revea...  \n",
       "42541  Dalia Stasevska named Lahti Symphony Chief Con...  "
      ]
     },
     "execution_count": 7,
     "metadata": {},
     "output_type": "execute_result"
    }
   ],
   "source": [
    "df_medias = mediamentions[mediamentions.id.apply(lambda x : x in entity_info.media_mentions.to_list()[0])]\n",
    "df_medias.loc[:, ['comparable_text', 'url', 'header_text']].head(10)"
   ]
  },
  {
   "cell_type": "code",
   "execution_count": 16,
   "metadata": {},
   "outputs": [
    {
     "name": "stdout",
     "output_type": "stream",
     "text": [
      "The Listening Room: Episode 104 (8.1.21)\n"
     ]
    }
   ],
   "source": [
    "# One example of media mentions\n",
    "if len(df_medias) > 0 : \n",
    "    print(df_medias.iloc[0].comparable_text)"
   ]
  },
  {
   "cell_type": "markdown",
   "metadata": {},
   "source": [
    "## 4 - Wikipedia Page Views "
   ]
  },
  {
   "cell_type": "code",
   "execution_count": 9,
   "metadata": {},
   "outputs": [
    {
     "data": {
      "text/html": [
       "<div>\n",
       "<style scoped>\n",
       "    .dataframe tbody tr th:only-of-type {\n",
       "        vertical-align: middle;\n",
       "    }\n",
       "\n",
       "    .dataframe tbody tr th {\n",
       "        vertical-align: top;\n",
       "    }\n",
       "\n",
       "    .dataframe thead th {\n",
       "        text-align: right;\n",
       "    }\n",
       "</style>\n",
       "<table border=\"1\" class=\"dataframe\">\n",
       "  <thead>\n",
       "    <tr style=\"text-align: right;\">\n",
       "      <th></th>\n",
       "      <th>en</th>\n",
       "      <th>fr</th>\n",
       "      <th>de</th>\n",
       "      <th>it</th>\n",
       "      <th>ru</th>\n",
       "      <th>period_start_date</th>\n",
       "    </tr>\n",
       "  </thead>\n",
       "  <tbody>\n",
       "    <tr>\n",
       "      <th>5408</th>\n",
       "      <td>2076.0</td>\n",
       "      <td>4.0</td>\n",
       "      <td>152.0</td>\n",
       "      <td>69.0</td>\n",
       "      <td>NaN</td>\n",
       "      <td>2015-10-01</td>\n",
       "    </tr>\n",
       "    <tr>\n",
       "      <th>5409</th>\n",
       "      <td>1744.0</td>\n",
       "      <td>9.0</td>\n",
       "      <td>125.0</td>\n",
       "      <td>68.0</td>\n",
       "      <td>NaN</td>\n",
       "      <td>2015-11-01</td>\n",
       "    </tr>\n",
       "    <tr>\n",
       "      <th>5410</th>\n",
       "      <td>1614.0</td>\n",
       "      <td>13.0</td>\n",
       "      <td>213.0</td>\n",
       "      <td>48.0</td>\n",
       "      <td>NaN</td>\n",
       "      <td>2015-12-01</td>\n",
       "    </tr>\n",
       "    <tr>\n",
       "      <th>5411</th>\n",
       "      <td>2111.0</td>\n",
       "      <td>19.0</td>\n",
       "      <td>211.0</td>\n",
       "      <td>65.0</td>\n",
       "      <td>NaN</td>\n",
       "      <td>2016-01-01</td>\n",
       "    </tr>\n",
       "    <tr>\n",
       "      <th>5412</th>\n",
       "      <td>1609.0</td>\n",
       "      <td>6.0</td>\n",
       "      <td>138.0</td>\n",
       "      <td>66.0</td>\n",
       "      <td>NaN</td>\n",
       "      <td>2016-02-01</td>\n",
       "    </tr>\n",
       "  </tbody>\n",
       "</table>\n",
       "</div>"
      ],
      "text/plain": [
       "          en    fr     de    it  ru period_start_date\n",
       "5408  2076.0   4.0  152.0  69.0 NaN        2015-10-01\n",
       "5409  1744.0   9.0  125.0  68.0 NaN        2015-11-01\n",
       "5410  1614.0  13.0  213.0  48.0 NaN        2015-12-01\n",
       "5411  2111.0  19.0  211.0  65.0 NaN        2016-01-01\n",
       "5412  1609.0   6.0  138.0  66.0 NaN        2016-02-01"
      ]
     },
     "execution_count": 9,
     "metadata": {},
     "output_type": "execute_result"
    }
   ],
   "source": [
    "df_wiki = wikipedia_pv[wikipedia_pv.id.apply(lambda x : x in entity_info.wiki_pv.to_list()[0])]\n",
    "df_wiki.loc[:, ['en', 'fr', 'de', 'it', 'ru', 'period_start_date']].head(5)"
   ]
  },
  {
   "cell_type": "code",
   "execution_count": 10,
   "metadata": {},
   "outputs": [
    {
     "data": {
      "text/plain": [
       "[<matplotlib.lines.Line2D at 0x7f8e09c71640>]"
      ]
     },
     "execution_count": 10,
     "metadata": {},
     "output_type": "execute_result"
    },
    {
     "data": {
      "image/png": "[encoded data removed]",
      "text/plain": [
       "<Figure size 1296x360 with 1 Axes>"
      ]
     },
     "metadata": {
      "needs_background": "light"
     },
     "output_type": "display_data"
    }
   ],
   "source": [
    "import matplotlib.pyplot as plt\n",
    "x = df_wiki.period_start_date.to_list()\n",
    "y = df_wiki.en.to_list()\n",
    "plt.figure(figsize=[18, 5])\n",
    "plt.xticks(rotation=45)\n",
    "plt.plot(x, y)"
   ]
  },
  {
   "cell_type": "markdown",
   "metadata": {},
   "source": [
    "## 5 - Skills "
   ]
  },
  {
   "cell_type": "code",
   "execution_count": 11,
   "metadata": {},
   "outputs": [
    {
     "data": {
      "text/html": [
       "<div>\n",
       "<style scoped>\n",
       "    .dataframe tbody tr th:only-of-type {\n",
       "        vertical-align: middle;\n",
       "    }\n",
       "\n",
       "    .dataframe tbody tr th {\n",
       "        vertical-align: top;\n",
       "    }\n",
       "\n",
       "    .dataframe thead th {\n",
       "        text-align: right;\n",
       "    }\n",
       "</style>\n",
       "<table border=\"1\" class=\"dataframe\">\n",
       "  <thead>\n",
       "    <tr style=\"text-align: right;\">\n",
       "      <th></th>\n",
       "      <th>name</th>\n",
       "    </tr>\n",
       "  </thead>\n",
       "  <tbody>\n",
       "  </tbody>\n",
       "</table>\n",
       "</div>"
      ],
      "text/plain": [
       "Empty DataFrame\n",
       "Columns: [name]\n",
       "Index: []"
      ]
     },
     "execution_count": 11,
     "metadata": {},
     "output_type": "execute_result"
    }
   ],
   "source": [
    "df_skills = skills[skills.id.apply(lambda x : x in entity_info.skills_list.to_list()[0])]\n",
    "df_skills.loc[:, ['name']]"
   ]
  },
  {
   "cell_type": "markdown",
   "metadata": {},
   "source": [
    "## 6 - Alternative Names \n",
    "\n",
    "Alternative names are the names used by developpers to map down several entities to one during scraping operations. They are not related to the aliases found with fuzzy string matching during cleaning. "
   ]
  },
  {
   "cell_type": "code",
   "execution_count": 12,
   "metadata": {},
   "outputs": [
    {
     "data": {
      "text/plain": [
       "[['bbc symphony orchestra']]"
      ]
     },
     "execution_count": 12,
     "metadata": {},
     "output_type": "execute_result"
    }
   ],
   "source": [
    "entity_info.alter_names.to_list()"
   ]
  },
  {
   "cell_type": "markdown",
   "metadata": {},
   "source": [
    "## 7 - Biographies "
   ]
  },
  {
   "cell_type": "code",
   "execution_count": 13,
   "metadata": {},
   "outputs": [
    {
     "data": {
      "text/html": [
       "<div>\n",
       "<style scoped>\n",
       "    .dataframe tbody tr th:only-of-type {\n",
       "        vertical-align: middle;\n",
       "    }\n",
       "\n",
       "    .dataframe tbody tr th {\n",
       "        vertical-align: top;\n",
       "    }\n",
       "\n",
       "    .dataframe thead th {\n",
       "        text-align: right;\n",
       "    }\n",
       "</style>\n",
       "<table border=\"1\" class=\"dataframe\">\n",
       "  <thead>\n",
       "    <tr style=\"text-align: right;\">\n",
       "      <th></th>\n",
       "      <th>detail</th>\n",
       "      <th>year</th>\n",
       "      <th>source</th>\n",
       "    </tr>\n",
       "  </thead>\n",
       "  <tbody>\n",
       "  </tbody>\n",
       "</table>\n",
       "</div>"
      ],
      "text/plain": [
       "Empty DataFrame\n",
       "Columns: [detail, year, source]\n",
       "Index: []"
      ]
     },
     "execution_count": 13,
     "metadata": {},
     "output_type": "execute_result"
    }
   ],
   "source": [
    "df_bios = biographies[biographies.id.apply(lambda x : x in entity_info.bios_list.to_list()[0])]\n",
    "df_bios.loc[:, ['detail', 'year', 'source']]"
   ]
  },
  {
   "cell_type": "code",
   "execution_count": 14,
   "metadata": {},
   "outputs": [],
   "source": [
    "# One bography example \n",
    "if len(df_bios) > 0 : \n",
    "    print(df_bios.sample().detail)"
   ]
  },
  {
   "cell_type": "code",
   "execution_count": null,
   "metadata": {},
   "outputs": [],
   "source": []
  }
 ],
 "metadata": {
  "kernelspec": {
   "display_name": "Python 3",
   "language": "python",
   "name": "python3"
  },
  "language_info": {
   "codemirror_mode": {
    "name": "ipython",
    "version": 3
   },
   "file_extension": ".py",
   "mimetype": "text/x-python",
   "name": "python",
   "nbconvert_exporter": "python",
   "pygments_lexer": "ipython3",
   "version": "3.8.5"
  }
 },
 "nbformat": 4,
 "nbformat_minor": 4
}
