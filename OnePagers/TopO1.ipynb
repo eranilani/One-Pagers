{
 "cells": [
  {
   "cell_type": "markdown",
   "metadata": {},
   "source": [
    "#### Data Import "
   ]
  },
  {
   "cell_type": "code",
   "execution_count": 1,
   "metadata": {},
   "outputs": [],
   "source": [
    "# Imports\n",
    "import pandas as pd\n",
    "import warnings\n",
    "from helpers import * \n",
    "\n",
    "with warnings.catch_warnings():\n",
    "    warnings.simplefilter('ignore')\n",
    "    \n",
    "    # Import entities / skills / wikipedia\n",
    "    entities = pd.read_csv(\"../data/classeek_entities.csv\")\n",
    "    skills = pd.read_csv(\"../data/classeek_skills.csv\")\n",
    "    alt_names = pd.read_csv(\"../data/classeek_alternative_names.csv\")\n",
    "    performances = pd.read_csv(\"../data/classeek_performances.csv\")\n",
    "    pieces = pd.read_csv(\"../data/classeek_pieces.csv\")\n",
    "    wikipedia_pv = pd.read_csv(\"../data/classeek_wikipedia_page_views.csv\")\n",
    "    mediamentions = pd.read_csv(\"../data/classeek_media_mentions.csv\")\n",
    "    biographies = pd.read_csv(\"../data/classeek_biographies.csv\")\n",
    "\n",
    "    entities_performances = pd.read_csv(\"../data/classeek_entities_performances.csv\")\n",
    "    entities_pieces = pd.read_csv(\"../data/classeek_entities_pieces.csv\")\n",
    "    entities_skills = pd.read_csv(\"../data/classeek_entity_skills.csv\")"
   ]
  },
  {
   "cell_type": "markdown",
   "metadata": {},
   "source": [
    "# \n",
    "# Boston Symphony Orchestra\n",
    "#### Entity ID : 646cd5c9-e37f-4009-9daa-8d055f47c5af"
   ]
  },
  {
   "cell_type": "code",
   "execution_count": 2,
   "metadata": {},
   "outputs": [],
   "source": [
    "entity_id = '646cd5c9-e37f-4009-9daa-8d055f47c5af'"
   ]
  },
  {
   "cell_type": "markdown",
   "metadata": {},
   "source": [
    "## Basic Informations "
   ]
  },
  {
   "cell_type": "code",
   "execution_count": 3,
   "metadata": {},
   "outputs": [
    {
     "data": {
      "text/html": [
       "<div>\n",
       "<style scoped>\n",
       "    .dataframe tbody tr th:only-of-type {\n",
       "        vertical-align: middle;\n",
       "    }\n",
       "\n",
       "    .dataframe tbody tr th {\n",
       "        vertical-align: top;\n",
       "    }\n",
       "\n",
       "    .dataframe thead th {\n",
       "        text-align: right;\n",
       "    }\n",
       "</style>\n",
       "<table border=\"1\" class=\"dataframe\">\n",
       "  <thead>\n",
       "    <tr style=\"text-align: right;\">\n",
       "      <th></th>\n",
       "      <th>id</th>\n",
       "      <th>name</th>\n",
       "      <th>gender</th>\n",
       "      <th>alive</th>\n",
       "      <th>birth_date</th>\n",
       "      <th>death_date</th>\n",
       "      <th>current_influence_percentile</th>\n",
       "    </tr>\n",
       "  </thead>\n",
       "  <tbody>\n",
       "    <tr>\n",
       "      <th>75839</th>\n",
       "      <td>646cd5c9-e37f-4009-9daa-8d055f47c5af</td>\n",
       "      <td>Boston Symphony Orchestra</td>\n",
       "      <td>NaN</td>\n",
       "      <td>True</td>\n",
       "      <td>NaN</td>\n",
       "      <td>NaN</td>\n",
       "      <td>99.0</td>\n",
       "    </tr>\n",
       "  </tbody>\n",
       "</table>\n",
       "</div>"
      ],
      "text/plain": [
       "                                         id                       name  \\\n",
       "75839  646cd5c9-e37f-4009-9daa-8d055f47c5af  Boston Symphony Orchestra   \n",
       "\n",
       "       gender alive birth_date death_date  current_influence_percentile  \n",
       "75839     NaN  True        NaN        NaN                          99.0  "
      ]
     },
     "execution_count": 3,
     "metadata": {},
     "output_type": "execute_result"
    }
   ],
   "source": [
    "# Basic information about the entity \n",
    "entity_info = get_info(entity_id, entities, entities_performances, entities_pieces, entities_skills, mediamentions, \n",
    "             wikipedia_pv, biographies, alt_names, include_lists = True)\n",
    "infos = ['id', 'name', 'gender', 'alive', 'birth_date', 'death_date', 'current_influence_percentile']\n",
    "entity_info.iloc[:, 0:7]"
   ]
  },
  {
   "cell_type": "code",
   "execution_count": 4,
   "metadata": {},
   "outputs": [
    {
     "data": {
      "text/html": [
       "<div>\n",
       "<style scoped>\n",
       "    .dataframe tbody tr th:only-of-type {\n",
       "        vertical-align: middle;\n",
       "    }\n",
       "\n",
       "    .dataframe tbody tr th {\n",
       "        vertical-align: top;\n",
       "    }\n",
       "\n",
       "    .dataframe thead th {\n",
       "        text-align: right;\n",
       "    }\n",
       "</style>\n",
       "<table border=\"1\" class=\"dataframe\">\n",
       "  <thead>\n",
       "    <tr style=\"text-align: right;\">\n",
       "      <th></th>\n",
       "      <th>nb_perf</th>\n",
       "      <th>nb_pieces</th>\n",
       "      <th>nb_media_mentions</th>\n",
       "      <th>nb_skills</th>\n",
       "      <th>nb_alt_names</th>\n",
       "      <th>nb_biographies</th>\n",
       "    </tr>\n",
       "  </thead>\n",
       "  <tbody>\n",
       "    <tr>\n",
       "      <th>75839</th>\n",
       "      <td>22913</td>\n",
       "      <td>6332</td>\n",
       "      <td>1842</td>\n",
       "      <td>1</td>\n",
       "      <td>3</td>\n",
       "      <td>1</td>\n",
       "    </tr>\n",
       "  </tbody>\n",
       "</table>\n",
       "</div>"
      ],
      "text/plain": [
       "       nb_perf  nb_pieces  nb_media_mentions  nb_skills  nb_alt_names  \\\n",
       "75839    22913       6332               1842          1             3   \n",
       "\n",
       "       nb_biographies  \n",
       "75839               1  "
      ]
     },
     "execution_count": 4,
     "metadata": {},
     "output_type": "execute_result"
    }
   ],
   "source": [
    "# Number of cells in other tables linked to that entity \n",
    "entity_info.iloc[:, 7:13]"
   ]
  },
  {
   "cell_type": "markdown",
   "metadata": {},
   "source": [
    "## 1 - Performances "
   ]
  },
  {
   "cell_type": "code",
   "execution_count": 5,
   "metadata": {},
   "outputs": [
    {
     "data": {
      "text/html": [
       "<div>\n",
       "<style scoped>\n",
       "    .dataframe tbody tr th:only-of-type {\n",
       "        vertical-align: middle;\n",
       "    }\n",
       "\n",
       "    .dataframe tbody tr th {\n",
       "        vertical-align: top;\n",
       "    }\n",
       "\n",
       "    .dataframe thead th {\n",
       "        text-align: right;\n",
       "    }\n",
       "</style>\n",
       "<table border=\"1\" class=\"dataframe\">\n",
       "  <thead>\n",
       "    <tr style=\"text-align: right;\">\n",
       "      <th></th>\n",
       "      <th>date</th>\n",
       "      <th>venue</th>\n",
       "      <th>country</th>\n",
       "      <th>city</th>\n",
       "      <th>title</th>\n",
       "      <th>key</th>\n",
       "      <th>continent</th>\n",
       "    </tr>\n",
       "  </thead>\n",
       "  <tbody>\n",
       "    <tr>\n",
       "      <th>3065</th>\n",
       "      <td>2018-09-15 20:30:00.000000</td>\n",
       "      <td>Grande salle Pierre Boulez - Philharmonie</td>\n",
       "      <td>France</td>\n",
       "      <td>NaN</td>\n",
       "      <td>Boston Symphony Orchestra / Andris Nelsons</td>\n",
       "      <td>NaN</td>\n",
       "      <td>Europe</td>\n",
       "    </tr>\n",
       "    <tr>\n",
       "      <th>4137</th>\n",
       "      <td>2018-09-16 16:30:00.000000</td>\n",
       "      <td>Grande salle Pierre Boulez - Philharmonie</td>\n",
       "      <td>France</td>\n",
       "      <td>NaN</td>\n",
       "      <td>Boston - Andris Nelsons</td>\n",
       "      <td>NaN</td>\n",
       "      <td>Europe</td>\n",
       "    </tr>\n",
       "    <tr>\n",
       "      <th>5023</th>\n",
       "      <td>2015-09-03 20:30:00.000000</td>\n",
       "      <td>Grande salle Pierre Boulez - Philharmonie</td>\n",
       "      <td>France</td>\n",
       "      <td>NaN</td>\n",
       "      <td>Boston Symphony Orchestra</td>\n",
       "      <td>NaN</td>\n",
       "      <td>Europe</td>\n",
       "    </tr>\n",
       "    <tr>\n",
       "      <th>6825</th>\n",
       "      <td>1963-01-21 00:00:00.000000</td>\n",
       "      <td>Boston Symphony Orchestra</td>\n",
       "      <td>United States</td>\n",
       "      <td>NaN</td>\n",
       "      <td>Boston Symphony Orchestra concert program, Mon...</td>\n",
       "      <td>NaN</td>\n",
       "      <td>North America</td>\n",
       "    </tr>\n",
       "    <tr>\n",
       "      <th>6826</th>\n",
       "      <td>1947-04-01 00:00:00.000000</td>\n",
       "      <td>Sanders Theatre, Harvard University, Cambridge</td>\n",
       "      <td>United States</td>\n",
       "      <td>NaN</td>\n",
       "      <td>Boston Symphony Orchestra concert program, Tri...</td>\n",
       "      <td>NaN</td>\n",
       "      <td>North America</td>\n",
       "    </tr>\n",
       "    <tr>\n",
       "      <th>6828</th>\n",
       "      <td>1931-04-06 00:00:00.000000</td>\n",
       "      <td>Boston Symphony Orchestra</td>\n",
       "      <td>United States</td>\n",
       "      <td>NaN</td>\n",
       "      <td>Boston Symphony Orchestra concert program, You...</td>\n",
       "      <td>NaN</td>\n",
       "      <td>North America</td>\n",
       "    </tr>\n",
       "    <tr>\n",
       "      <th>6829</th>\n",
       "      <td>1931-04-07 00:00:00.000000</td>\n",
       "      <td>Boston Symphony Orchestra</td>\n",
       "      <td>United States</td>\n",
       "      <td>NaN</td>\n",
       "      <td>Boston Symphony Orchestra concert program, You...</td>\n",
       "      <td>NaN</td>\n",
       "      <td>North America</td>\n",
       "    </tr>\n",
       "    <tr>\n",
       "      <th>6830</th>\n",
       "      <td>1947-02-04 00:00:00.000000</td>\n",
       "      <td>Sanders Theatre, Harvard University, Cambridge</td>\n",
       "      <td>United States</td>\n",
       "      <td>NaN</td>\n",
       "      <td>Boston Symphony Orchestra concert program, Tri...</td>\n",
       "      <td>NaN</td>\n",
       "      <td>North America</td>\n",
       "    </tr>\n",
       "    <tr>\n",
       "      <th>6831</th>\n",
       "      <td>1935-04-16 00:00:00.000000</td>\n",
       "      <td>Boston Symphony Orchestra</td>\n",
       "      <td>United States</td>\n",
       "      <td>NaN</td>\n",
       "      <td>Boston Symphony Orchestra concert program, Tue...</td>\n",
       "      <td>NaN</td>\n",
       "      <td>North America</td>\n",
       "    </tr>\n",
       "    <tr>\n",
       "      <th>6832</th>\n",
       "      <td>1930-01-21 00:00:00.000000</td>\n",
       "      <td>E. F. Albee Theatre, Providence</td>\n",
       "      <td>United States</td>\n",
       "      <td>NaN</td>\n",
       "      <td>Boston Symphony Orchestra concert program, Tri...</td>\n",
       "      <td>NaN</td>\n",
       "      <td>North America</td>\n",
       "    </tr>\n",
       "  </tbody>\n",
       "</table>\n",
       "</div>"
      ],
      "text/plain": [
       "                            date  \\\n",
       "3065  2018-09-15 20:30:00.000000   \n",
       "4137  2018-09-16 16:30:00.000000   \n",
       "5023  2015-09-03 20:30:00.000000   \n",
       "6825  1963-01-21 00:00:00.000000   \n",
       "6826  1947-04-01 00:00:00.000000   \n",
       "6828  1931-04-06 00:00:00.000000   \n",
       "6829  1931-04-07 00:00:00.000000   \n",
       "6830  1947-02-04 00:00:00.000000   \n",
       "6831  1935-04-16 00:00:00.000000   \n",
       "6832  1930-01-21 00:00:00.000000   \n",
       "\n",
       "                                               venue        country city  \\\n",
       "3065       Grande salle Pierre Boulez - Philharmonie         France  NaN   \n",
       "4137       Grande salle Pierre Boulez - Philharmonie         France  NaN   \n",
       "5023       Grande salle Pierre Boulez - Philharmonie         France  NaN   \n",
       "6825                       Boston Symphony Orchestra  United States  NaN   \n",
       "6826  Sanders Theatre, Harvard University, Cambridge  United States  NaN   \n",
       "6828                       Boston Symphony Orchestra  United States  NaN   \n",
       "6829                       Boston Symphony Orchestra  United States  NaN   \n",
       "6830  Sanders Theatre, Harvard University, Cambridge  United States  NaN   \n",
       "6831                       Boston Symphony Orchestra  United States  NaN   \n",
       "6832                 E. F. Albee Theatre, Providence  United States  NaN   \n",
       "\n",
       "                                                  title  key      continent  \n",
       "3065         Boston Symphony Orchestra / Andris Nelsons  NaN         Europe  \n",
       "4137                            Boston - Andris Nelsons  NaN         Europe  \n",
       "5023                          Boston Symphony Orchestra  NaN         Europe  \n",
       "6825  Boston Symphony Orchestra concert program, Mon...  NaN  North America  \n",
       "6826  Boston Symphony Orchestra concert program, Tri...  NaN  North America  \n",
       "6828  Boston Symphony Orchestra concert program, You...  NaN  North America  \n",
       "6829  Boston Symphony Orchestra concert program, You...  NaN  North America  \n",
       "6830  Boston Symphony Orchestra concert program, Tri...  NaN  North America  \n",
       "6831  Boston Symphony Orchestra concert program, Tue...  NaN  North America  \n",
       "6832  Boston Symphony Orchestra concert program, Tri...  NaN  North America  "
      ]
     },
     "execution_count": 5,
     "metadata": {},
     "output_type": "execute_result"
    }
   ],
   "source": [
    "# Extract performances \n",
    "df_perfs = performances[performances.id.apply(lambda x : x in entity_info.perf_list.to_list()[0])].loc[:, ['date', 'venue', 'country', 'city', 'title', 'key', 'continent']]\n",
    "df_perfs.head(10)"
   ]
  },
  {
   "cell_type": "markdown",
   "metadata": {},
   "source": [
    "## 2 - Pieces "
   ]
  },
  {
   "cell_type": "code",
   "execution_count": 6,
   "metadata": {},
   "outputs": [
    {
     "data": {
      "text/html": [
       "<div>\n",
       "<style scoped>\n",
       "    .dataframe tbody tr th:only-of-type {\n",
       "        vertical-align: middle;\n",
       "    }\n",
       "\n",
       "    .dataframe tbody tr th {\n",
       "        vertical-align: top;\n",
       "    }\n",
       "\n",
       "    .dataframe thead th {\n",
       "        text-align: right;\n",
       "    }\n",
       "</style>\n",
       "<table border=\"1\" class=\"dataframe\">\n",
       "  <thead>\n",
       "    <tr style=\"text-align: right;\">\n",
       "      <th></th>\n",
       "      <th>composer</th>\n",
       "      <th>title</th>\n",
       "      <th>source</th>\n",
       "    </tr>\n",
       "  </thead>\n",
       "  <tbody>\n",
       "    <tr>\n",
       "      <th>725</th>\n",
       "      <td>Bohuslav  Martinu</td>\n",
       "      <td>SYMPHONY NO.   3</td>\n",
       "      <td>15</td>\n",
       "    </tr>\n",
       "    <tr>\n",
       "      <th>856</th>\n",
       "      <td>George  Handel</td>\n",
       "      <td>LARGO FROM 'SERSE'</td>\n",
       "      <td>15</td>\n",
       "    </tr>\n",
       "    <tr>\n",
       "      <th>925</th>\n",
       "      <td>Dmitri Chostakovitch</td>\n",
       "      <td>Symphonie n° 10</td>\n",
       "      <td>7</td>\n",
       "    </tr>\n",
       "    <tr>\n",
       "      <th>1114</th>\n",
       "      <td>Richard Wagner</td>\n",
       "      <td>OVERTURE TO RIENZI</td>\n",
       "      <td>15</td>\n",
       "    </tr>\n",
       "    <tr>\n",
       "      <th>1414</th>\n",
       "      <td>Gustav Mahler</td>\n",
       "      <td>Symphonie n° 3</td>\n",
       "      <td>7</td>\n",
       "    </tr>\n",
       "    <tr>\n",
       "      <th>1666</th>\n",
       "      <td>Antonin Dvorák</td>\n",
       "      <td>SYMPHONY NO. 7</td>\n",
       "      <td>15</td>\n",
       "    </tr>\n",
       "    <tr>\n",
       "      <th>1746</th>\n",
       "      <td>Richard Strauss</td>\n",
       "      <td>Don Quichotte</td>\n",
       "      <td>7</td>\n",
       "    </tr>\n",
       "    <tr>\n",
       "      <th>1905</th>\n",
       "      <td>Cyril  Scott</td>\n",
       "      <td>TWO PASSACAGLIAS</td>\n",
       "      <td>15</td>\n",
       "    </tr>\n",
       "    <tr>\n",
       "      <th>2373</th>\n",
       "      <td>Gioachino Rossini</td>\n",
       "      <td>OVERTURE TO L'ITALIANA IN ALGERI</td>\n",
       "      <td>15</td>\n",
       "    </tr>\n",
       "    <tr>\n",
       "      <th>2374</th>\n",
       "      <td>Wolfgang  Mozart</td>\n",
       "      <td>SYMPHONY NO. 38 IN D, K.504, PRAGUE</td>\n",
       "      <td>15</td>\n",
       "    </tr>\n",
       "  </tbody>\n",
       "</table>\n",
       "</div>"
      ],
      "text/plain": [
       "                  composer                                title  source\n",
       "725      Bohuslav  Martinu                     SYMPHONY NO.   3      15\n",
       "856         George  Handel                   LARGO FROM 'SERSE'      15\n",
       "925   Dmitri Chostakovitch                      Symphonie n° 10       7\n",
       "1114        Richard Wagner                   OVERTURE TO RIENZI      15\n",
       "1414         Gustav Mahler                       Symphonie n° 3       7\n",
       "1666        Antonin Dvorák                       SYMPHONY NO. 7      15\n",
       "1746       Richard Strauss                       Don Quichotte        7\n",
       "1905          Cyril  Scott                     TWO PASSACAGLIAS      15\n",
       "2373     Gioachino Rossini     OVERTURE TO L'ITALIANA IN ALGERI      15\n",
       "2374      Wolfgang  Mozart  SYMPHONY NO. 38 IN D, K.504, PRAGUE      15"
      ]
     },
     "execution_count": 6,
     "metadata": {},
     "output_type": "execute_result"
    }
   ],
   "source": [
    "df_pieces = pieces[pieces.id.apply(lambda x : x in entity_info.pieces_list.to_list()[0])]\n",
    "df_pieces.loc[:, ['composer', 'title', 'source']].head(10)"
   ]
  },
  {
   "cell_type": "markdown",
   "metadata": {},
   "source": [
    "## 3 - Media mentions "
   ]
  },
  {
   "cell_type": "code",
   "execution_count": 7,
   "metadata": {},
   "outputs": [
    {
     "data": {
      "text/html": [
       "<div>\n",
       "<style scoped>\n",
       "    .dataframe tbody tr th:only-of-type {\n",
       "        vertical-align: middle;\n",
       "    }\n",
       "\n",
       "    .dataframe tbody tr th {\n",
       "        vertical-align: top;\n",
       "    }\n",
       "\n",
       "    .dataframe thead th {\n",
       "        text-align: right;\n",
       "    }\n",
       "</style>\n",
       "<table border=\"1\" class=\"dataframe\">\n",
       "  <thead>\n",
       "    <tr style=\"text-align: right;\">\n",
       "      <th></th>\n",
       "      <th>comparable_text</th>\n",
       "      <th>url</th>\n",
       "      <th>header_text</th>\n",
       "    </tr>\n",
       "  </thead>\n",
       "  <tbody>\n",
       "    <tr>\n",
       "      <th>13286</th>\n",
       "      <td>Steve Reich's Four Organs</td>\n",
       "      <td>https://www.gramophone.co.uk/features/article/...</td>\n",
       "      <td>Steve Reich's Four Organs</td>\n",
       "    </tr>\n",
       "    <tr>\n",
       "      <th>13754</th>\n",
       "      <td>Britten's War Requiem</td>\n",
       "      <td>https://www.gramophone.co.uk/features/article/...</td>\n",
       "      <td>Britten's War Requiem</td>\n",
       "    </tr>\n",
       "    <tr>\n",
       "      <th>16083</th>\n",
       "      <td>Knoxville: Summer of 1915</td>\n",
       "      <td>https://www.gramophone.co.uk/features/article/...</td>\n",
       "      <td>Knoxville: Summer of 1915</td>\n",
       "    </tr>\n",
       "    <tr>\n",
       "      <th>16202</th>\n",
       "      <td>February 2011 reviews</td>\n",
       "      <td>https://www.gramophone.co.uk/features/article/...</td>\n",
       "      <td>February 2011 reviews</td>\n",
       "    </tr>\n",
       "    <tr>\n",
       "      <th>17555</th>\n",
       "      <td>MusicBoston Symphony Orchestra/Levine, Symphon...</td>\n",
       "      <td>https://www.ft.com/content/7aced680-f792-11dd-...</td>\n",
       "      <td>Boston Symphony Orchestra/Levine, Symphony Hal...</td>\n",
       "    </tr>\n",
       "    <tr>\n",
       "      <th>17620</th>\n",
       "      <td>MusicBoston Symphony Orchestra/LevineDecember ...</td>\n",
       "      <td>https://www.ft.com/content/d361cb5a-c6cc-11dd-...</td>\n",
       "      <td>Boston Symphony Orchestra/Levine</td>\n",
       "    </tr>\n",
       "    <tr>\n",
       "      <th>17623</th>\n",
       "      <td>ReviewMusicBoston and Birmingham orchestras se...</td>\n",
       "      <td>https://www.ft.com/content/2df74ceb-8bd5-4ce2-...</td>\n",
       "      <td>Boston and Birmingham orchestras seek a wider ...</td>\n",
       "    </tr>\n",
       "    <tr>\n",
       "      <th>17624</th>\n",
       "      <td>ReviewMusicEdinburgh International Festival — ...</td>\n",
       "      <td>https://www.ft.com/content/b0e40e13-05f5-4728-...</td>\n",
       "      <td>Edinburgh International Festival — classical c...</td>\n",
       "    </tr>\n",
       "    <tr>\n",
       "      <th>17625</th>\n",
       "      <td>MusicConcerts online are here to stay — but ca...</td>\n",
       "      <td>https://www.ft.com/content/3e46aad1-6d84-48ee-...</td>\n",
       "      <td>Concerts online are here to stay — but can it ...</td>\n",
       "    </tr>\n",
       "    <tr>\n",
       "      <th>17626</th>\n",
       "      <td>ReviewMusicTanglewood and Santa Fe festivals g...</td>\n",
       "      <td>https://www.ft.com/content/f014fc2b-ed9e-4cbf-...</td>\n",
       "      <td>Tanglewood and Santa Fe festivals give a taste...</td>\n",
       "    </tr>\n",
       "  </tbody>\n",
       "</table>\n",
       "</div>"
      ],
      "text/plain": [
       "                                         comparable_text  \\\n",
       "13286                          Steve Reich's Four Organs   \n",
       "13754                              Britten's War Requiem   \n",
       "16083                          Knoxville: Summer of 1915   \n",
       "16202                              February 2011 reviews   \n",
       "17555  MusicBoston Symphony Orchestra/Levine, Symphon...   \n",
       "17620  MusicBoston Symphony Orchestra/LevineDecember ...   \n",
       "17623  ReviewMusicBoston and Birmingham orchestras se...   \n",
       "17624  ReviewMusicEdinburgh International Festival — ...   \n",
       "17625  MusicConcerts online are here to stay — but ca...   \n",
       "17626  ReviewMusicTanglewood and Santa Fe festivals g...   \n",
       "\n",
       "                                                     url  \\\n",
       "13286  https://www.gramophone.co.uk/features/article/...   \n",
       "13754  https://www.gramophone.co.uk/features/article/...   \n",
       "16083  https://www.gramophone.co.uk/features/article/...   \n",
       "16202  https://www.gramophone.co.uk/features/article/...   \n",
       "17555  https://www.ft.com/content/7aced680-f792-11dd-...   \n",
       "17620  https://www.ft.com/content/d361cb5a-c6cc-11dd-...   \n",
       "17623  https://www.ft.com/content/2df74ceb-8bd5-4ce2-...   \n",
       "17624  https://www.ft.com/content/b0e40e13-05f5-4728-...   \n",
       "17625  https://www.ft.com/content/3e46aad1-6d84-48ee-...   \n",
       "17626  https://www.ft.com/content/f014fc2b-ed9e-4cbf-...   \n",
       "\n",
       "                                             header_text  \n",
       "13286                          Steve Reich's Four Organs  \n",
       "13754                              Britten's War Requiem  \n",
       "16083                          Knoxville: Summer of 1915  \n",
       "16202                              February 2011 reviews  \n",
       "17555  Boston Symphony Orchestra/Levine, Symphony Hal...  \n",
       "17620                   Boston Symphony Orchestra/Levine  \n",
       "17623  Boston and Birmingham orchestras seek a wider ...  \n",
       "17624  Edinburgh International Festival — classical c...  \n",
       "17625  Concerts online are here to stay — but can it ...  \n",
       "17626  Tanglewood and Santa Fe festivals give a taste...  "
      ]
     },
     "execution_count": 7,
     "metadata": {},
     "output_type": "execute_result"
    }
   ],
   "source": [
    "df_medias = mediamentions[mediamentions.id.apply(lambda x : x in entity_info.media_mentions.to_list()[0])]\n",
    "df_medias.loc[:, ['comparable_text', 'url', 'header_text']].head(10)"
   ]
  },
  {
   "cell_type": "code",
   "execution_count": 8,
   "metadata": {},
   "outputs": [],
   "source": [
    "# One example of media mentions\n",
    "if len(df_medias) > 0 : \n",
    "    df_medias.iloc[2].comparable_text"
   ]
  },
  {
   "cell_type": "markdown",
   "metadata": {},
   "source": [
    "## 4 - Wikipedia Page Views "
   ]
  },
  {
   "cell_type": "code",
   "execution_count": 9,
   "metadata": {},
   "outputs": [
    {
     "data": {
      "text/html": [
       "<div>\n",
       "<style scoped>\n",
       "    .dataframe tbody tr th:only-of-type {\n",
       "        vertical-align: middle;\n",
       "    }\n",
       "\n",
       "    .dataframe tbody tr th {\n",
       "        vertical-align: top;\n",
       "    }\n",
       "\n",
       "    .dataframe thead th {\n",
       "        text-align: right;\n",
       "    }\n",
       "</style>\n",
       "<table border=\"1\" class=\"dataframe\">\n",
       "  <thead>\n",
       "    <tr style=\"text-align: right;\">\n",
       "      <th></th>\n",
       "      <th>en</th>\n",
       "      <th>fr</th>\n",
       "      <th>de</th>\n",
       "      <th>it</th>\n",
       "      <th>ru</th>\n",
       "      <th>period_start_date</th>\n",
       "    </tr>\n",
       "  </thead>\n",
       "  <tbody>\n",
       "    <tr>\n",
       "      <th>4940</th>\n",
       "      <td>4341.0</td>\n",
       "      <td>21.0</td>\n",
       "      <td>476.0</td>\n",
       "      <td>82.0</td>\n",
       "      <td>NaN</td>\n",
       "      <td>2015-10-01</td>\n",
       "    </tr>\n",
       "    <tr>\n",
       "      <th>4941</th>\n",
       "      <td>3621.0</td>\n",
       "      <td>21.0</td>\n",
       "      <td>375.0</td>\n",
       "      <td>102.0</td>\n",
       "      <td>NaN</td>\n",
       "      <td>2015-11-01</td>\n",
       "    </tr>\n",
       "    <tr>\n",
       "      <th>4942</th>\n",
       "      <td>5288.0</td>\n",
       "      <td>16.0</td>\n",
       "      <td>675.0</td>\n",
       "      <td>122.0</td>\n",
       "      <td>NaN</td>\n",
       "      <td>2015-12-01</td>\n",
       "    </tr>\n",
       "    <tr>\n",
       "      <th>4943</th>\n",
       "      <td>4491.0</td>\n",
       "      <td>23.0</td>\n",
       "      <td>548.0</td>\n",
       "      <td>146.0</td>\n",
       "      <td>NaN</td>\n",
       "      <td>2016-01-01</td>\n",
       "    </tr>\n",
       "    <tr>\n",
       "      <th>4944</th>\n",
       "      <td>3866.0</td>\n",
       "      <td>15.0</td>\n",
       "      <td>431.0</td>\n",
       "      <td>141.0</td>\n",
       "      <td>NaN</td>\n",
       "      <td>2016-02-01</td>\n",
       "    </tr>\n",
       "  </tbody>\n",
       "</table>\n",
       "</div>"
      ],
      "text/plain": [
       "          en    fr     de     it  ru period_start_date\n",
       "4940  4341.0  21.0  476.0   82.0 NaN        2015-10-01\n",
       "4941  3621.0  21.0  375.0  102.0 NaN        2015-11-01\n",
       "4942  5288.0  16.0  675.0  122.0 NaN        2015-12-01\n",
       "4943  4491.0  23.0  548.0  146.0 NaN        2016-01-01\n",
       "4944  3866.0  15.0  431.0  141.0 NaN        2016-02-01"
      ]
     },
     "execution_count": 9,
     "metadata": {},
     "output_type": "execute_result"
    }
   ],
   "source": [
    "df_wiki = wikipedia_pv[wikipedia_pv.id.apply(lambda x : x in entity_info.wiki_pv.to_list()[0])]\n",
    "df_wiki.loc[:, ['en', 'fr', 'de', 'it', 'ru', 'period_start_date']].head(5)"
   ]
  },
  {
   "cell_type": "code",
   "execution_count": 10,
   "metadata": {},
   "outputs": [
    {
     "data": {
      "text/plain": [
       "[<matplotlib.lines.Line2D at 0x7fe7a9d3b640>]"
      ]
     },
     "execution_count": 10,
     "metadata": {},
     "output_type": "execute_result"
    },
    {
     "data": {
      "image/png": "[encoded data removed]",
      "text/plain": [
       "<Figure size 1296x360 with 1 Axes>"
      ]
     },
     "metadata": {
      "needs_background": "light"
     },
     "output_type": "display_data"
    }
   ],
   "source": [
    "import matplotlib.pyplot as plt\n",
    "x = df_wiki.period_start_date.to_list()\n",
    "y = df_wiki.en.to_list()\n",
    "plt.figure(figsize=[18, 5])\n",
    "plt.xticks(rotation=45)\n",
    "plt.plot(x, y)"
   ]
  },
  {
   "cell_type": "markdown",
   "metadata": {},
   "source": [
    "## 5 - Skills "
   ]
  },
  {
   "cell_type": "code",
   "execution_count": 11,
   "metadata": {},
   "outputs": [
    {
     "data": {
      "text/html": [
       "<div>\n",
       "<style scoped>\n",
       "    .dataframe tbody tr th:only-of-type {\n",
       "        vertical-align: middle;\n",
       "    }\n",
       "\n",
       "    .dataframe tbody tr th {\n",
       "        vertical-align: top;\n",
       "    }\n",
       "\n",
       "    .dataframe thead th {\n",
       "        text-align: right;\n",
       "    }\n",
       "</style>\n",
       "<table border=\"1\" class=\"dataframe\">\n",
       "  <thead>\n",
       "    <tr style=\"text-align: right;\">\n",
       "      <th></th>\n",
       "      <th>name</th>\n",
       "    </tr>\n",
       "  </thead>\n",
       "  <tbody>\n",
       "    <tr>\n",
       "      <th>26</th>\n",
       "      <td>Orchestra</td>\n",
       "    </tr>\n",
       "  </tbody>\n",
       "</table>\n",
       "</div>"
      ],
      "text/plain": [
       "         name\n",
       "26  Orchestra"
      ]
     },
     "execution_count": 11,
     "metadata": {},
     "output_type": "execute_result"
    }
   ],
   "source": [
    "df_skills = skills[skills.id.apply(lambda x : x in entity_info.skills_list.to_list()[0])]\n",
    "df_skills.loc[:, ['name']]"
   ]
  },
  {
   "cell_type": "markdown",
   "metadata": {},
   "source": [
    "## 6 - Alternative Names \n",
    "\n",
    "Alternative names are the names used by developpers to map down several entities to one during scraping operations. They are not related to the aliases found with fuzzy string matching during cleaning. "
   ]
  },
  {
   "cell_type": "code",
   "execution_count": 12,
   "metadata": {},
   "outputs": [
    {
     "data": {
      "text/plain": [
       "[['boston symphony orchestra',\n",
       "  'boston symphony',\n",
       "  'the boston symphony orchestra']]"
      ]
     },
     "execution_count": 12,
     "metadata": {},
     "output_type": "execute_result"
    }
   ],
   "source": [
    "entity_info.alter_names.to_list()"
   ]
  },
  {
   "cell_type": "markdown",
   "metadata": {},
   "source": [
    "## 7 - Biographies "
   ]
  },
  {
   "cell_type": "code",
   "execution_count": 13,
   "metadata": {},
   "outputs": [
    {
     "data": {
      "text/html": [
       "<div>\n",
       "<style scoped>\n",
       "    .dataframe tbody tr th:only-of-type {\n",
       "        vertical-align: middle;\n",
       "    }\n",
       "\n",
       "    .dataframe tbody tr th {\n",
       "        vertical-align: top;\n",
       "    }\n",
       "\n",
       "    .dataframe thead th {\n",
       "        text-align: right;\n",
       "    }\n",
       "</style>\n",
       "<table border=\"1\" class=\"dataframe\">\n",
       "  <thead>\n",
       "    <tr style=\"text-align: right;\">\n",
       "      <th></th>\n",
       "      <th>detail</th>\n",
       "      <th>year</th>\n",
       "      <th>source</th>\n",
       "    </tr>\n",
       "  </thead>\n",
       "  <tbody>\n",
       "    <tr>\n",
       "      <th>25954</th>\n",
       "      <td>The Boston Symphony Orchestra presents more th...</td>\n",
       "      <td>2018</td>\n",
       "      <td>11</td>\n",
       "    </tr>\n",
       "  </tbody>\n",
       "</table>\n",
       "</div>"
      ],
      "text/plain": [
       "                                                  detail  year  source\n",
       "25954  The Boston Symphony Orchestra presents more th...  2018      11"
      ]
     },
     "execution_count": 13,
     "metadata": {},
     "output_type": "execute_result"
    }
   ],
   "source": [
    "df_bios = biographies[biographies.id.apply(lambda x : x in entity_info.bios_list.to_list()[0])]\n",
    "df_bios.loc[:, ['detail', 'year', 'source']]"
   ]
  },
  {
   "cell_type": "code",
   "execution_count": 20,
   "metadata": {},
   "outputs": [
    {
     "name": "stdout",
     "output_type": "stream",
     "text": [
      "The Boston Symphony Orchestra presents more than 250 concerts annually at Symphony Hall, Tanglewood, and Carnegie Hall, as well as throughout the United States, Europe and Asia. Starting in the 2004-2005 season, James Levine joined the Boston Symphony Orchestra as Music Director, succeeding Seiji Ozawa who lead the orchestra for more than 28-years.\n"
     ]
    }
   ],
   "source": [
    "# One biography example \n",
    "if df_bios.shape[0] > 0 : \n",
    "    print(df_bios.iloc[0].detail)"
   ]
  },
  {
   "cell_type": "code",
   "execution_count": null,
   "metadata": {},
   "outputs": [],
   "source": []
  }
 ],
 "metadata": {
  "kernelspec": {
   "display_name": "Python 3",
   "language": "python",
   "name": "python3"
  },
  "language_info": {
   "codemirror_mode": {
    "name": "ipython",
    "version": 3
   },
   "file_extension": ".py",
   "mimetype": "text/x-python",
   "name": "python",
   "nbconvert_exporter": "python",
   "pygments_lexer": "ipython3",
   "version": "3.8.5"
  }
 },
 "nbformat": 4,
 "nbformat_minor": 4
}
