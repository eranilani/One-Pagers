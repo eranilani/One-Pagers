{
 "cells": [
  {
   "cell_type": "markdown",
   "metadata": {},
   "source": [
    "#### Data Import "
   ]
  },
  {
   "cell_type": "code",
   "execution_count": 16,
   "metadata": {},
   "outputs": [],
   "source": [
    "# Imports\n",
    "import pandas as pd\n",
    "import warnings\n",
    "from helpers import * \n",
    "\n",
    "with warnings.catch_warnings():\n",
    "    warnings.simplefilter('ignore')\n",
    "\n",
    "    # Import entities / skills / wikipedia\n",
    "    entities = pd.read_csv(\"../data/classeek_entities.csv\")\n",
    "    skills = pd.read_csv(\"../data/classeek_skills.csv\")\n",
    "    alt_names = pd.read_csv(\"../data/classeek_alternative_names.csv\")\n",
    "    performances = pd.read_csv(\"../data/classeek_performances.csv\")\n",
    "    pieces = pd.read_csv(\"../data/classeek_pieces.csv\")\n",
    "    wikipedia_pv = pd.read_csv(\"../data/classeek_wikipedia_page_views.csv\")\n",
    "    mediamentions = pd.read_csv(\"../data/classeek_media_mentions.csv\")\n",
    "    biographies = pd.read_csv(\"../data/classeek_biographies.csv\")\n",
    "\n",
    "    entities_performances = pd.read_csv(\"../data/classeek_entities_performances.csv\")\n",
    "    entities_pieces = pd.read_csv(\"../data/classeek_entities_pieces.csv\")\n",
    "    entities_skills = pd.read_csv(\"../data/classeek_entity_skills.csv\")"
   ]
  },
  {
   "cell_type": "markdown",
   "metadata": {},
   "source": [
    "# \n",
    "# Gauthier Capuçon \n",
    "#### Entity ID : '149b70fa-a190-4a83-bea9-38dafc1d4c5c'"
   ]
  },
  {
   "cell_type": "code",
   "execution_count": 2,
   "metadata": {},
   "outputs": [],
   "source": [
    "entity_id = '149b70fa-a190-4a83-bea9-38dafc1d4c5c'"
   ]
  },
  {
   "cell_type": "markdown",
   "metadata": {},
   "source": [
    "## 0 - Basic Informations "
   ]
  },
  {
   "cell_type": "code",
   "execution_count": 3,
   "metadata": {},
   "outputs": [
    {
     "data": {
      "text/html": [
       "<div>\n",
       "<style scoped>\n",
       "    .dataframe tbody tr th:only-of-type {\n",
       "        vertical-align: middle;\n",
       "    }\n",
       "\n",
       "    .dataframe tbody tr th {\n",
       "        vertical-align: top;\n",
       "    }\n",
       "\n",
       "    .dataframe thead th {\n",
       "        text-align: right;\n",
       "    }\n",
       "</style>\n",
       "<table border=\"1\" class=\"dataframe\">\n",
       "  <thead>\n",
       "    <tr style=\"text-align: right;\">\n",
       "      <th></th>\n",
       "      <th>id</th>\n",
       "      <th>name</th>\n",
       "      <th>gender</th>\n",
       "      <th>alive</th>\n",
       "      <th>birth_date</th>\n",
       "      <th>death_date</th>\n",
       "      <th>current_influence_percentile</th>\n",
       "    </tr>\n",
       "  </thead>\n",
       "  <tbody>\n",
       "    <tr>\n",
       "      <th>758</th>\n",
       "      <td>149b70fa-a190-4a83-bea9-38dafc1d4c5c</td>\n",
       "      <td>Gautier Capuçon</td>\n",
       "      <td>NaN</td>\n",
       "      <td>True</td>\n",
       "      <td>NaN</td>\n",
       "      <td>NaN</td>\n",
       "      <td>99.0</td>\n",
       "    </tr>\n",
       "  </tbody>\n",
       "</table>\n",
       "</div>"
      ],
      "text/plain": [
       "                                       id             name  gender alive  \\\n",
       "758  149b70fa-a190-4a83-bea9-38dafc1d4c5c  Gautier Capuçon     NaN  True   \n",
       "\n",
       "    birth_date death_date  current_influence_percentile  \n",
       "758        NaN        NaN                          99.0  "
      ]
     },
     "execution_count": 3,
     "metadata": {},
     "output_type": "execute_result"
    }
   ],
   "source": [
    "# Basic information about the entity \n",
    "entity_info = get_info(entity_id, entities, entities_performances, entities_pieces, entities_skills, mediamentions, \n",
    "             wikipedia_pv, biographies, alt_names, include_lists = True)\n",
    "infos = ['id', 'name', 'gender', 'alive', 'birth_date', 'death_date', 'current_influence_percentile']\n",
    "entity_info.iloc[:, 0:7]"
   ]
  },
  {
   "cell_type": "code",
   "execution_count": 4,
   "metadata": {},
   "outputs": [
    {
     "data": {
      "text/html": [
       "<div>\n",
       "<style scoped>\n",
       "    .dataframe tbody tr th:only-of-type {\n",
       "        vertical-align: middle;\n",
       "    }\n",
       "\n",
       "    .dataframe tbody tr th {\n",
       "        vertical-align: top;\n",
       "    }\n",
       "\n",
       "    .dataframe thead th {\n",
       "        text-align: right;\n",
       "    }\n",
       "</style>\n",
       "<table border=\"1\" class=\"dataframe\">\n",
       "  <thead>\n",
       "    <tr style=\"text-align: right;\">\n",
       "      <th></th>\n",
       "      <th>nb_perf</th>\n",
       "      <th>nb_pieces</th>\n",
       "      <th>nb_media_mentions</th>\n",
       "      <th>nb_skills</th>\n",
       "      <th>nb_alt_names</th>\n",
       "      <th>nb_biographies</th>\n",
       "    </tr>\n",
       "  </thead>\n",
       "  <tbody>\n",
       "    <tr>\n",
       "      <th>758</th>\n",
       "      <td>289</td>\n",
       "      <td>435</td>\n",
       "      <td>257</td>\n",
       "      <td>2</td>\n",
       "      <td>8</td>\n",
       "      <td>24</td>\n",
       "    </tr>\n",
       "  </tbody>\n",
       "</table>\n",
       "</div>"
      ],
      "text/plain": [
       "     nb_perf  nb_pieces  nb_media_mentions  nb_skills  nb_alt_names  \\\n",
       "758      289        435                257          2             8   \n",
       "\n",
       "     nb_biographies  \n",
       "758              24  "
      ]
     },
     "execution_count": 4,
     "metadata": {},
     "output_type": "execute_result"
    }
   ],
   "source": [
    "# Number of cells in other tables linked to that entity \n",
    "entity_info.iloc[:, 7:13]"
   ]
  },
  {
   "cell_type": "markdown",
   "metadata": {},
   "source": [
    "## 1 - Performances "
   ]
  },
  {
   "cell_type": "code",
   "execution_count": 17,
   "metadata": {},
   "outputs": [
    {
     "data": {
      "text/html": [
       "<div>\n",
       "<style scoped>\n",
       "    .dataframe tbody tr th:only-of-type {\n",
       "        vertical-align: middle;\n",
       "    }\n",
       "\n",
       "    .dataframe tbody tr th {\n",
       "        vertical-align: top;\n",
       "    }\n",
       "\n",
       "    .dataframe thead th {\n",
       "        text-align: right;\n",
       "    }\n",
       "</style>\n",
       "<table border=\"1\" class=\"dataframe\">\n",
       "  <thead>\n",
       "    <tr style=\"text-align: right;\">\n",
       "      <th></th>\n",
       "      <th>date</th>\n",
       "      <th>venue</th>\n",
       "      <th>country</th>\n",
       "      <th>city</th>\n",
       "      <th>title</th>\n",
       "      <th>key</th>\n",
       "      <th>continent</th>\n",
       "    </tr>\n",
       "  </thead>\n",
       "  <tbody>\n",
       "    <tr>\n",
       "      <th>139</th>\n",
       "      <td>2020-07-17 19:00:00.000000</td>\n",
       "      <td>- CONCERT CANCELLED</td>\n",
       "      <td>Switzerland</td>\n",
       "      <td>NaN</td>\n",
       "      <td>VERBIERFESTIVALORCHESTRA_VALERYGERGIEV_LEONIDA...</td>\n",
       "      <td>NaN</td>\n",
       "      <td>Europe</td>\n",
       "    </tr>\n",
       "    <tr>\n",
       "      <th>146</th>\n",
       "      <td>2020-07-20 11:00:00.000000</td>\n",
       "      <td>- CONCERT CANCELLED</td>\n",
       "      <td>Switzerland</td>\n",
       "      <td>NaN</td>\n",
       "      <td>GAUTIERCAPU_ON_YUJAWANG_20_July_2020__11_00___...</td>\n",
       "      <td>NaN</td>\n",
       "      <td>Europe</td>\n",
       "    </tr>\n",
       "    <tr>\n",
       "      <th>222</th>\n",
       "      <td>2020-07-21 20:00:00.000000</td>\n",
       "      <td>- CONCERT CANCELLED</td>\n",
       "      <td>Switzerland</td>\n",
       "      <td>NaN</td>\n",
       "      <td>DANIELLOZAKOVICH_GAUTIERCAPU_ON_MARTINFR_ST_YU...</td>\n",
       "      <td>NaN</td>\n",
       "      <td>Europe</td>\n",
       "    </tr>\n",
       "    <tr>\n",
       "      <th>1237</th>\n",
       "      <td>2016-01-22 20:30:00.000000</td>\n",
       "      <td>Salle des concerts - Cité de la musique</td>\n",
       "      <td>France</td>\n",
       "      <td>NaN</td>\n",
       "      <td>Hommage à Henri Dutilleux</td>\n",
       "      <td>NaN</td>\n",
       "      <td>Europe</td>\n",
       "    </tr>\n",
       "    <tr>\n",
       "      <th>1272</th>\n",
       "      <td>2017-10-24 20:30:00.000000</td>\n",
       "      <td>Grande salle Pierre Boulez - Philharmonie</td>\n",
       "      <td>France</td>\n",
       "      <td>NaN</td>\n",
       "      <td>Gewandhausorchester Leipzig / Blomstedt</td>\n",
       "      <td>NaN</td>\n",
       "      <td>Europe</td>\n",
       "    </tr>\n",
       "    <tr>\n",
       "      <th>...</th>\n",
       "      <td>...</td>\n",
       "      <td>...</td>\n",
       "      <td>...</td>\n",
       "      <td>...</td>\n",
       "      <td>...</td>\n",
       "      <td>...</td>\n",
       "      <td>...</td>\n",
       "    </tr>\n",
       "    <tr>\n",
       "      <th>116801</th>\n",
       "      <td>2015-01-09 00:00:00.000000</td>\n",
       "      <td>Boston Symphony Orchestra</td>\n",
       "      <td>United States</td>\n",
       "      <td>NaN</td>\n",
       "      <td>Boston Symphony Orchestra concert program, Sub...</td>\n",
       "      <td>NaN</td>\n",
       "      <td>North America</td>\n",
       "    </tr>\n",
       "    <tr>\n",
       "      <th>116802</th>\n",
       "      <td>2015-01-10 00:00:00.000000</td>\n",
       "      <td>Boston Symphony Orchestra</td>\n",
       "      <td>United States</td>\n",
       "      <td>NaN</td>\n",
       "      <td>Boston Symphony Orchestra concert program, Sub...</td>\n",
       "      <td>NaN</td>\n",
       "      <td>North America</td>\n",
       "    </tr>\n",
       "    <tr>\n",
       "      <th>118181</th>\n",
       "      <td>2020-09-27 11:30:00.000000</td>\n",
       "      <td>Wigmore Hall</td>\n",
       "      <td>United Kingdom</td>\n",
       "      <td>London</td>\n",
       "      <td>Wigmore Hall/Cancelled: Gautier Capuçon cello;...</td>\n",
       "      <td>NaN</td>\n",
       "      <td>Europe</td>\n",
       "    </tr>\n",
       "    <tr>\n",
       "      <th>118687</th>\n",
       "      <td>2021-09-03 19:00:00.000000</td>\n",
       "      <td>Wolkenturm</td>\n",
       "      <td>nil</td>\n",
       "      <td>Grafenegg</td>\n",
       "      <td>Valery gergiev and the munich philharmonic i</td>\n",
       "      <td>nil</td>\n",
       "      <td>NaN</td>\n",
       "    </tr>\n",
       "    <tr>\n",
       "      <th>118793</th>\n",
       "      <td>2021-01-31 19:30:00.000000</td>\n",
       "      <td>Wigmore Hall</td>\n",
       "      <td>United Kingdom</td>\n",
       "      <td>London</td>\n",
       "      <td>Wigmore Hall/Hagen Quartet; Gautier Capuçon ce...</td>\n",
       "      <td>NaN</td>\n",
       "      <td>Europe</td>\n",
       "    </tr>\n",
       "  </tbody>\n",
       "</table>\n",
       "<p>189 rows × 7 columns</p>\n",
       "</div>"
      ],
      "text/plain": [
       "                              date                                      venue  \\\n",
       "139     2020-07-17 19:00:00.000000                        - CONCERT CANCELLED   \n",
       "146     2020-07-20 11:00:00.000000                        - CONCERT CANCELLED   \n",
       "222     2020-07-21 20:00:00.000000                        - CONCERT CANCELLED   \n",
       "1237    2016-01-22 20:30:00.000000    Salle des concerts - Cité de la musique   \n",
       "1272    2017-10-24 20:30:00.000000  Grande salle Pierre Boulez - Philharmonie   \n",
       "...                            ...                                        ...   \n",
       "116801  2015-01-09 00:00:00.000000                  Boston Symphony Orchestra   \n",
       "116802  2015-01-10 00:00:00.000000                  Boston Symphony Orchestra   \n",
       "118181  2020-09-27 11:30:00.000000                               Wigmore Hall   \n",
       "118687  2021-09-03 19:00:00.000000                                 Wolkenturm   \n",
       "118793  2021-01-31 19:30:00.000000                               Wigmore Hall   \n",
       "\n",
       "               country       city  \\\n",
       "139        Switzerland        NaN   \n",
       "146        Switzerland        NaN   \n",
       "222        Switzerland        NaN   \n",
       "1237            France        NaN   \n",
       "1272            France        NaN   \n",
       "...                ...        ...   \n",
       "116801   United States        NaN   \n",
       "116802   United States        NaN   \n",
       "118181  United Kingdom     London   \n",
       "118687             nil  Grafenegg   \n",
       "118793  United Kingdom     London   \n",
       "\n",
       "                                                    title  key      continent  \n",
       "139     VERBIERFESTIVALORCHESTRA_VALERYGERGIEV_LEONIDA...  NaN         Europe  \n",
       "146     GAUTIERCAPU_ON_YUJAWANG_20_July_2020__11_00___...  NaN         Europe  \n",
       "222     DANIELLOZAKOVICH_GAUTIERCAPU_ON_MARTINFR_ST_YU...  NaN         Europe  \n",
       "1237                            Hommage à Henri Dutilleux  NaN         Europe  \n",
       "1272              Gewandhausorchester Leipzig / Blomstedt  NaN         Europe  \n",
       "...                                                   ...  ...            ...  \n",
       "116801  Boston Symphony Orchestra concert program, Sub...  NaN  North America  \n",
       "116802  Boston Symphony Orchestra concert program, Sub...  NaN  North America  \n",
       "118181  Wigmore Hall/Cancelled: Gautier Capuçon cello;...  NaN         Europe  \n",
       "118687       Valery gergiev and the munich philharmonic i  nil            NaN  \n",
       "118793  Wigmore Hall/Hagen Quartet; Gautier Capuçon ce...  NaN         Europe  \n",
       "\n",
       "[189 rows x 7 columns]"
      ]
     },
     "execution_count": 17,
     "metadata": {},
     "output_type": "execute_result"
    }
   ],
   "source": [
    "# Extract performances \n",
    "df_perfs = performances[performances.id.apply(lambda x : x in entity_info.perf_list.to_list()[0])].loc[:, ['date', 'venue', 'country', 'city', 'title', 'key', 'continent']]\n",
    "df_perfs"
   ]
  },
  {
   "cell_type": "markdown",
   "metadata": {},
   "source": [
    "## 2 - Pieces "
   ]
  },
  {
   "cell_type": "code",
   "execution_count": 6,
   "metadata": {},
   "outputs": [
    {
     "data": {
      "text/html": [
       "<div>\n",
       "<style scoped>\n",
       "    .dataframe tbody tr th:only-of-type {\n",
       "        vertical-align: middle;\n",
       "    }\n",
       "\n",
       "    .dataframe tbody tr th {\n",
       "        vertical-align: top;\n",
       "    }\n",
       "\n",
       "    .dataframe thead th {\n",
       "        text-align: right;\n",
       "    }\n",
       "</style>\n",
       "<table border=\"1\" class=\"dataframe\">\n",
       "  <thead>\n",
       "    <tr style=\"text-align: right;\">\n",
       "      <th></th>\n",
       "      <th>composer</th>\n",
       "      <th>title</th>\n",
       "      <th>source</th>\n",
       "    </tr>\n",
       "  </thead>\n",
       "  <tbody>\n",
       "    <tr>\n",
       "      <th>432</th>\n",
       "      <td>Franz Schubert (1797-1828)</td>\n",
       "      <td>String Quintet in C major, D. 956</td>\n",
       "      <td>3</td>\n",
       "    </tr>\n",
       "    <tr>\n",
       "      <th>433</th>\n",
       "      <td>Felix Mendelssohn (1809-1847)</td>\n",
       "      <td>Octet in E-flat major, Op. 20</td>\n",
       "      <td>3</td>\n",
       "    </tr>\n",
       "    <tr>\n",
       "      <th>591</th>\n",
       "      <td>Igor Stravinski</td>\n",
       "      <td>Petrouchka</td>\n",
       "      <td>7</td>\n",
       "    </tr>\n",
       "    <tr>\n",
       "      <th>751</th>\n",
       "      <td>Vittorio  Monti</td>\n",
       "      <td>Csárdás</td>\n",
       "      <td>7</td>\n",
       "    </tr>\n",
       "    <tr>\n",
       "      <th>853</th>\n",
       "      <td>Arias by</td>\n",
       "      <td>Rossini, Mozart, Christiné, Messager, Lehar, O...</td>\n",
       "      <td>3</td>\n",
       "    </tr>\n",
       "    <tr>\n",
       "      <th>854</th>\n",
       "      <td>Johannes Brahms (1833-1897)</td>\n",
       "      <td>Piano Quartet in G minor, Op. 25</td>\n",
       "      <td>3</td>\n",
       "    </tr>\n",
       "    <tr>\n",
       "      <th>887</th>\n",
       "      <td>Henri Dutilleux</td>\n",
       "      <td>Métaboles</td>\n",
       "      <td>7</td>\n",
       "    </tr>\n",
       "    <tr>\n",
       "      <th>895</th>\n",
       "      <td>Hector Berlioz</td>\n",
       "      <td>Symphonie fantastique</td>\n",
       "      <td>7</td>\n",
       "    </tr>\n",
       "    <tr>\n",
       "      <th>899</th>\n",
       "      <td>Claude Debussy</td>\n",
       "      <td>Sonate pour violon et piano</td>\n",
       "      <td>7</td>\n",
       "    </tr>\n",
       "    <tr>\n",
       "      <th>910</th>\n",
       "      <td>Piotr Ilitch Tchaïkovski</td>\n",
       "      <td>Symphonie n° 4</td>\n",
       "      <td>7</td>\n",
       "    </tr>\n",
       "  </tbody>\n",
       "</table>\n",
       "</div>"
      ],
      "text/plain": [
       "                          composer  \\\n",
       "432     Franz Schubert (1797-1828)   \n",
       "433  Felix Mendelssohn (1809-1847)   \n",
       "591                Igor Stravinski   \n",
       "751                Vittorio  Monti   \n",
       "853                       Arias by   \n",
       "854    Johannes Brahms (1833-1897)   \n",
       "887                Henri Dutilleux   \n",
       "895                 Hector Berlioz   \n",
       "899                 Claude Debussy   \n",
       "910       Piotr Ilitch Tchaïkovski   \n",
       "\n",
       "                                                 title  source  \n",
       "432                  String Quintet in C major, D. 956       3  \n",
       "433                      Octet in E-flat major, Op. 20       3  \n",
       "591                                         Petrouchka       7  \n",
       "751                                            Csárdás       7  \n",
       "853  Rossini, Mozart, Christiné, Messager, Lehar, O...       3  \n",
       "854                   Piano Quartet in G minor, Op. 25       3  \n",
       "887                                          Métaboles       7  \n",
       "895                              Symphonie fantastique       7  \n",
       "899                        Sonate pour violon et piano       7  \n",
       "910                                     Symphonie n° 4       7  "
      ]
     },
     "execution_count": 6,
     "metadata": {},
     "output_type": "execute_result"
    }
   ],
   "source": [
    "df_pieces = pieces[pieces.id.apply(lambda x : x in entity_info.pieces_list.to_list()[0])]\n",
    "df_pieces.loc[:, ['composer', 'title', 'source']].head(10)"
   ]
  },
  {
   "cell_type": "markdown",
   "metadata": {},
   "source": [
    "## 3 - Media mentions "
   ]
  },
  {
   "cell_type": "code",
   "execution_count": 7,
   "metadata": {},
   "outputs": [
    {
     "data": {
      "text/html": [
       "<div>\n",
       "<style scoped>\n",
       "    .dataframe tbody tr th:only-of-type {\n",
       "        vertical-align: middle;\n",
       "    }\n",
       "\n",
       "    .dataframe tbody tr th {\n",
       "        vertical-align: top;\n",
       "    }\n",
       "\n",
       "    .dataframe thead th {\n",
       "        text-align: right;\n",
       "    }\n",
       "</style>\n",
       "<table border=\"1\" class=\"dataframe\">\n",
       "  <thead>\n",
       "    <tr style=\"text-align: right;\">\n",
       "      <th></th>\n",
       "      <th>comparable_text</th>\n",
       "      <th>url</th>\n",
       "      <th>header_text</th>\n",
       "    </tr>\n",
       "  </thead>\n",
       "  <tbody>\n",
       "    <tr>\n",
       "      <th>6724</th>\n",
       "      <td>How To Spend ItSchloss Elmau: the German castl...</td>\n",
       "      <td>https://www.ft.com/content/917754e6-9a3e-4bbd-...</td>\n",
       "      <td>Schloss Elmau: the German castle of high cultu...</td>\n",
       "    </tr>\n",
       "    <tr>\n",
       "      <th>6725</th>\n",
       "      <td>ReviewAlbumsSchumann: Works for cello....\\n\\t\\...</td>\n",
       "      <td>https://www.ft.com/content/87dc691c-1d72-11e9-...</td>\n",
       "      <td>Schumann: Works for cello</td>\n",
       "    </tr>\n",
       "    <tr>\n",
       "      <th>6726</th>\n",
       "      <td>ReviewMusicLisa Batiashvili, Gautier Capuçon a...</td>\n",
       "      <td>https://www.ft.com/content/692cf10a-e733-11e8-...</td>\n",
       "      <td>Lisa Batiashvili, Gautier Capuçon and Jean-Yve...</td>\n",
       "    </tr>\n",
       "    <tr>\n",
       "      <th>6727</th>\n",
       "      <td>ReviewMusicGewandhausorchester Leipzig/Blomste...</td>\n",
       "      <td>https://www.ft.com/content/700dba36-b8a4-11e7-...</td>\n",
       "      <td>Gewandhausorchester Leipzig/Blomstedt, Barbica...</td>\n",
       "    </tr>\n",
       "    <tr>\n",
       "      <th>6728</th>\n",
       "      <td>ReviewAlbumsLutoslawski: Cello Concerto and Sy...</td>\n",
       "      <td>https://www.ft.com/content/84e3fbb2-e2d7-11e6-...</td>\n",
       "      <td>Lutoslawski: Cello Concerto and Symphony No. 4</td>\n",
       "    </tr>\n",
       "    <tr>\n",
       "      <th>6729</th>\n",
       "      <td>ReviewArtsSchubert: String Quintet...made tang...</td>\n",
       "      <td>https://www.ft.com/content/ccf002bc-05cd-11e6-...</td>\n",
       "      <td>Schubert: String Quintet</td>\n",
       "    </tr>\n",
       "    <tr>\n",
       "      <th>6730</th>\n",
       "      <td>ReviewAlbumsBeethoven, Mozart, et al: Live fro...</td>\n",
       "      <td>https://www.ft.com/content/5653638e-07f3-11e5-...</td>\n",
       "      <td>Beethoven, Mozart, et al: Live from Lugano 2014</td>\n",
       "    </tr>\n",
       "    <tr>\n",
       "      <th>6731</th>\n",
       "      <td>ReviewAndrew ClarkFauré: Complete Chamber Musi...</td>\n",
       "      <td>https://www.ft.com/content/adf4ffea-e280-11e0-...</td>\n",
       "      <td>Fauré: Complete Chamber Music for Strings and ...</td>\n",
       "    </tr>\n",
       "    <tr>\n",
       "      <th>6732</th>\n",
       "      <td>Life &amp; ArtsProgetto Martha Argerich, Auditorio...</td>\n",
       "      <td>https://www.ft.com/content/6357f69a-9d8e-11e0-...</td>\n",
       "      <td>Progetto Martha Argerich, Auditorio RSI, Lugano</td>\n",
       "    </tr>\n",
       "    <tr>\n",
       "      <th>6733</th>\n",
       "      <td>ReviewAndrew ClarkChopin: Various works, Marth...</td>\n",
       "      <td>https://www.ft.com/content/1abcec70-3bc8-11df-...</td>\n",
       "      <td>Chopin: Various works, Martha Argerich and Fri...</td>\n",
       "    </tr>\n",
       "  </tbody>\n",
       "</table>\n",
       "</div>"
      ],
      "text/plain": [
       "                                        comparable_text  \\\n",
       "6724  How To Spend ItSchloss Elmau: the German castl...   \n",
       "6725  ReviewAlbumsSchumann: Works for cello....\\n\\t\\...   \n",
       "6726  ReviewMusicLisa Batiashvili, Gautier Capuçon a...   \n",
       "6727  ReviewMusicGewandhausorchester Leipzig/Blomste...   \n",
       "6728  ReviewAlbumsLutoslawski: Cello Concerto and Sy...   \n",
       "6729  ReviewArtsSchubert: String Quintet...made tang...   \n",
       "6730  ReviewAlbumsBeethoven, Mozart, et al: Live fro...   \n",
       "6731  ReviewAndrew ClarkFauré: Complete Chamber Musi...   \n",
       "6732  Life & ArtsProgetto Martha Argerich, Auditorio...   \n",
       "6733  ReviewAndrew ClarkChopin: Various works, Marth...   \n",
       "\n",
       "                                                    url  \\\n",
       "6724  https://www.ft.com/content/917754e6-9a3e-4bbd-...   \n",
       "6725  https://www.ft.com/content/87dc691c-1d72-11e9-...   \n",
       "6726  https://www.ft.com/content/692cf10a-e733-11e8-...   \n",
       "6727  https://www.ft.com/content/700dba36-b8a4-11e7-...   \n",
       "6728  https://www.ft.com/content/84e3fbb2-e2d7-11e6-...   \n",
       "6729  https://www.ft.com/content/ccf002bc-05cd-11e6-...   \n",
       "6730  https://www.ft.com/content/5653638e-07f3-11e5-...   \n",
       "6731  https://www.ft.com/content/adf4ffea-e280-11e0-...   \n",
       "6732  https://www.ft.com/content/6357f69a-9d8e-11e0-...   \n",
       "6733  https://www.ft.com/content/1abcec70-3bc8-11df-...   \n",
       "\n",
       "                                            header_text  \n",
       "6724  Schloss Elmau: the German castle of high cultu...  \n",
       "6725                          Schumann: Works for cello  \n",
       "6726  Lisa Batiashvili, Gautier Capuçon and Jean-Yve...  \n",
       "6727  Gewandhausorchester Leipzig/Blomstedt, Barbica...  \n",
       "6728     Lutoslawski: Cello Concerto and Symphony No. 4  \n",
       "6729                           Schubert: String Quintet  \n",
       "6730    Beethoven, Mozart, et al: Live from Lugano 2014  \n",
       "6731  Fauré: Complete Chamber Music for Strings and ...  \n",
       "6732    Progetto Martha Argerich, Auditorio RSI, Lugano  \n",
       "6733  Chopin: Various works, Martha Argerich and Fri...  "
      ]
     },
     "execution_count": 7,
     "metadata": {},
     "output_type": "execute_result"
    }
   ],
   "source": [
    "df_medias = mediamentions[mediamentions.id.apply(lambda x : x in entity_info.media_mentions.to_list()[0])]\n",
    "df_medias.loc[:, ['comparable_text', 'url', 'header_text']].head(10)"
   ]
  },
  {
   "cell_type": "code",
   "execution_count": 8,
   "metadata": {},
   "outputs": [
    {
     "data": {
      "text/plain": [
       "'ReviewMusicLisa Batiashvili, Gautier Capuçon and Jean-Yves Thibaudet perform with energy and delicacy at the Barbican...With 11 European cities in virtually as many days, it would have been forgivable if violinist Lisa Batiashvili, cellist Gautier Capuçon and pianist Jean-Yves Thibaudet had been flagging by the time...November 13, 2018'"
      ]
     },
     "execution_count": 8,
     "metadata": {},
     "output_type": "execute_result"
    }
   ],
   "source": [
    "# One example of media mention\n",
    "df_medias.iloc[2].comparable_text"
   ]
  },
  {
   "cell_type": "markdown",
   "metadata": {},
   "source": [
    "## 4 - Wikipedia Page Views "
   ]
  },
  {
   "cell_type": "code",
   "execution_count": 9,
   "metadata": {},
   "outputs": [
    {
     "data": {
      "text/html": [
       "<div>\n",
       "<style scoped>\n",
       "    .dataframe tbody tr th:only-of-type {\n",
       "        vertical-align: middle;\n",
       "    }\n",
       "\n",
       "    .dataframe tbody tr th {\n",
       "        vertical-align: top;\n",
       "    }\n",
       "\n",
       "    .dataframe thead th {\n",
       "        text-align: right;\n",
       "    }\n",
       "</style>\n",
       "<table border=\"1\" class=\"dataframe\">\n",
       "  <thead>\n",
       "    <tr style=\"text-align: right;\">\n",
       "      <th></th>\n",
       "      <th>en</th>\n",
       "      <th>fr</th>\n",
       "      <th>de</th>\n",
       "      <th>it</th>\n",
       "      <th>ru</th>\n",
       "      <th>period_start_date</th>\n",
       "    </tr>\n",
       "  </thead>\n",
       "  <tbody>\n",
       "    <tr>\n",
       "      <th>11289</th>\n",
       "      <td>1588.0</td>\n",
       "      <td>6332.0</td>\n",
       "      <td>360.0</td>\n",
       "      <td>72.0</td>\n",
       "      <td>NaN</td>\n",
       "      <td>2015-10-01</td>\n",
       "    </tr>\n",
       "    <tr>\n",
       "      <th>11290</th>\n",
       "      <td>1431.0</td>\n",
       "      <td>1807.0</td>\n",
       "      <td>278.0</td>\n",
       "      <td>94.0</td>\n",
       "      <td>NaN</td>\n",
       "      <td>2015-11-01</td>\n",
       "    </tr>\n",
       "    <tr>\n",
       "      <th>11291</th>\n",
       "      <td>1597.0</td>\n",
       "      <td>15934.0</td>\n",
       "      <td>379.0</td>\n",
       "      <td>112.0</td>\n",
       "      <td>NaN</td>\n",
       "      <td>2015-12-01</td>\n",
       "    </tr>\n",
       "    <tr>\n",
       "      <th>11292</th>\n",
       "      <td>1569.0</td>\n",
       "      <td>5491.0</td>\n",
       "      <td>491.0</td>\n",
       "      <td>110.0</td>\n",
       "      <td>NaN</td>\n",
       "      <td>2016-01-01</td>\n",
       "    </tr>\n",
       "    <tr>\n",
       "      <th>11293</th>\n",
       "      <td>1624.0</td>\n",
       "      <td>9980.0</td>\n",
       "      <td>325.0</td>\n",
       "      <td>94.0</td>\n",
       "      <td>NaN</td>\n",
       "      <td>2016-02-01</td>\n",
       "    </tr>\n",
       "  </tbody>\n",
       "</table>\n",
       "</div>"
      ],
      "text/plain": [
       "           en       fr     de     it  ru period_start_date\n",
       "11289  1588.0   6332.0  360.0   72.0 NaN        2015-10-01\n",
       "11290  1431.0   1807.0  278.0   94.0 NaN        2015-11-01\n",
       "11291  1597.0  15934.0  379.0  112.0 NaN        2015-12-01\n",
       "11292  1569.0   5491.0  491.0  110.0 NaN        2016-01-01\n",
       "11293  1624.0   9980.0  325.0   94.0 NaN        2016-02-01"
      ]
     },
     "execution_count": 9,
     "metadata": {},
     "output_type": "execute_result"
    }
   ],
   "source": [
    "df_wiki = wikipedia_pv[wikipedia_pv.id.apply(lambda x : x in entity_info.wiki_pv.to_list()[0])]\n",
    "df_wiki.loc[:, ['en', 'fr', 'de', 'it', 'ru', 'period_start_date']].head(5)"
   ]
  },
  {
   "cell_type": "code",
   "execution_count": 10,
   "metadata": {},
   "outputs": [
    {
     "data": {
      "text/plain": [
       "[<matplotlib.lines.Line2D at 0x7fa91c0bd370>]"
      ]
     },
     "execution_count": 10,
     "metadata": {},
     "output_type": "execute_result"
    },
    {
     "data": {
      "image/png": "[encoded data removed]",
      "text/plain": [
       "<Figure size 1296x360 with 1 Axes>"
      ]
     },
     "metadata": {
      "needs_background": "light"
     },
     "output_type": "display_data"
    }
   ],
   "source": [
    "import matplotlib.pyplot as plt\n",
    "x = df_wiki.period_start_date.to_list()\n",
    "y = df_wiki.en.to_list()\n",
    "plt.figure(figsize=[18, 5])\n",
    "plt.xticks(rotation=45)\n",
    "plt.plot(x, y)"
   ]
  },
  {
   "cell_type": "markdown",
   "metadata": {},
   "source": [
    "## 5 - Skills "
   ]
  },
  {
   "cell_type": "code",
   "execution_count": 11,
   "metadata": {},
   "outputs": [
    {
     "data": {
      "text/html": [
       "<div>\n",
       "<style scoped>\n",
       "    .dataframe tbody tr th:only-of-type {\n",
       "        vertical-align: middle;\n",
       "    }\n",
       "\n",
       "    .dataframe tbody tr th {\n",
       "        vertical-align: top;\n",
       "    }\n",
       "\n",
       "    .dataframe thead th {\n",
       "        text-align: right;\n",
       "    }\n",
       "</style>\n",
       "<table border=\"1\" class=\"dataframe\">\n",
       "  <thead>\n",
       "    <tr style=\"text-align: right;\">\n",
       "      <th></th>\n",
       "      <th>name</th>\n",
       "    </tr>\n",
       "  </thead>\n",
       "  <tbody>\n",
       "    <tr>\n",
       "      <th>3</th>\n",
       "      <td>Conductor</td>\n",
       "    </tr>\n",
       "    <tr>\n",
       "      <th>68</th>\n",
       "      <td>Cellist</td>\n",
       "    </tr>\n",
       "  </tbody>\n",
       "</table>\n",
       "</div>"
      ],
      "text/plain": [
       "         name\n",
       "3   Conductor\n",
       "68    Cellist"
      ]
     },
     "execution_count": 11,
     "metadata": {},
     "output_type": "execute_result"
    }
   ],
   "source": [
    "df_skills = skills[skills.id.apply(lambda x : x in entity_info.skills_list.to_list()[0])]\n",
    "df_skills.loc[:, ['name']]"
   ]
  },
  {
   "cell_type": "markdown",
   "metadata": {},
   "source": [
    "## 6 - Alternative Names \n",
    "\n",
    "Alternative names are the names used by developpers to map down several entities to one during scraping operations. They are not related to the aliases found with fuzzy string matching during cleaning. "
   ]
  },
  {
   "cell_type": "code",
   "execution_count": 12,
   "metadata": {},
   "outputs": [
    {
     "data": {
      "text/plain": [
       "[['gautier capuçon',\n",
       "  'gautier capucon',\n",
       "  'gauthier capucon',\n",
       "  'gauthier capuçon',\n",
       "  'capuçon gautier',\n",
       "  'gautier capuçon, conducting, cello',\n",
       "  'gautier capuçon, cello',\n",
       "  'Gautier Capuçon']]"
      ]
     },
     "execution_count": 12,
     "metadata": {},
     "output_type": "execute_result"
    }
   ],
   "source": [
    "entity_info.alter_names.to_list()"
   ]
  },
  {
   "cell_type": "markdown",
   "metadata": {},
   "source": [
    "## 7 - Biographies "
   ]
  },
  {
   "cell_type": "code",
   "execution_count": 13,
   "metadata": {},
   "outputs": [
    {
     "data": {
      "text/html": [
       "<div>\n",
       "<style scoped>\n",
       "    .dataframe tbody tr th:only-of-type {\n",
       "        vertical-align: middle;\n",
       "    }\n",
       "\n",
       "    .dataframe tbody tr th {\n",
       "        vertical-align: top;\n",
       "    }\n",
       "\n",
       "    .dataframe thead th {\n",
       "        text-align: right;\n",
       "    }\n",
       "</style>\n",
       "<table border=\"1\" class=\"dataframe\">\n",
       "  <thead>\n",
       "    <tr style=\"text-align: right;\">\n",
       "      <th></th>\n",
       "      <th>detail</th>\n",
       "      <th>year</th>\n",
       "      <th>source</th>\n",
       "    </tr>\n",
       "  </thead>\n",
       "  <tbody>\n",
       "    <tr>\n",
       "      <th>57039</th>\n",
       "      <td>Gautier Capuçon is a true 21st century ambassa...</td>\n",
       "      <td>2019</td>\n",
       "      <td>1</td>\n",
       "    </tr>\n",
       "    <tr>\n",
       "      <th>23713</th>\n",
       "      <td>Gautier Capuçon is a true 21st century ambassa...</td>\n",
       "      <td>2019</td>\n",
       "      <td>1</td>\n",
       "    </tr>\n",
       "    <tr>\n",
       "      <th>55618</th>\n",
       "      <td>Gautier Capuçon is a true 21st century ambassa...</td>\n",
       "      <td>2019</td>\n",
       "      <td>12</td>\n",
       "    </tr>\n",
       "    <tr>\n",
       "      <th>46237</th>\n",
       "      <td>Gautier Capuçon is a true 21st century ambassa...</td>\n",
       "      <td>2018</td>\n",
       "      <td>1</td>\n",
       "    </tr>\n",
       "    <tr>\n",
       "      <th>59199</th>\n",
       "      <td>Gautier Capuçon is a true 21st century ambassa...</td>\n",
       "      <td>2019</td>\n",
       "      <td>1</td>\n",
       "    </tr>\n",
       "    <tr>\n",
       "      <th>26945</th>\n",
       "      <td>Gautier Capuçon is a true 21st century ambassa...</td>\n",
       "      <td>2020</td>\n",
       "      <td>1</td>\n",
       "    </tr>\n",
       "    <tr>\n",
       "      <th>56310</th>\n",
       "      <td>Gautier Capuçon is a true 21st century ambassa...</td>\n",
       "      <td>2019</td>\n",
       "      <td>1</td>\n",
       "    </tr>\n",
       "    <tr>\n",
       "      <th>56694</th>\n",
       "      <td>Gautier Capuçon Cello Cello Gautier Capuçon is...</td>\n",
       "      <td>2020</td>\n",
       "      <td>27</td>\n",
       "    </tr>\n",
       "    <tr>\n",
       "      <th>35923</th>\n",
       "      <td>Gautier Capuçon, né en 1981 à Chambéry, commen...</td>\n",
       "      <td>2018</td>\n",
       "      <td>17</td>\n",
       "    </tr>\n",
       "    <tr>\n",
       "      <th>20042</th>\n",
       "      <td>Gautier Capuçon est un véritable ambassadeur d...</td>\n",
       "      <td>2019</td>\n",
       "      <td>35</td>\n",
       "    </tr>\n",
       "  </tbody>\n",
       "</table>\n",
       "</div>"
      ],
      "text/plain": [
       "                                                  detail  year  source\n",
       "57039  Gautier Capuçon is a true 21st century ambassa...  2019       1\n",
       "23713  Gautier Capuçon is a true 21st century ambassa...  2019       1\n",
       "55618  Gautier Capuçon is a true 21st century ambassa...  2019      12\n",
       "46237  Gautier Capuçon is a true 21st century ambassa...  2018       1\n",
       "59199  Gautier Capuçon is a true 21st century ambassa...  2019       1\n",
       "26945  Gautier Capuçon is a true 21st century ambassa...  2020       1\n",
       "56310  Gautier Capuçon is a true 21st century ambassa...  2019       1\n",
       "56694  Gautier Capuçon Cello Cello Gautier Capuçon is...  2020      27\n",
       "35923  Gautier Capuçon, né en 1981 à Chambéry, commen...  2018      17\n",
       "20042  Gautier Capuçon est un véritable ambassadeur d...  2019      35"
      ]
     },
     "execution_count": 13,
     "metadata": {},
     "output_type": "execute_result"
    }
   ],
   "source": [
    "df_bios = biographies[biographies.id.apply(lambda x : x in entity_info.bios_list.to_list()[0])]\n",
    "df_bios.loc[:, ['detail', 'year', 'source']].sample(10)"
   ]
  },
  {
   "cell_type": "code",
   "execution_count": 14,
   "metadata": {},
   "outputs": [
    {
     "data": {
      "text/plain": [
       "'“It’s the rare performer who can bring such ease and refinement to this music, while still giving everything he plays a sense of dramatic urgency.” (San Francisco Chronicle)\\r\\nGautier Capuçon is a true 21st century ambassador for the cello. Performing each season with many of the world’s foremost conductors and instrumentalists, he is also founder and leader of the ‘Classe d’Excellence de Violoncelle’ at the Fondation Louis Vuitton in Paris – based in the stunning new Auditorium designed by Frank Gehry. He is acclaimed internationally for his deeply expressive musicianship and exuberant virtuosity, as well as for the glorious sonority of his 1701 Matteo Goffriller cello.  \\r\\nDuring 2016/17 he returns to such orchestras as the London Symphony and Philharmonia orchestras, Berliner Philharmoniker, Russian National Orchestra, Staatskapelle Dresden, Münchner Philharmoniker, Chicago Symphony Orchestra, Los Angeles Philharmonic and San Francisco Symphony – and is being reinvited for concerts in Japan, China and Korea. In recent seasons he has also performed with the Royal Concertgebouw Orchestra, Wiener Philharmoniker, Gewandhausorchester Leipzig, Tonhalle-Orchester Zürich, Chamber Orchestra of Europe, New York Philharmonic, NHK Symphony, Sydney Symphony and Mariinsky orchestras, as well as with all of the major orchestras across France. \\r\\nGautier Capuçon continues to work regularly with conductors such as Charles Dutoit, Semyon Bychkov, Valery Gergiev, Gustavo Dudamel, Lionel Bringuier, Andris Nelsons, Christoph Eschenbach, Andrés Orozco-Estrada and Yannick Nézet-Séguin; and collaborates with contemporary composers including, amongst others, Lera Auerbach, Karol Beffa, Esteban Benzecry, Nicola Campogrande, Qigang Chen, Jerome Ducros, Henry Dutilleux, Thierry Escaich, Philippe Manoury, Bruno Mantovani, Krzysztof Penderecki, Wolfgang Rihm, Jörg Widmann. \\r\\nA regular recital and chamber musician, Capuçon appears annually in the major halls and festivals worldwide alongside artists such as Nicholas Angelich, Martha Argerich, Daniel Barenboim, Lisa Batiashvili, Frank Braley, Renaud Capuçon, Jérôme Ducros, Leonidas Kavakos, Katia and Marielle Labèque, Menahem Pressler, Jean-Yves Thibaudet, and the Artemis and Ebène quartets. Forthcoming highlights include an extensive European recital tour of Beethoven Sonatas with Frank Braley, supporting the international release of an album featuring the same repertoire.\\r\\nCapuçon records exclusively for Erato (Warner Classics) and has won multiple ECHO Klassik awards. Most recent releases include Shostakovich’s Cello Concertos with the Mariinsky Orchestra and Valery Gergiev; and Schubert’s String Quintet with Quatuor Ebène. Prior to that he won plaudits for a recital disc of music by Schubert, Schumann, Debussy, Britten and Carter with Frank Braley, and Saint-Saëns’ First Cello Concerto and Muse et le poète with the Orchestre Philharmonique de Radio France and Lionel Bringuier. He has also recorded chamber music with Martha Argerich, Nicholas Angelich, Renaud Capuçon and Gabriela Montero; and in 2013 Deutsche Grammophon released a DVD featuring Capuçon as soloist with the Berliner Philharmoniker and Gustavo Dudamel in a live performance of Haydn’s Cello Concerto No.1.\\r\\nBorn in Chambéry in 1981, Capuçon began playing the cello at the age of five. He studied at the Conservatoire National Supérieur in Paris with Philippe Muller and Annie Cochet-Zakine, and later with Heinrich Schiff in Vienna. The winner of various first prizes in many leading international competitions, including the International André Navarra Prize, Capuçon was named ‘New Talent of the Year’ by Victoires de la Musique in 2001.\\r\\n'"
      ]
     },
     "execution_count": 14,
     "metadata": {},
     "output_type": "execute_result"
    }
   ],
   "source": [
    "# One bography example \n",
    "df_bios.iloc[0].detail"
   ]
  }
 ],
 "metadata": {
  "kernelspec": {
   "display_name": "Python 3",
   "language": "python",
   "name": "python3"
  },
  "language_info": {
   "codemirror_mode": {
    "name": "ipython",
    "version": 3
   },
   "file_extension": ".py",
   "mimetype": "text/x-python",
   "name": "python",
   "nbconvert_exporter": "python",
   "pygments_lexer": "ipython3",
   "version": "3.8.5"
  }
 },
 "nbformat": 4,
 "nbformat_minor": 4
}
