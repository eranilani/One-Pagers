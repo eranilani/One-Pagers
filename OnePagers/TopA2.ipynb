{
 "cells": [
  {
   "cell_type": "markdown",
   "metadata": {},
   "source": [
    "#### Data Import "
   ]
  },
  {
   "cell_type": "code",
   "execution_count": 1,
   "metadata": {},
   "outputs": [],
   "source": [
    "# Imports\n",
    "import pandas as pd\n",
    "import warnings\n",
    "from helpers import * \n",
    "\n",
    "with warnings.catch_warnings():\n",
    "    warnings.simplefilter('ignore')\n",
    "    \n",
    "    # Import entities / skills / wikipedia\n",
    "    entities = pd.read_csv(\"../data/classeek_entities.csv\")\n",
    "    skills = pd.read_csv(\"../data/classeek_skills.csv\")\n",
    "    alt_names = pd.read_csv(\"../data/classeek_alternative_names.csv\")\n",
    "    performances = pd.read_csv(\"../data/classeek_performances.csv\")\n",
    "    pieces = pd.read_csv(\"../data/classeek_pieces.csv\")\n",
    "    wikipedia_pv = pd.read_csv(\"../data/classeek_wikipedia_page_views.csv\")\n",
    "    mediamentions = pd.read_csv(\"../data/classeek_media_mentions.csv\")\n",
    "    biographies = pd.read_csv(\"../data/classeek_biographies.csv\")\n",
    "\n",
    "    entities_performances = pd.read_csv(\"../data/classeek_entities_performances.csv\")\n",
    "    entities_pieces = pd.read_csv(\"../data/classeek_entities_pieces.csv\")\n",
    "    entities_skills = pd.read_csv(\"../data/classeek_entity_skills.csv\")"
   ]
  },
  {
   "cell_type": "markdown",
   "metadata": {},
   "source": [
    "#\n",
    "# Serge Koussevitzky\n",
    "#### Entity ID : 64e2e1b0-cf8e-433e-9423-d0c2fe30aa52"
   ]
  },
  {
   "cell_type": "code",
   "execution_count": 2,
   "metadata": {},
   "outputs": [],
   "source": [
    "entity_id = '64e2e1b0-cf8e-433e-9423-d0c2fe30aa52'"
   ]
  },
  {
   "cell_type": "markdown",
   "metadata": {},
   "source": [
    "## Basic Informations "
   ]
  },
  {
   "cell_type": "code",
   "execution_count": 3,
   "metadata": {},
   "outputs": [
    {
     "data": {
      "text/html": [
       "<div>\n",
       "<style scoped>\n",
       "    .dataframe tbody tr th:only-of-type {\n",
       "        vertical-align: middle;\n",
       "    }\n",
       "\n",
       "    .dataframe tbody tr th {\n",
       "        vertical-align: top;\n",
       "    }\n",
       "\n",
       "    .dataframe thead th {\n",
       "        text-align: right;\n",
       "    }\n",
       "</style>\n",
       "<table border=\"1\" class=\"dataframe\">\n",
       "  <thead>\n",
       "    <tr style=\"text-align: right;\">\n",
       "      <th></th>\n",
       "      <th>id</th>\n",
       "      <th>name</th>\n",
       "      <th>gender</th>\n",
       "      <th>alive</th>\n",
       "      <th>birth_date</th>\n",
       "      <th>death_date</th>\n",
       "      <th>current_influence_percentile</th>\n",
       "    </tr>\n",
       "  </thead>\n",
       "  <tbody>\n",
       "    <tr>\n",
       "      <th>76419</th>\n",
       "      <td>64e2e1b0-cf8e-433e-9423-d0c2fe30aa52</td>\n",
       "      <td>Serge Koussevitzky</td>\n",
       "      <td>NaN</td>\n",
       "      <td>False</td>\n",
       "      <td>NaN</td>\n",
       "      <td>NaN</td>\n",
       "      <td>NaN</td>\n",
       "    </tr>\n",
       "  </tbody>\n",
       "</table>\n",
       "</div>"
      ],
      "text/plain": [
       "                                         id                name  gender  \\\n",
       "76419  64e2e1b0-cf8e-433e-9423-d0c2fe30aa52  Serge Koussevitzky     NaN   \n",
       "\n",
       "       alive birth_date death_date  current_influence_percentile  \n",
       "76419  False        NaN        NaN                           NaN  "
      ]
     },
     "execution_count": 3,
     "metadata": {},
     "output_type": "execute_result"
    }
   ],
   "source": [
    "# Basic information about the entity \n",
    "entity_info = get_info(entity_id, entities, entities_performances, entities_pieces, entities_skills, mediamentions, \n",
    "             wikipedia_pv, biographies, alt_names, include_lists = True)\n",
    "infos = ['id', 'name', 'gender', 'alive', 'birth_date', 'death_date', 'current_influence_percentile']\n",
    "entity_info.iloc[:, 0:7]"
   ]
  },
  {
   "cell_type": "code",
   "execution_count": 4,
   "metadata": {},
   "outputs": [
    {
     "data": {
      "text/html": [
       "<div>\n",
       "<style scoped>\n",
       "    .dataframe tbody tr th:only-of-type {\n",
       "        vertical-align: middle;\n",
       "    }\n",
       "\n",
       "    .dataframe tbody tr th {\n",
       "        vertical-align: top;\n",
       "    }\n",
       "\n",
       "    .dataframe thead th {\n",
       "        text-align: right;\n",
       "    }\n",
       "</style>\n",
       "<table border=\"1\" class=\"dataframe\">\n",
       "  <thead>\n",
       "    <tr style=\"text-align: right;\">\n",
       "      <th></th>\n",
       "      <th>nb_perf</th>\n",
       "      <th>nb_pieces</th>\n",
       "      <th>nb_media_mentions</th>\n",
       "      <th>nb_skills</th>\n",
       "      <th>nb_alt_names</th>\n",
       "      <th>nb_biographies</th>\n",
       "    </tr>\n",
       "  </thead>\n",
       "  <tbody>\n",
       "    <tr>\n",
       "      <th>76419</th>\n",
       "      <td>4389</td>\n",
       "      <td>1118</td>\n",
       "      <td>22</td>\n",
       "      <td>1</td>\n",
       "      <td>2</td>\n",
       "      <td>0</td>\n",
       "    </tr>\n",
       "  </tbody>\n",
       "</table>\n",
       "</div>"
      ],
      "text/plain": [
       "       nb_perf  nb_pieces  nb_media_mentions  nb_skills  nb_alt_names  \\\n",
       "76419     4389       1118                 22          1             2   \n",
       "\n",
       "       nb_biographies  \n",
       "76419               0  "
      ]
     },
     "execution_count": 4,
     "metadata": {},
     "output_type": "execute_result"
    }
   ],
   "source": [
    "# Number of cells in other tables linked to that entity \n",
    "entity_info.iloc[:, 7:13]"
   ]
  },
  {
   "cell_type": "markdown",
   "metadata": {},
   "source": [
    "## 1 - Performances "
   ]
  },
  {
   "cell_type": "code",
   "execution_count": 5,
   "metadata": {},
   "outputs": [
    {
     "data": {
      "text/html": [
       "<div>\n",
       "<style scoped>\n",
       "    .dataframe tbody tr th:only-of-type {\n",
       "        vertical-align: middle;\n",
       "    }\n",
       "\n",
       "    .dataframe tbody tr th {\n",
       "        vertical-align: top;\n",
       "    }\n",
       "\n",
       "    .dataframe thead th {\n",
       "        text-align: right;\n",
       "    }\n",
       "</style>\n",
       "<table border=\"1\" class=\"dataframe\">\n",
       "  <thead>\n",
       "    <tr style=\"text-align: right;\">\n",
       "      <th></th>\n",
       "      <th>date</th>\n",
       "      <th>venue</th>\n",
       "      <th>country</th>\n",
       "      <th>city</th>\n",
       "      <th>title</th>\n",
       "      <th>key</th>\n",
       "      <th>continent</th>\n",
       "    </tr>\n",
       "  </thead>\n",
       "  <tbody>\n",
       "    <tr>\n",
       "      <th>6826</th>\n",
       "      <td>1947-04-01 00:00:00.000000</td>\n",
       "      <td>Sanders Theatre, Harvard University, Cambridge</td>\n",
       "      <td>United States</td>\n",
       "      <td>NaN</td>\n",
       "      <td>Boston Symphony Orchestra concert program, Tri...</td>\n",
       "      <td>NaN</td>\n",
       "      <td>North America</td>\n",
       "    </tr>\n",
       "    <tr>\n",
       "      <th>6828</th>\n",
       "      <td>1931-04-06 00:00:00.000000</td>\n",
       "      <td>Boston Symphony Orchestra</td>\n",
       "      <td>United States</td>\n",
       "      <td>NaN</td>\n",
       "      <td>Boston Symphony Orchestra concert program, You...</td>\n",
       "      <td>NaN</td>\n",
       "      <td>North America</td>\n",
       "    </tr>\n",
       "    <tr>\n",
       "      <th>6829</th>\n",
       "      <td>1931-04-07 00:00:00.000000</td>\n",
       "      <td>Boston Symphony Orchestra</td>\n",
       "      <td>United States</td>\n",
       "      <td>NaN</td>\n",
       "      <td>Boston Symphony Orchestra concert program, You...</td>\n",
       "      <td>NaN</td>\n",
       "      <td>North America</td>\n",
       "    </tr>\n",
       "    <tr>\n",
       "      <th>6831</th>\n",
       "      <td>1935-04-16 00:00:00.000000</td>\n",
       "      <td>Boston Symphony Orchestra</td>\n",
       "      <td>United States</td>\n",
       "      <td>NaN</td>\n",
       "      <td>Boston Symphony Orchestra concert program, Tue...</td>\n",
       "      <td>NaN</td>\n",
       "      <td>North America</td>\n",
       "    </tr>\n",
       "    <tr>\n",
       "      <th>7005</th>\n",
       "      <td>1927-03-04 00:00:00.000000</td>\n",
       "      <td>Boston Symphony Orchestra</td>\n",
       "      <td>United States</td>\n",
       "      <td>NaN</td>\n",
       "      <td>Boston Symphony Orchestra concert program, Sub...</td>\n",
       "      <td>NaN</td>\n",
       "      <td>North America</td>\n",
       "    </tr>\n",
       "    <tr>\n",
       "      <th>7137</th>\n",
       "      <td>1933-10-31 00:00:00.000000</td>\n",
       "      <td>Boston Symphony Orchestra</td>\n",
       "      <td>United States</td>\n",
       "      <td>NaN</td>\n",
       "      <td>Boston Symphony Orchestra concert program, Tue...</td>\n",
       "      <td>NaN</td>\n",
       "      <td>North America</td>\n",
       "    </tr>\n",
       "    <tr>\n",
       "      <th>7258</th>\n",
       "      <td>1927-03-05 00:00:00.000000</td>\n",
       "      <td>Boston Symphony Orchestra</td>\n",
       "      <td>United States</td>\n",
       "      <td>NaN</td>\n",
       "      <td>Boston Symphony Orchestra concert program, Sub...</td>\n",
       "      <td>NaN</td>\n",
       "      <td>North America</td>\n",
       "    </tr>\n",
       "    <tr>\n",
       "      <th>7387</th>\n",
       "      <td>1938-02-09 00:00:00.000000</td>\n",
       "      <td>High School Auditorium, Montclair</td>\n",
       "      <td>United States</td>\n",
       "      <td>NaN</td>\n",
       "      <td>Boston Symphony Orchestra concert program, Tri...</td>\n",
       "      <td>NaN</td>\n",
       "      <td>North America</td>\n",
       "    </tr>\n",
       "    <tr>\n",
       "      <th>7388</th>\n",
       "      <td>1925-03-20 00:00:00.000000</td>\n",
       "      <td>Boston Symphony Orchestra</td>\n",
       "      <td>United States</td>\n",
       "      <td>NaN</td>\n",
       "      <td>Boston Symphony Orchestra concert program, Sub...</td>\n",
       "      <td>NaN</td>\n",
       "      <td>North America</td>\n",
       "    </tr>\n",
       "    <tr>\n",
       "      <th>7389</th>\n",
       "      <td>1925-03-21 00:00:00.000000</td>\n",
       "      <td>Boston Symphony Orchestra</td>\n",
       "      <td>United States</td>\n",
       "      <td>NaN</td>\n",
       "      <td>Boston Symphony Orchestra concert program, Sub...</td>\n",
       "      <td>NaN</td>\n",
       "      <td>North America</td>\n",
       "    </tr>\n",
       "  </tbody>\n",
       "</table>\n",
       "</div>"
      ],
      "text/plain": [
       "                            date  \\\n",
       "6826  1947-04-01 00:00:00.000000   \n",
       "6828  1931-04-06 00:00:00.000000   \n",
       "6829  1931-04-07 00:00:00.000000   \n",
       "6831  1935-04-16 00:00:00.000000   \n",
       "7005  1927-03-04 00:00:00.000000   \n",
       "7137  1933-10-31 00:00:00.000000   \n",
       "7258  1927-03-05 00:00:00.000000   \n",
       "7387  1938-02-09 00:00:00.000000   \n",
       "7388  1925-03-20 00:00:00.000000   \n",
       "7389  1925-03-21 00:00:00.000000   \n",
       "\n",
       "                                               venue        country city  \\\n",
       "6826  Sanders Theatre, Harvard University, Cambridge  United States  NaN   \n",
       "6828                       Boston Symphony Orchestra  United States  NaN   \n",
       "6829                       Boston Symphony Orchestra  United States  NaN   \n",
       "6831                       Boston Symphony Orchestra  United States  NaN   \n",
       "7005                       Boston Symphony Orchestra  United States  NaN   \n",
       "7137                       Boston Symphony Orchestra  United States  NaN   \n",
       "7258                       Boston Symphony Orchestra  United States  NaN   \n",
       "7387               High School Auditorium, Montclair  United States  NaN   \n",
       "7388                       Boston Symphony Orchestra  United States  NaN   \n",
       "7389                       Boston Symphony Orchestra  United States  NaN   \n",
       "\n",
       "                                                  title  key      continent  \n",
       "6826  Boston Symphony Orchestra concert program, Tri...  NaN  North America  \n",
       "6828  Boston Symphony Orchestra concert program, You...  NaN  North America  \n",
       "6829  Boston Symphony Orchestra concert program, You...  NaN  North America  \n",
       "6831  Boston Symphony Orchestra concert program, Tue...  NaN  North America  \n",
       "7005  Boston Symphony Orchestra concert program, Sub...  NaN  North America  \n",
       "7137  Boston Symphony Orchestra concert program, Tue...  NaN  North America  \n",
       "7258  Boston Symphony Orchestra concert program, Sub...  NaN  North America  \n",
       "7387  Boston Symphony Orchestra concert program, Tri...  NaN  North America  \n",
       "7388  Boston Symphony Orchestra concert program, Sub...  NaN  North America  \n",
       "7389  Boston Symphony Orchestra concert program, Sub...  NaN  North America  "
      ]
     },
     "execution_count": 5,
     "metadata": {},
     "output_type": "execute_result"
    }
   ],
   "source": [
    "# Extract performances \n",
    "df_perfs = performances[performances.id.apply(lambda x : x in entity_info.perf_list.to_list()[0])].loc[:, ['date', 'venue', 'country', 'city', 'title', 'key', 'continent']]\n",
    "df_perfs.head(10)"
   ]
  },
  {
   "cell_type": "markdown",
   "metadata": {},
   "source": [
    "## 2 - Pieces "
   ]
  },
  {
   "cell_type": "code",
   "execution_count": 6,
   "metadata": {},
   "outputs": [
    {
     "data": {
      "text/html": [
       "<div>\n",
       "<style scoped>\n",
       "    .dataframe tbody tr th:only-of-type {\n",
       "        vertical-align: middle;\n",
       "    }\n",
       "\n",
       "    .dataframe tbody tr th {\n",
       "        vertical-align: top;\n",
       "    }\n",
       "\n",
       "    .dataframe thead th {\n",
       "        text-align: right;\n",
       "    }\n",
       "</style>\n",
       "<table border=\"1\" class=\"dataframe\">\n",
       "  <thead>\n",
       "    <tr style=\"text-align: right;\">\n",
       "      <th></th>\n",
       "      <th>composer</th>\n",
       "      <th>title</th>\n",
       "      <th>source</th>\n",
       "    </tr>\n",
       "  </thead>\n",
       "  <tbody>\n",
       "    <tr>\n",
       "      <th>725</th>\n",
       "      <td>Bohuslav  Martinu</td>\n",
       "      <td>SYMPHONY NO.   3</td>\n",
       "      <td>15</td>\n",
       "    </tr>\n",
       "    <tr>\n",
       "      <th>1114</th>\n",
       "      <td>Richard Wagner</td>\n",
       "      <td>OVERTURE TO RIENZI</td>\n",
       "      <td>15</td>\n",
       "    </tr>\n",
       "    <tr>\n",
       "      <th>2377</th>\n",
       "      <td>Manuel  Falla</td>\n",
       "      <td>THREE DANCES FROM 'EL SOMBRERO DE TRES PICOS,'...</td>\n",
       "      <td>15</td>\n",
       "    </tr>\n",
       "    <tr>\n",
       "      <th>2379</th>\n",
       "      <td>Sergei  Rachmaninoff</td>\n",
       "      <td>THE ISLE OF THE DEAD, OPUS 29</td>\n",
       "      <td>15</td>\n",
       "    </tr>\n",
       "    <tr>\n",
       "      <th>2381</th>\n",
       "      <td>Alexander  Borodin</td>\n",
       "      <td>'POLOVTZIAN DANCES' FROM PRINCE IGOR</td>\n",
       "      <td>15</td>\n",
       "    </tr>\n",
       "    <tr>\n",
       "      <th>2382</th>\n",
       "      <td>Johannes Brahms</td>\n",
       "      <td>VARIATIONS ON A THEME BY HAYDN, OPUS 56A</td>\n",
       "      <td>15</td>\n",
       "    </tr>\n",
       "    <tr>\n",
       "      <th>2385</th>\n",
       "      <td>Maurice  Ravel</td>\n",
       "      <td>LA VALSE, POÈME CHORÉOGRAPHIQUE</td>\n",
       "      <td>15</td>\n",
       "    </tr>\n",
       "    <tr>\n",
       "      <th>2386</th>\n",
       "      <td>Robert Schumann</td>\n",
       "      <td>SYMPHONY NO. 1 IN B-FLAT MAJOR, OPUS 38, 'SPRING'</td>\n",
       "      <td>15</td>\n",
       "    </tr>\n",
       "    <tr>\n",
       "      <th>2387</th>\n",
       "      <td>Claude  Debussy</td>\n",
       "      <td>PRELUDE TO THE AFTERNOON OF A FAUN</td>\n",
       "      <td>15</td>\n",
       "    </tr>\n",
       "    <tr>\n",
       "      <th>2388</th>\n",
       "      <td>Franz  Liszt</td>\n",
       "      <td>CONCERTO NO. 1 IN E-FLAT MAJOR FOR PIANO AND O...</td>\n",
       "      <td>15</td>\n",
       "    </tr>\n",
       "  </tbody>\n",
       "</table>\n",
       "</div>"
      ],
      "text/plain": [
       "                  composer                                              title  \\\n",
       "725      Bohuslav  Martinu                                   SYMPHONY NO.   3   \n",
       "1114        Richard Wagner                                 OVERTURE TO RIENZI   \n",
       "2377         Manuel  Falla  THREE DANCES FROM 'EL SOMBRERO DE TRES PICOS,'...   \n",
       "2379  Sergei  Rachmaninoff                      THE ISLE OF THE DEAD, OPUS 29   \n",
       "2381    Alexander  Borodin               'POLOVTZIAN DANCES' FROM PRINCE IGOR   \n",
       "2382       Johannes Brahms           VARIATIONS ON A THEME BY HAYDN, OPUS 56A   \n",
       "2385        Maurice  Ravel                    LA VALSE, POÈME CHORÉOGRAPHIQUE   \n",
       "2386       Robert Schumann  SYMPHONY NO. 1 IN B-FLAT MAJOR, OPUS 38, 'SPRING'   \n",
       "2387       Claude  Debussy                 PRELUDE TO THE AFTERNOON OF A FAUN   \n",
       "2388          Franz  Liszt  CONCERTO NO. 1 IN E-FLAT MAJOR FOR PIANO AND O...   \n",
       "\n",
       "      source  \n",
       "725       15  \n",
       "1114      15  \n",
       "2377      15  \n",
       "2379      15  \n",
       "2381      15  \n",
       "2382      15  \n",
       "2385      15  \n",
       "2386      15  \n",
       "2387      15  \n",
       "2388      15  "
      ]
     },
     "execution_count": 6,
     "metadata": {},
     "output_type": "execute_result"
    }
   ],
   "source": [
    "df_pieces = pieces[pieces.id.apply(lambda x : x in entity_info.pieces_list.to_list()[0])]\n",
    "df_pieces.loc[:, ['composer', 'title', 'source']].head(10)"
   ]
  },
  {
   "cell_type": "markdown",
   "metadata": {},
   "source": [
    "## 3 - Media mentions "
   ]
  },
  {
   "cell_type": "code",
   "execution_count": 7,
   "metadata": {},
   "outputs": [
    {
     "data": {
      "text/html": [
       "<div>\n",
       "<style scoped>\n",
       "    .dataframe tbody tr th:only-of-type {\n",
       "        vertical-align: middle;\n",
       "    }\n",
       "\n",
       "    .dataframe tbody tr th {\n",
       "        vertical-align: top;\n",
       "    }\n",
       "\n",
       "    .dataframe thead th {\n",
       "        text-align: right;\n",
       "    }\n",
       "</style>\n",
       "<table border=\"1\" class=\"dataframe\">\n",
       "  <thead>\n",
       "    <tr style=\"text-align: right;\">\n",
       "      <th></th>\n",
       "      <th>comparable_text</th>\n",
       "      <th>url</th>\n",
       "      <th>header_text</th>\n",
       "    </tr>\n",
       "  </thead>\n",
       "  <tbody>\n",
       "    <tr>\n",
       "      <th>23609</th>\n",
       "      <td>\\nArticleRuth Posselt: American Violinist. Wor...</td>\n",
       "      <td>NaN</td>\n",
       "      <td>NaN</td>\n",
       "    </tr>\n",
       "    <tr>\n",
       "      <th>74338</th>\n",
       "      <td>Forgotten symphonies: the hidden giants of Ame...</td>\n",
       "      <td>https://www.gramophone.co.uk/features/article/...</td>\n",
       "      <td>Forgotten symphonies: the hidden giants of Ame...</td>\n",
       "    </tr>\n",
       "    <tr>\n",
       "      <th>74339</th>\n",
       "      <td>Debussy's La mer: a complete guide to the best...</td>\n",
       "      <td>https://www.gramophone.co.uk/features/article/...</td>\n",
       "      <td>Debussy's La mer: a complete guide to the best...</td>\n",
       "    </tr>\n",
       "    <tr>\n",
       "      <th>74340</th>\n",
       "      <td>The 50 greatest conductors of all time</td>\n",
       "      <td>https://www.gramophone.co.uk/features/article/...</td>\n",
       "      <td>The 50 greatest conductors of all time</td>\n",
       "    </tr>\n",
       "    <tr>\n",
       "      <th>74341</th>\n",
       "      <td>Why Leonard Bernstein's music demands to be da...</td>\n",
       "      <td>https://www.gramophone.co.uk/features/article/...</td>\n",
       "      <td>Why Leonard Bernstein's music demands to be da...</td>\n",
       "    </tr>\n",
       "    <tr>\n",
       "      <th>74342</th>\n",
       "      <td>Alleluias: a specialist's guide</td>\n",
       "      <td>https://www.gramophone.co.uk/features/article/...</td>\n",
       "      <td>Alleluias: a specialist's guide</td>\n",
       "    </tr>\n",
       "    <tr>\n",
       "      <th>74343</th>\n",
       "      <td>Martinů on record</td>\n",
       "      <td>https://www.gramophone.co.uk/features/article/...</td>\n",
       "      <td>Martinů on record</td>\n",
       "    </tr>\n",
       "    <tr>\n",
       "      <th>74344</th>\n",
       "      <td>A guide to the best recordings of Beethoven's ...</td>\n",
       "      <td>https://www.gramophone.co.uk/features/article/...</td>\n",
       "      <td>A guide to the best recordings of Beethoven's ...</td>\n",
       "    </tr>\n",
       "    <tr>\n",
       "      <th>74345</th>\n",
       "      <td>Béla Bartók – the life and music of the Hungar...</td>\n",
       "      <td>https://www.gramophone.co.uk/features/article/...</td>\n",
       "      <td>Béla Bartók – the life and music of the Hungar...</td>\n",
       "    </tr>\n",
       "    <tr>\n",
       "      <th>74346</th>\n",
       "      <td>Prokofiev's Peter and the Wolf – which recordi...</td>\n",
       "      <td>https://www.gramophone.co.uk/features/article/...</td>\n",
       "      <td>Prokofiev's Peter and the Wolf – which recordi...</td>\n",
       "    </tr>\n",
       "  </tbody>\n",
       "</table>\n",
       "</div>"
      ],
      "text/plain": [
       "                                         comparable_text  \\\n",
       "23609  \\nArticleRuth Posselt: American Violinist. Wor...   \n",
       "74338  Forgotten symphonies: the hidden giants of Ame...   \n",
       "74339  Debussy's La mer: a complete guide to the best...   \n",
       "74340             The 50 greatest conductors of all time   \n",
       "74341  Why Leonard Bernstein's music demands to be da...   \n",
       "74342                    Alleluias: a specialist's guide   \n",
       "74343                                  Martinů on record   \n",
       "74344  A guide to the best recordings of Beethoven's ...   \n",
       "74345  Béla Bartók – the life and music of the Hungar...   \n",
       "74346  Prokofiev's Peter and the Wolf – which recordi...   \n",
       "\n",
       "                                                     url  \\\n",
       "23609                                                NaN   \n",
       "74338  https://www.gramophone.co.uk/features/article/...   \n",
       "74339  https://www.gramophone.co.uk/features/article/...   \n",
       "74340  https://www.gramophone.co.uk/features/article/...   \n",
       "74341  https://www.gramophone.co.uk/features/article/...   \n",
       "74342  https://www.gramophone.co.uk/features/article/...   \n",
       "74343  https://www.gramophone.co.uk/features/article/...   \n",
       "74344  https://www.gramophone.co.uk/features/article/...   \n",
       "74345  https://www.gramophone.co.uk/features/article/...   \n",
       "74346  https://www.gramophone.co.uk/features/article/...   \n",
       "\n",
       "                                             header_text  \n",
       "23609                                                NaN  \n",
       "74338  Forgotten symphonies: the hidden giants of Ame...  \n",
       "74339  Debussy's La mer: a complete guide to the best...  \n",
       "74340             The 50 greatest conductors of all time  \n",
       "74341  Why Leonard Bernstein's music demands to be da...  \n",
       "74342                    Alleluias: a specialist's guide  \n",
       "74343                                  Martinů on record  \n",
       "74344  A guide to the best recordings of Beethoven's ...  \n",
       "74345  Béla Bartók – the life and music of the Hungar...  \n",
       "74346  Prokofiev's Peter and the Wolf – which recordi...  "
      ]
     },
     "execution_count": 7,
     "metadata": {},
     "output_type": "execute_result"
    }
   ],
   "source": [
    "df_medias = mediamentions[mediamentions.id.apply(lambda x : x in entity_info.media_mentions.to_list()[0])]\n",
    "df_medias.loc[:, ['comparable_text', 'url', 'header_text']].head(10)"
   ]
  },
  {
   "cell_type": "code",
   "execution_count": 8,
   "metadata": {},
   "outputs": [
    {
     "data": {
      "text/plain": [
       "\"Debussy's La mer: a complete guide to the best recordings\""
      ]
     },
     "execution_count": 8,
     "metadata": {},
     "output_type": "execute_result"
    }
   ],
   "source": [
    "# One example of media mention\n",
    "df_medias.iloc[2].comparable_text"
   ]
  },
  {
   "cell_type": "markdown",
   "metadata": {},
   "source": [
    "## 4 - Wikipedia Page Views "
   ]
  },
  {
   "cell_type": "code",
   "execution_count": 9,
   "metadata": {},
   "outputs": [
    {
     "data": {
      "text/html": [
       "<div>\n",
       "<style scoped>\n",
       "    .dataframe tbody tr th:only-of-type {\n",
       "        vertical-align: middle;\n",
       "    }\n",
       "\n",
       "    .dataframe tbody tr th {\n",
       "        vertical-align: top;\n",
       "    }\n",
       "\n",
       "    .dataframe thead th {\n",
       "        text-align: right;\n",
       "    }\n",
       "</style>\n",
       "<table border=\"1\" class=\"dataframe\">\n",
       "  <thead>\n",
       "    <tr style=\"text-align: right;\">\n",
       "      <th></th>\n",
       "      <th>en</th>\n",
       "      <th>fr</th>\n",
       "      <th>de</th>\n",
       "      <th>it</th>\n",
       "      <th>ru</th>\n",
       "      <th>period_start_date</th>\n",
       "    </tr>\n",
       "  </thead>\n",
       "  <tbody>\n",
       "    <tr>\n",
       "      <th>133670</th>\n",
       "      <td>2051.0</td>\n",
       "      <td>177.0</td>\n",
       "      <td>111.0</td>\n",
       "      <td>29.0</td>\n",
       "      <td>NaN</td>\n",
       "      <td>2015-10-01</td>\n",
       "    </tr>\n",
       "    <tr>\n",
       "      <th>133671</th>\n",
       "      <td>2258.0</td>\n",
       "      <td>218.0</td>\n",
       "      <td>23.0</td>\n",
       "      <td>24.0</td>\n",
       "      <td>NaN</td>\n",
       "      <td>2015-11-01</td>\n",
       "    </tr>\n",
       "    <tr>\n",
       "      <th>133672</th>\n",
       "      <td>2126.0</td>\n",
       "      <td>155.0</td>\n",
       "      <td>33.0</td>\n",
       "      <td>35.0</td>\n",
       "      <td>NaN</td>\n",
       "      <td>2015-12-01</td>\n",
       "    </tr>\n",
       "    <tr>\n",
       "      <th>133673</th>\n",
       "      <td>1822.0</td>\n",
       "      <td>196.0</td>\n",
       "      <td>43.0</td>\n",
       "      <td>35.0</td>\n",
       "      <td>NaN</td>\n",
       "      <td>2016-01-01</td>\n",
       "    </tr>\n",
       "    <tr>\n",
       "      <th>133674</th>\n",
       "      <td>1856.0</td>\n",
       "      <td>187.0</td>\n",
       "      <td>28.0</td>\n",
       "      <td>27.0</td>\n",
       "      <td>NaN</td>\n",
       "      <td>2016-02-01</td>\n",
       "    </tr>\n",
       "  </tbody>\n",
       "</table>\n",
       "</div>"
      ],
      "text/plain": [
       "            en     fr     de    it  ru period_start_date\n",
       "133670  2051.0  177.0  111.0  29.0 NaN        2015-10-01\n",
       "133671  2258.0  218.0   23.0  24.0 NaN        2015-11-01\n",
       "133672  2126.0  155.0   33.0  35.0 NaN        2015-12-01\n",
       "133673  1822.0  196.0   43.0  35.0 NaN        2016-01-01\n",
       "133674  1856.0  187.0   28.0  27.0 NaN        2016-02-01"
      ]
     },
     "execution_count": 9,
     "metadata": {},
     "output_type": "execute_result"
    }
   ],
   "source": [
    "df_wiki = wikipedia_pv[wikipedia_pv.id.apply(lambda x : x in entity_info.wiki_pv.to_list()[0])]\n",
    "df_wiki.loc[:, ['en', 'fr', 'de', 'it', 'ru', 'period_start_date']].head(5)"
   ]
  },
  {
   "cell_type": "code",
   "execution_count": 10,
   "metadata": {},
   "outputs": [
    {
     "data": {
      "text/plain": [
       "[<matplotlib.lines.Line2D at 0x7f9057206340>]"
      ]
     },
     "execution_count": 10,
     "metadata": {},
     "output_type": "execute_result"
    },
    {
     "data": {
      "image/png": "[encoded data removed]",
      "text/plain": [
       "<Figure size 1296x360 with 1 Axes>"
      ]
     },
     "metadata": {
      "needs_background": "light"
     },
     "output_type": "display_data"
    }
   ],
   "source": [
    "import matplotlib.pyplot as plt\n",
    "x = df_wiki.period_start_date.to_list()\n",
    "y = df_wiki.en.to_list()\n",
    "plt.figure(figsize=[18, 5])\n",
    "plt.xticks(rotation=45)\n",
    "plt.plot(x, y)"
   ]
  },
  {
   "cell_type": "markdown",
   "metadata": {},
   "source": [
    "## 5 - Skills "
   ]
  },
  {
   "cell_type": "code",
   "execution_count": 11,
   "metadata": {},
   "outputs": [
    {
     "data": {
      "text/html": [
       "<div>\n",
       "<style scoped>\n",
       "    .dataframe tbody tr th:only-of-type {\n",
       "        vertical-align: middle;\n",
       "    }\n",
       "\n",
       "    .dataframe tbody tr th {\n",
       "        vertical-align: top;\n",
       "    }\n",
       "\n",
       "    .dataframe thead th {\n",
       "        text-align: right;\n",
       "    }\n",
       "</style>\n",
       "<table border=\"1\" class=\"dataframe\">\n",
       "  <thead>\n",
       "    <tr style=\"text-align: right;\">\n",
       "      <th></th>\n",
       "      <th>name</th>\n",
       "    </tr>\n",
       "  </thead>\n",
       "  <tbody>\n",
       "    <tr>\n",
       "      <th>3</th>\n",
       "      <td>Conductor</td>\n",
       "    </tr>\n",
       "  </tbody>\n",
       "</table>\n",
       "</div>"
      ],
      "text/plain": [
       "        name\n",
       "3  Conductor"
      ]
     },
     "execution_count": 11,
     "metadata": {},
     "output_type": "execute_result"
    }
   ],
   "source": [
    "df_skills = skills[skills.id.apply(lambda x : x in entity_info.skills_list.to_list()[0])]\n",
    "df_skills.loc[:, ['name']]"
   ]
  },
  {
   "cell_type": "markdown",
   "metadata": {},
   "source": [
    "## 6 - Alternative Names \n",
    "\n",
    "Alternative names are the names used by developpers to map down several entities to one during scraping operations. They are not related to the aliases found with fuzzy string matching during cleaning. "
   ]
  },
  {
   "cell_type": "code",
   "execution_count": 12,
   "metadata": {},
   "outputs": [
    {
     "data": {
      "text/plain": [
       "[['koussevitzky serge', 'serge koussevitzky']]"
      ]
     },
     "execution_count": 12,
     "metadata": {},
     "output_type": "execute_result"
    }
   ],
   "source": [
    "entity_info.alter_names.to_list()"
   ]
  },
  {
   "cell_type": "markdown",
   "metadata": {},
   "source": [
    "## 7 - Biographies "
   ]
  },
  {
   "cell_type": "code",
   "execution_count": 14,
   "metadata": {},
   "outputs": [
    {
     "data": {
      "text/html": [
       "<div>\n",
       "<style scoped>\n",
       "    .dataframe tbody tr th:only-of-type {\n",
       "        vertical-align: middle;\n",
       "    }\n",
       "\n",
       "    .dataframe tbody tr th {\n",
       "        vertical-align: top;\n",
       "    }\n",
       "\n",
       "    .dataframe thead th {\n",
       "        text-align: right;\n",
       "    }\n",
       "</style>\n",
       "<table border=\"1\" class=\"dataframe\">\n",
       "  <thead>\n",
       "    <tr style=\"text-align: right;\">\n",
       "      <th></th>\n",
       "      <th>detail</th>\n",
       "      <th>year</th>\n",
       "      <th>source</th>\n",
       "    </tr>\n",
       "  </thead>\n",
       "  <tbody>\n",
       "  </tbody>\n",
       "</table>\n",
       "</div>"
      ],
      "text/plain": [
       "Empty DataFrame\n",
       "Columns: [detail, year, source]\n",
       "Index: []"
      ]
     },
     "execution_count": 14,
     "metadata": {},
     "output_type": "execute_result"
    }
   ],
   "source": [
    "df_bios = biographies[biographies.id.apply(lambda x : x in entity_info.bios_list.to_list()[0])]\n",
    "df_bios.loc[:, ['detail', 'year', 'source']]"
   ]
  },
  {
   "cell_type": "code",
   "execution_count": 15,
   "metadata": {},
   "outputs": [],
   "source": [
    "# One bography example \n",
    "if len(df_bios) > 0 : \n",
    "    df_bios.iloc[0].detail"
   ]
  },
  {
   "cell_type": "code",
   "execution_count": null,
   "metadata": {},
   "outputs": [],
   "source": []
  }
 ],
 "metadata": {
  "kernelspec": {
   "display_name": "Python 3",
   "language": "python",
   "name": "python3"
  },
  "language_info": {
   "codemirror_mode": {
    "name": "ipython",
    "version": 3
   },
   "file_extension": ".py",
   "mimetype": "text/x-python",
   "name": "python",
   "nbconvert_exporter": "python",
   "pygments_lexer": "ipython3",
   "version": "3.8.5"
  }
 },
 "nbformat": 4,
 "nbformat_minor": 4
}
